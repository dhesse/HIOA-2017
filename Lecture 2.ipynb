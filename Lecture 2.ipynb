{
 "cells": [
  {
   "cell_type": "markdown",
   "metadata": {},
   "source": [
    "# Recap"
   ]
  },
  {
   "cell_type": "code",
   "execution_count": 1,
   "metadata": {
    "collapsed": true
   },
   "outputs": [],
   "source": [
    "my_var = 42"
   ]
  },
  {
   "cell_type": "code",
   "execution_count": 2,
   "metadata": {},
   "outputs": [
    {
     "data": {
      "text/plain": [
       "42"
      ]
     },
     "execution_count": 2,
     "metadata": {},
     "output_type": "execute_result"
    }
   ],
   "source": [
    "my_var"
   ]
  },
  {
   "cell_type": "code",
   "execution_count": 3,
   "metadata": {
    "collapsed": true
   },
   "outputs": [],
   "source": [
    "my_string = \"this is a string\""
   ]
  },
  {
   "cell_type": "code",
   "execution_count": 4,
   "metadata": {},
   "outputs": [
    {
     "data": {
      "text/plain": [
       "True"
      ]
     },
     "execution_count": 4,
     "metadata": {},
     "output_type": "execute_result"
    }
   ],
   "source": [
    "5 > 4"
   ]
  },
  {
   "cell_type": "code",
   "execution_count": 5,
   "metadata": {},
   "outputs": [
    {
     "data": {
      "text/plain": [
       "4.818181818181818"
      ]
     },
     "execution_count": 5,
     "metadata": {},
     "output_type": "execute_result"
    }
   ],
   "source": [
    "53 / 11"
   ]
  },
  {
   "cell_type": "code",
   "execution_count": 15,
   "metadata": {},
   "outputs": [
    {
     "data": {
      "text/plain": [
       "'The number is 53.2'"
      ]
     },
     "execution_count": 15,
     "metadata": {},
     "output_type": "execute_result"
    }
   ],
   "source": [
    "\"The number is {0:.1f}\".format(53.213492)"
   ]
  },
  {
   "cell_type": "code",
   "execution_count": 6,
   "metadata": {
    "collapsed": true
   },
   "outputs": [],
   "source": [
    "my_list = ['foo', 42, True]"
   ]
  },
  {
   "cell_type": "code",
   "execution_count": 16,
   "metadata": {
    "collapsed": true
   },
   "outputs": [],
   "source": [
    "my_list.append([1,2,3])"
   ]
  },
  {
   "cell_type": "code",
   "execution_count": 17,
   "metadata": {},
   "outputs": [
    {
     "data": {
      "text/plain": [
       "['foo', 42, True, [1, 2, 3]]"
      ]
     },
     "execution_count": 17,
     "metadata": {},
     "output_type": "execute_result"
    }
   ],
   "source": [
    "my_list"
   ]
  },
  {
   "cell_type": "code",
   "execution_count": 18,
   "metadata": {},
   "outputs": [
    {
     "data": {
      "text/plain": [
       "True"
      ]
     },
     "execution_count": 18,
     "metadata": {},
     "output_type": "execute_result"
    }
   ],
   "source": [
    "my_list[2]"
   ]
  },
  {
   "cell_type": "code",
   "execution_count": 19,
   "metadata": {},
   "outputs": [
    {
     "data": {
      "text/plain": [
       "4"
      ]
     },
     "execution_count": 19,
     "metadata": {},
     "output_type": "execute_result"
    }
   ],
   "source": [
    "len(my_list)"
   ]
  },
  {
   "cell_type": "code",
   "execution_count": 21,
   "metadata": {},
   "outputs": [
    {
     "ename": "IndexError",
     "evalue": "list index out of range",
     "output_type": "error",
     "traceback": [
      "\u001b[0;31m---------------------------------------------------------------------------\u001b[0m",
      "\u001b[0;31mIndexError\u001b[0m                                Traceback (most recent call last)",
      "\u001b[0;32m<ipython-input-21-e3c7f5a07ede>\u001b[0m in \u001b[0;36m<module>\u001b[0;34m()\u001b[0m\n\u001b[0;32m----> 1\u001b[0;31m \u001b[0mmy_list\u001b[0m\u001b[0;34m[\u001b[0m\u001b[0;36m4\u001b[0m\u001b[0;34m]\u001b[0m\u001b[0;34m\u001b[0m\u001b[0m\n\u001b[0m",
      "\u001b[0;31mIndexError\u001b[0m: list index out of range"
     ]
    }
   ],
   "source": [
    "my_list[4]"
   ]
  },
  {
   "cell_type": "code",
   "execution_count": 22,
   "metadata": {},
   "outputs": [
    {
     "data": {
      "text/plain": [
       "True"
      ]
     },
     "execution_count": 22,
     "metadata": {},
     "output_type": "execute_result"
    }
   ],
   "source": [
    "my_list[-2]"
   ]
  },
  {
   "cell_type": "code",
   "execution_count": 23,
   "metadata": {},
   "outputs": [
    {
     "name": "stdout",
     "output_type": "stream",
     "text": [
      "foo\n",
      "42\n",
      "True\n",
      "[1, 2, 3]\n"
     ]
    }
   ],
   "source": [
    "for element in my_list:\n",
    "    print(element)"
   ]
  },
  {
   "cell_type": "code",
   "execution_count": 26,
   "metadata": {},
   "outputs": [
    {
     "name": "stdout",
     "output_type": "stream",
     "text": [
      "It's false.\n"
     ]
    }
   ],
   "source": [
    "if 4 < 3:\n",
    "    print(\"It's true.\")\n",
    "else:\n",
    "    print(\"It's false.\")"
   ]
  },
  {
   "cell_type": "code",
   "execution_count": 27,
   "metadata": {
    "collapsed": true
   },
   "outputs": [
    {
     "name": "stdout",
     "output_type": "stream",
     "text": [
      "Week,machine learning,big data,data science\n",
      "\n",
      "2011-12-04,18,14,9\n",
      "\n",
      "2011-12-11,17,13,9\n",
      "\n",
      "2011-12-18,15,13,6\n",
      "\n",
      "2011-12-25,12,11,5\n",
      "\n",
      "2012-01-01,13,15,8\n",
      "\n",
      "2012-01-08,16,17,10\n",
      "\n",
      "2012-01-15,14,17,8\n",
      "\n",
      "2012-01-22,14,17,10\n",
      "\n",
      "2012-01-29,16,18,9\n",
      "\n",
      "2012-02-05,16,19,9\n",
      "\n",
      "2012-02-12,17,22,9\n",
      "\n",
      "2012-02-19,17,21,8\n",
      "\n",
      "2012-02-26,17,21,9\n",
      "\n",
      "2012-03-04,16,22,9\n",
      "\n",
      "2012-03-11,17,22,7\n",
      "\n",
      "2012-03-18,16,22,8\n",
      "\n",
      "2012-03-25,16,24,8\n",
      "\n",
      "2012-04-01,16,23,8\n",
      "\n",
      "2012-04-08,15,24,7\n",
      "\n",
      "2012-04-15,17,25,9\n",
      "\n",
      "2012-04-22,18,27,8\n",
      "\n",
      "2012-04-29,18,27,7\n",
      "\n",
      "2012-05-06,17,26,8\n",
      "\n",
      "2012-05-13,16,25,8\n",
      "\n",
      "2012-05-20,16,26,7\n",
      "\n",
      "2012-05-27,15,26,7\n",
      "\n",
      "2012-06-03,14,27,6\n",
      "\n",
      "2012-06-10,15,28,8\n",
      "\n",
      "2012-06-17,14,27,7\n",
      "\n",
      "2012-06-24,16,26,7\n",
      "\n",
      "2012-07-01,14,23,7\n",
      "\n",
      "2012-07-08,15,27,6\n",
      "\n",
      "2012-07-15,13,26,7\n",
      "\n",
      "2012-07-22,14,28,6\n",
      "\n",
      "2012-07-29,15,24,6\n",
      "\n",
      "2012-08-05,15,28,7\n",
      "\n",
      "2012-08-12,15,27,8\n",
      "\n",
      "2012-08-19,16,30,9\n",
      "\n",
      "2012-08-26,16,30,12\n",
      "\n",
      "2012-09-02,18,29,12\n",
      "\n",
      "2012-09-09,18,34,13\n",
      "\n",
      "2012-09-16,18,35,13\n",
      "\n",
      "2012-09-23,19,38,11\n",
      "\n",
      "2012-09-30,17,36,10\n",
      "\n",
      "2012-10-07,18,37,10\n",
      "\n",
      "2012-10-14,20,38,10\n",
      "\n",
      "2012-10-21,19,41,9\n",
      "\n",
      "2012-10-28,18,41,8\n",
      "\n",
      "2012-11-04,18,40,10\n",
      "\n",
      "2012-11-11,17,41,10\n",
      "\n",
      "2012-11-18,16,37,9\n",
      "\n",
      "2012-11-25,17,41,10\n",
      "\n",
      "2012-12-02,17,43,10\n",
      "\n",
      "2012-12-09,18,42,11\n",
      "\n",
      "2012-12-16,16,36,8\n",
      "\n",
      "2012-12-23,13,24,5\n",
      "\n",
      "2012-12-30,14,31,8\n",
      "\n",
      "2013-01-06,17,42,10\n",
      "\n",
      "2013-01-13,17,42,11\n",
      "\n",
      "2013-01-20,17,42,10\n",
      "\n",
      "2013-01-27,19,44,12\n",
      "\n",
      "2013-02-03,17,45,11\n",
      "\n",
      "2013-02-10,17,45,11\n",
      "\n",
      "2013-02-17,17,47,9\n",
      "\n",
      "2013-02-24,19,50,11\n",
      "\n",
      "2013-03-03,19,51,10\n",
      "\n",
      "2013-03-10,18,54,10\n",
      "\n",
      "2013-03-17,17,54,9\n",
      "\n",
      "2013-03-24,18,54,10\n",
      "\n",
      "2013-03-31,17,56,10\n",
      "\n",
      "2013-04-07,19,53,12\n",
      "\n",
      "2013-04-14,17,53,12\n",
      "\n",
      "2013-04-21,21,58,11\n",
      "\n",
      "2013-04-28,19,54,12\n",
      "\n",
      "2013-05-05,19,53,12\n",
      "\n",
      "2013-05-12,19,61,11\n",
      "\n",
      "2013-05-19,19,53,11\n",
      "\n",
      "2013-05-26,17,55,10\n",
      "\n",
      "2013-06-02,17,59,11\n",
      "\n",
      "2013-06-09,17,58,10\n",
      "\n",
      "2013-06-16,17,56,11\n",
      "\n",
      "2013-06-23,17,57,10\n",
      "\n",
      "2013-06-30,17,51,9\n",
      "\n",
      "2013-07-07,17,55,10\n",
      "\n",
      "2013-07-14,17,55,10\n",
      "\n",
      "2013-07-21,17,54,9\n",
      "\n",
      "2013-07-28,17,54,10\n",
      "\n",
      "2013-08-04,16,55,10\n",
      "\n",
      "2013-08-11,16,51,10\n",
      "\n",
      "2013-08-18,17,59,12\n",
      "\n",
      "2013-08-25,18,57,16\n",
      "\n",
      "2013-09-01,18,59,16\n",
      "\n",
      "2013-09-08,19,61,16\n",
      "\n",
      "2013-09-15,19,61,15\n",
      "\n",
      "2013-09-22,20,65,15\n",
      "\n",
      "2013-09-29,21,64,13\n",
      "\n",
      "2013-10-06,22,65,13\n",
      "\n",
      "2013-10-13,23,65,13\n",
      "\n",
      "2013-10-20,22,67,14\n",
      "\n",
      "2013-10-27,23,65,14\n",
      "\n",
      "2013-11-03,22,65,14\n",
      "\n",
      "2013-11-10,22,68,14\n",
      "\n",
      "2013-11-17,23,66,15\n",
      "\n",
      "2013-11-24,22,62,12\n",
      "\n",
      "2013-12-01,23,65,15\n",
      "\n",
      "2013-12-08,21,62,14\n",
      "\n",
      "2013-12-15,20,58,13\n",
      "\n",
      "2013-12-22,17,44,9\n",
      "\n",
      "2013-12-29,17,48,10\n",
      "\n",
      "2014-01-05,22,65,14\n",
      "\n",
      "2014-01-12,23,67,16\n",
      "\n",
      "2014-01-19,22,70,16\n",
      "\n",
      "2014-01-26,23,73,17\n",
      "\n",
      "2014-02-02,22,70,15\n",
      "\n",
      "2014-02-09,25,71,16\n",
      "\n",
      "2014-02-16,24,74,16\n",
      "\n",
      "2014-02-23,23,76,16\n",
      "\n",
      "2014-03-02,25,73,17\n",
      "\n",
      "2014-03-09,24,77,15\n",
      "\n",
      "2014-03-16,24,77,16\n",
      "\n",
      "2014-03-23,23,80,15\n",
      "\n",
      "2014-03-30,26,77,16\n",
      "\n",
      "2014-04-06,26,76,18\n",
      "\n",
      "2014-04-13,25,72,15\n",
      "\n",
      "2014-04-20,24,73,16\n",
      "\n",
      "2014-04-27,24,71,17\n",
      "\n",
      "2014-05-04,24,79,18\n",
      "\n",
      "2014-05-11,24,72,16\n",
      "\n",
      "2014-05-18,23,78,15\n",
      "\n",
      "2014-05-25,22,70,15\n",
      "\n",
      "2014-06-01,23,77,16\n",
      "\n",
      "2014-06-08,23,75,16\n",
      "\n",
      "2014-06-15,23,76,15\n",
      "\n",
      "2014-06-22,23,74,16\n",
      "\n",
      "2014-06-29,22,73,15\n",
      "\n",
      "2014-07-06,24,75,15\n",
      "\n",
      "2014-07-13,25,80,16\n",
      "\n",
      "2014-07-20,25,79,16\n",
      "\n",
      "2014-07-27,23,77,14\n",
      "\n",
      "2014-08-03,24,78,16\n",
      "\n",
      "2014-08-10,24,74,21\n",
      "\n",
      "2014-08-17,25,80,21\n",
      "\n",
      "2014-08-24,25,75,23\n",
      "\n",
      "2014-08-31,25,77,23\n",
      "\n",
      "2014-09-07,25,81,24\n",
      "\n",
      "2014-09-14,28,92,23\n",
      "\n",
      "2014-09-21,28,89,21\n",
      "\n",
      "2014-09-28,27,87,21\n",
      "\n",
      "2014-10-05,29,89,21\n",
      "\n",
      "2014-10-12,28,86,20\n",
      "\n",
      "2014-10-19,28,83,21\n",
      "\n",
      "2014-10-26,29,89,22\n",
      "\n",
      "2014-11-02,29,88,21\n",
      "\n",
      "2014-11-09,29,89,22\n",
      "\n",
      "2014-11-16,31,89,22\n",
      "\n",
      "2014-11-23,26,81,18\n",
      "\n",
      "2014-11-30,29,86,22\n",
      "\n",
      "2014-12-07,31,82,21\n",
      "\n",
      "2014-12-14,29,81,19\n",
      "\n",
      "2014-12-21,22,58,14\n",
      "\n",
      "2014-12-28,21,56,15\n",
      "\n",
      "2015-01-04,29,78,23\n",
      "\n",
      "2015-01-11,31,82,24\n",
      "\n",
      "2015-01-18,30,86,23\n",
      "\n",
      "2015-01-25,29,87,25\n",
      "\n",
      "2015-02-01,32,87,25\n",
      "\n",
      "2015-02-08,31,86,23\n",
      "\n",
      "2015-02-15,30,87,23\n",
      "\n",
      "2015-02-22,32,91,23\n",
      "\n",
      "2015-03-01,33,90,22\n",
      "\n",
      "2015-03-08,32,96,24\n",
      "\n",
      "2015-03-15,31,91,24\n",
      "\n",
      "2015-03-22,32,99,23\n",
      "\n",
      "2015-03-29,32,87,23\n",
      "\n",
      "2015-04-05,36,87,24\n",
      "\n",
      "2015-04-12,35,93,24\n",
      "\n",
      "2015-04-19,33,91,23\n",
      "\n",
      "2015-04-26,35,88,25\n",
      "\n",
      "2015-05-03,33,87,24\n",
      "\n",
      "2015-05-10,33,86,25\n",
      "\n",
      "2015-05-17,33,88,23\n",
      "\n",
      "2015-05-24,32,84,23\n",
      "\n",
      "2015-05-31,33,85,25\n",
      "\n",
      "2015-06-07,34,87,24\n",
      "\n",
      "2015-06-14,33,85,24\n",
      "\n",
      "2015-06-21,33,85,24\n",
      "\n",
      "2015-06-28,32,80,24\n",
      "\n",
      "2015-07-05,34,80,24\n",
      "\n",
      "2015-07-12,34,77,25\n",
      "\n",
      "2015-07-19,33,80,23\n",
      "\n",
      "2015-07-26,34,76,26\n",
      "\n",
      "2015-08-02,33,76,26\n",
      "\n",
      "2015-08-09,32,79,27\n",
      "\n",
      "2015-08-16,34,81,28\n",
      "\n",
      "2015-08-23,35,83,31\n",
      "\n",
      "2015-08-30,35,82,34\n",
      "\n",
      "2015-09-06,37,90,33\n",
      "\n",
      "2015-09-13,40,91,35\n",
      "\n",
      "2015-09-20,40,90,33\n",
      "\n",
      "2015-09-27,39,93,32\n",
      "\n",
      "2015-10-04,41,94,31\n",
      "\n",
      "2015-10-11,41,94,31\n",
      "\n",
      "2015-10-18,39,87,32\n",
      "\n",
      "2015-10-25,41,91,31\n",
      "\n",
      "2015-11-01,42,90,33\n",
      "\n",
      "2015-11-08,49,84,32\n",
      "\n",
      "2015-11-15,45,91,30\n",
      "\n",
      "2015-11-22,41,88,26\n",
      "\n",
      "2015-11-29,43,86,31\n",
      "\n",
      "2015-12-06,43,88,31\n",
      "\n",
      "2015-12-13,45,85,29\n",
      "\n",
      "2015-12-20,36,62,24\n",
      "\n",
      "2015-12-27,32,59,24\n",
      "\n",
      "2016-01-03,42,83,33\n",
      "\n",
      "2016-01-10,44,87,35\n",
      "\n",
      "2016-01-17,47,93,37\n",
      "\n",
      "2016-01-24,49,92,37\n",
      "\n",
      "2016-01-31,46,94,35\n",
      "\n",
      "2016-02-07,45,95,33\n",
      "\n",
      "2016-02-14,44,96,34\n",
      "\n",
      "2016-02-21,48,100,34\n",
      "\n",
      "2016-02-28,49,94,34\n",
      "\n",
      "2016-03-06,52,97,35\n",
      "\n",
      "2016-03-13,51,94,34\n",
      "\n",
      "2016-03-20,51,84,32\n",
      "\n",
      "2016-03-27,52,89,34\n",
      "\n",
      "2016-04-03,53,92,35\n",
      "\n",
      "2016-04-10,54,94,35\n",
      "\n",
      "2016-04-17,54,92,35\n",
      "\n",
      "2016-04-24,52,93,34\n",
      "\n",
      "2016-05-01,52,87,35\n",
      "\n",
      "2016-05-08,52,95,40\n",
      "\n",
      "2016-05-15,55,87,36\n",
      "\n",
      "2016-05-22,54,89,36\n",
      "\n",
      "2016-05-29,52,90,36\n",
      "\n",
      "2016-06-05,55,87,36\n",
      "\n",
      "2016-06-12,54,87,36\n",
      "\n",
      "2016-06-19,55,86,36\n",
      "\n",
      "2016-06-26,53,88,34\n",
      "\n",
      "2016-07-03,51,79,33\n",
      "\n",
      "2016-07-10,51,85,35\n",
      "\n",
      "2016-07-17,53,85,36\n",
      "\n",
      "2016-07-24,55,88,37\n",
      "\n",
      "2016-07-31,54,80,35\n",
      "\n",
      "2016-08-07,54,78,36\n",
      "\n",
      "2016-08-14,53,79,39\n",
      "\n",
      "2016-08-21,58,86,46\n",
      "\n",
      "2016-08-28,60,90,47\n",
      "\n",
      "2016-09-04,57,88,45\n",
      "\n",
      "2016-09-11,63,94,47\n",
      "\n",
      "2016-09-18,67,96,49\n",
      "\n",
      "2016-09-25,68,99,49\n",
      "\n",
      "2016-10-02,67,93,46\n",
      "\n",
      "2016-10-09,64,89,45\n",
      "\n",
      "2016-10-16,68,95,45\n",
      "\n",
      "2016-10-23,69,92,43\n",
      "\n",
      "2016-10-30,66,91,46\n",
      "\n",
      "2016-11-06,64,90,40\n",
      "\n",
      "2016-11-13,71,97,46\n",
      "\n",
      "2016-11-20,68,90,40\n",
      "\n",
      "2016-11-27,71,93,46\n",
      "\n"
     ]
    }
   ],
   "source": [
    "with open('data/trends.csv') as csv_file:\n",
    "    for line in csv_file:\n",
    "        print(line)"
   ]
  },
  {
   "cell_type": "markdown",
   "metadata": {},
   "source": [
    "# Dictionaries"
   ]
  },
  {
   "cell_type": "code",
   "execution_count": 28,
   "metadata": {
    "collapsed": true
   },
   "outputs": [],
   "source": [
    "my_name = {'first': 'Richard',\n",
    "           'last': 'Dawkins'}"
   ]
  },
  {
   "cell_type": "code",
   "execution_count": 29,
   "metadata": {},
   "outputs": [
    {
     "data": {
      "text/plain": [
       "'Richard'"
      ]
     },
     "execution_count": 29,
     "metadata": {},
     "output_type": "execute_result"
    }
   ],
   "source": [
    "my_name['first']"
   ]
  },
  {
   "cell_type": "code",
   "execution_count": 30,
   "metadata": {},
   "outputs": [
    {
     "data": {
      "text/plain": [
       "'Dawkins'"
      ]
     },
     "execution_count": 30,
     "metadata": {},
     "output_type": "execute_result"
    }
   ],
   "source": [
    "my_name['last']"
   ]
  },
  {
   "cell_type": "code",
   "execution_count": 31,
   "metadata": {},
   "outputs": [
    {
     "data": {
      "text/plain": [
       "dict_keys(['first', 'last'])"
      ]
     },
     "execution_count": 31,
     "metadata": {},
     "output_type": "execute_result"
    }
   ],
   "source": [
    "my_name.keys()"
   ]
  },
  {
   "cell_type": "code",
   "execution_count": 32,
   "metadata": {},
   "outputs": [
    {
     "data": {
      "text/plain": [
       "dict_values(['Richard', 'Dawkins'])"
      ]
     },
     "execution_count": 32,
     "metadata": {},
     "output_type": "execute_result"
    }
   ],
   "source": [
    "my_name.values()"
   ]
  },
  {
   "cell_type": "code",
   "execution_count": 33,
   "metadata": {},
   "outputs": [
    {
     "data": {
      "text/plain": [
       "dict_items([('first', 'Richard'), ('last', 'Dawkins')])"
      ]
     },
     "execution_count": 33,
     "metadata": {},
     "output_type": "execute_result"
    }
   ],
   "source": [
    "my_name.items()"
   ]
  },
  {
   "cell_type": "code",
   "execution_count": 34,
   "metadata": {
    "collapsed": true
   },
   "outputs": [],
   "source": [
    "my_name[4] = 'foo'"
   ]
  },
  {
   "cell_type": "code",
   "execution_count": 35,
   "metadata": {},
   "outputs": [
    {
     "data": {
      "text/plain": [
       "{'first': 'Richard', 'last': 'Dawkins', 4: 'foo'}"
      ]
     },
     "execution_count": 35,
     "metadata": {},
     "output_type": "execute_result"
    }
   ],
   "source": [
    "my_name"
   ]
  },
  {
   "cell_type": "code",
   "execution_count": 36,
   "metadata": {
    "collapsed": true
   },
   "outputs": [],
   "source": [
    "my_name[False] = 42.9"
   ]
  },
  {
   "cell_type": "code",
   "execution_count": 37,
   "metadata": {},
   "outputs": [
    {
     "data": {
      "text/plain": [
       "{'first': 'Richard', 'last': 'Dawkins', 4: 'foo', False: 42.9}"
      ]
     },
     "execution_count": 37,
     "metadata": {},
     "output_type": "execute_result"
    }
   ],
   "source": [
    "my_name"
   ]
  },
  {
   "cell_type": "code",
   "execution_count": 38,
   "metadata": {},
   "outputs": [
    {
     "data": {
      "text/plain": [
       "dict_items([('first', 'Richard'), ('last', 'Dawkins'), (4, 'foo'), (False, 42.9)])"
      ]
     },
     "execution_count": 38,
     "metadata": {},
     "output_type": "execute_result"
    }
   ],
   "source": [
    "my_name.items()"
   ]
  },
  {
   "cell_type": "code",
   "execution_count": 39,
   "metadata": {},
   "outputs": [
    {
     "ename": "TypeError",
     "evalue": "unhashable type: 'list'",
     "output_type": "error",
     "traceback": [
      "\u001b[0;31m---------------------------------------------------------------------------\u001b[0m",
      "\u001b[0;31mTypeError\u001b[0m                                 Traceback (most recent call last)",
      "\u001b[0;32m<ipython-input-39-7f286f0d5c9e>\u001b[0m in \u001b[0;36m<module>\u001b[0;34m()\u001b[0m\n\u001b[0;32m----> 1\u001b[0;31m \u001b[0mmy_name\u001b[0m\u001b[0;34m[\u001b[0m\u001b[0;34m[\u001b[0m\u001b[0;36m1\u001b[0m\u001b[0;34m,\u001b[0m\u001b[0;36m2\u001b[0m\u001b[0;34m]\u001b[0m\u001b[0;34m]\u001b[0m \u001b[0;34m=\u001b[0m \u001b[0;34m'bar'\u001b[0m\u001b[0;34m\u001b[0m\u001b[0m\n\u001b[0m",
      "\u001b[0;31mTypeError\u001b[0m: unhashable type: 'list'"
     ]
    }
   ],
   "source": [
    "my_name[[1,2]] = 'bar'"
   ]
  },
  {
   "cell_type": "code",
   "execution_count": 40,
   "metadata": {
    "collapsed": true
   },
   "outputs": [],
   "source": [
    "my_name[(1,2)] = 'bar'"
   ]
  },
  {
   "cell_type": "code",
   "execution_count": 44,
   "metadata": {
    "collapsed": true
   },
   "outputs": [],
   "source": [
    "my_name[(2,3)] = [1,2,3]"
   ]
  },
  {
   "cell_type": "code",
   "execution_count": 45,
   "metadata": {},
   "outputs": [
    {
     "data": {
      "text/plain": [
       "{'first': 'Richard',\n",
       " 'last': 'Dawkins',\n",
       " 4: 'foo',\n",
       " False: 42.9,\n",
       " (1, 2): 'bar',\n",
       " (2, 3): [1, 2, 3]}"
      ]
     },
     "execution_count": 45,
     "metadata": {},
     "output_type": "execute_result"
    }
   ],
   "source": [
    "my_name"
   ]
  },
  {
   "cell_type": "code",
   "execution_count": 47,
   "metadata": {},
   "outputs": [],
   "source": [
    "my_name[(2,3)].append(12)"
   ]
  },
  {
   "cell_type": "code",
   "execution_count": 48,
   "metadata": {},
   "outputs": [
    {
     "data": {
      "text/plain": [
       "[1, 2, 3, 12]"
      ]
     },
     "execution_count": 48,
     "metadata": {},
     "output_type": "execute_result"
    }
   ],
   "source": [
    "my_name[(2,3)]"
   ]
  },
  {
   "cell_type": "code",
   "execution_count": 41,
   "metadata": {},
   "outputs": [
    {
     "data": {
      "text/plain": [
       "3278408044116880573"
      ]
     },
     "execution_count": 41,
     "metadata": {},
     "output_type": "execute_result"
    }
   ],
   "source": [
    "hash('foo')"
   ]
  },
  {
   "cell_type": "code",
   "execution_count": 42,
   "metadata": {},
   "outputs": [
    {
     "data": {
      "text/plain": [
       "2528502973977326415"
      ]
     },
     "execution_count": 42,
     "metadata": {},
     "output_type": "execute_result"
    }
   ],
   "source": [
    "hash((1,2,3))"
   ]
  },
  {
   "cell_type": "code",
   "execution_count": 43,
   "metadata": {},
   "outputs": [
    {
     "data": {
      "text/plain": [
       "4"
      ]
     },
     "execution_count": 43,
     "metadata": {},
     "output_type": "execute_result"
    }
   ],
   "source": [
    "hash(4)"
   ]
  },
  {
   "cell_type": "markdown",
   "metadata": {},
   "source": [
    "## Accessing elements safely"
   ]
  },
  {
   "cell_type": "code",
   "execution_count": 49,
   "metadata": {},
   "outputs": [
    {
     "ename": "KeyError",
     "evalue": "'middle'",
     "output_type": "error",
     "traceback": [
      "\u001b[0;31m---------------------------------------------------------------------------\u001b[0m",
      "\u001b[0;31mKeyError\u001b[0m                                  Traceback (most recent call last)",
      "\u001b[0;32m<ipython-input-49-d6654feb3197>\u001b[0m in \u001b[0;36m<module>\u001b[0;34m()\u001b[0m\n\u001b[0;32m----> 1\u001b[0;31m \u001b[0mmy_name\u001b[0m\u001b[0;34m[\u001b[0m\u001b[0;34m'middle'\u001b[0m\u001b[0;34m]\u001b[0m\u001b[0;34m\u001b[0m\u001b[0m\n\u001b[0m",
      "\u001b[0;31mKeyError\u001b[0m: 'middle'"
     ]
    }
   ],
   "source": [
    "my_name['middle']"
   ]
  },
  {
   "cell_type": "code",
   "execution_count": 51,
   "metadata": {},
   "outputs": [
    {
     "data": {
      "text/plain": [
       "True"
      ]
     },
     "execution_count": 51,
     "metadata": {},
     "output_type": "execute_result"
    }
   ],
   "source": [
    "my_name.get('middle') == None"
   ]
  },
  {
   "cell_type": "code",
   "execution_count": 52,
   "metadata": {},
   "outputs": [
    {
     "data": {
      "text/plain": [
       "'N/A'"
      ]
     },
     "execution_count": 52,
     "metadata": {},
     "output_type": "execute_result"
    }
   ],
   "source": [
    "my_name.get('middle', 'N/A')"
   ]
  },
  {
   "cell_type": "code",
   "execution_count": 53,
   "metadata": {},
   "outputs": [
    {
     "data": {
      "text/plain": [
       "'Richard'"
      ]
     },
     "execution_count": 53,
     "metadata": {},
     "output_type": "execute_result"
    }
   ],
   "source": [
    "my_name.get('first', 'N/A')"
   ]
  },
  {
   "cell_type": "code",
   "execution_count": 55,
   "metadata": {},
   "outputs": [
    {
     "data": {
      "text/plain": [
       "True"
      ]
     },
     "execution_count": 55,
     "metadata": {},
     "output_type": "execute_result"
    }
   ],
   "source": [
    "'Richard' in my_name.values()"
   ]
  },
  {
   "cell_type": "code",
   "execution_count": 58,
   "metadata": {},
   "outputs": [
    {
     "data": {
      "text/plain": [
       "'first'"
      ]
     },
     "execution_count": 58,
     "metadata": {},
     "output_type": "execute_result"
    }
   ],
   "source": [
    "list(my_name.keys())[list(my_name.values()).index('Richard')]"
   ]
  },
  {
   "cell_type": "code",
   "execution_count": 60,
   "metadata": {},
   "outputs": [
    {
     "data": {
      "text/plain": [
       "0"
      ]
     },
     "execution_count": 60,
     "metadata": {},
     "output_type": "execute_result"
    }
   ],
   "source": [
    "list(my_name.values()).index('Richard')"
   ]
  },
  {
   "cell_type": "code",
   "execution_count": 61,
   "metadata": {
    "collapsed": true
   },
   "outputs": [],
   "source": [
    "my_name['first'] = 'Alex'"
   ]
  },
  {
   "cell_type": "code",
   "execution_count": 62,
   "metadata": {},
   "outputs": [
    {
     "data": {
      "text/plain": [
       "{'first': 'Alex',\n",
       " 'last': 'Dawkins',\n",
       " 4: 'foo',\n",
       " False: 42.9,\n",
       " (1, 2): 'bar',\n",
       " (2, 3): [1, 2, 3, 12]}"
      ]
     },
     "execution_count": 62,
     "metadata": {},
     "output_type": "execute_result"
    }
   ],
   "source": [
    "my_name"
   ]
  },
  {
   "cell_type": "markdown",
   "metadata": {},
   "source": [
    "# Sets"
   ]
  },
  {
   "cell_type": "code",
   "execution_count": 63,
   "metadata": {
    "collapsed": true
   },
   "outputs": [],
   "source": [
    "my_set = {1,2,3,'foo', 'bar'}"
   ]
  },
  {
   "cell_type": "code",
   "execution_count": 64,
   "metadata": {},
   "outputs": [
    {
     "data": {
      "text/plain": [
       "{1, 2, 3, 'bar', 'foo'}"
      ]
     },
     "execution_count": 64,
     "metadata": {},
     "output_type": "execute_result"
    }
   ],
   "source": [
    "my_set"
   ]
  },
  {
   "cell_type": "code",
   "execution_count": 66,
   "metadata": {},
   "outputs": [
    {
     "data": {
      "text/plain": [
       "True"
      ]
     },
     "execution_count": 66,
     "metadata": {},
     "output_type": "execute_result"
    }
   ],
   "source": [
    "2 in my_set"
   ]
  },
  {
   "cell_type": "code",
   "execution_count": 67,
   "metadata": {},
   "outputs": [
    {
     "ename": "TypeError",
     "evalue": "'set' object does not support indexing",
     "output_type": "error",
     "traceback": [
      "\u001b[0;31m---------------------------------------------------------------------------\u001b[0m",
      "\u001b[0;31mTypeError\u001b[0m                                 Traceback (most recent call last)",
      "\u001b[0;32m<ipython-input-67-12b160e06596>\u001b[0m in \u001b[0;36m<module>\u001b[0;34m()\u001b[0m\n\u001b[0;32m----> 1\u001b[0;31m \u001b[0mmy_set\u001b[0m\u001b[0;34m[\u001b[0m\u001b[0;36m5\u001b[0m\u001b[0;34m]\u001b[0m\u001b[0;34m\u001b[0m\u001b[0m\n\u001b[0m",
      "\u001b[0;31mTypeError\u001b[0m: 'set' object does not support indexing"
     ]
    }
   ],
   "source": [
    "my_set[5]"
   ]
  },
  {
   "cell_type": "code",
   "execution_count": 68,
   "metadata": {},
   "outputs": [
    {
     "name": "stdout",
     "output_type": "stream",
     "text": [
      "1\n",
      "2\n",
      "3\n",
      "bar\n",
      "foo\n"
     ]
    }
   ],
   "source": [
    "for i in my_set:\n",
    "    print(i)"
   ]
  },
  {
   "cell_type": "code",
   "execution_count": 69,
   "metadata": {
    "collapsed": true
   },
   "outputs": [],
   "source": [
    "my_set.add(42)"
   ]
  },
  {
   "cell_type": "code",
   "execution_count": 70,
   "metadata": {},
   "outputs": [
    {
     "data": {
      "text/plain": [
       "{1, 2, 3, 42, 'bar', 'foo'}"
      ]
     },
     "execution_count": 70,
     "metadata": {},
     "output_type": "execute_result"
    }
   ],
   "source": [
    "my_set"
   ]
  },
  {
   "cell_type": "markdown",
   "metadata": {},
   "source": [
    "# Objects"
   ]
  },
  {
   "cell_type": "code",
   "execution_count": 71,
   "metadata": {
    "collapsed": true
   },
   "outputs": [],
   "source": [
    "class Person(object):\n",
    "    first_name = \"First\"\n",
    "    last_name = \"Last\""
   ]
  },
  {
   "cell_type": "code",
   "execution_count": 72,
   "metadata": {
    "collapsed": true
   },
   "outputs": [],
   "source": [
    "me = Person()"
   ]
  },
  {
   "cell_type": "code",
   "execution_count": 73,
   "metadata": {},
   "outputs": [
    {
     "data": {
      "text/plain": [
       "<__main__.Person at 0x10b329f28>"
      ]
     },
     "execution_count": 73,
     "metadata": {},
     "output_type": "execute_result"
    }
   ],
   "source": [
    "me"
   ]
  },
  {
   "cell_type": "code",
   "execution_count": 74,
   "metadata": {},
   "outputs": [
    {
     "data": {
      "text/plain": [
       "'First'"
      ]
     },
     "execution_count": 74,
     "metadata": {},
     "output_type": "execute_result"
    }
   ],
   "source": [
    "me.first_name"
   ]
  },
  {
   "cell_type": "code",
   "execution_count": 75,
   "metadata": {},
   "outputs": [
    {
     "data": {
      "text/plain": [
       "'Last'"
      ]
     },
     "execution_count": 75,
     "metadata": {},
     "output_type": "execute_result"
    }
   ],
   "source": [
    "me.last_name"
   ]
  },
  {
   "cell_type": "code",
   "execution_count": 76,
   "metadata": {
    "collapsed": true
   },
   "outputs": [],
   "source": [
    "you = Person()"
   ]
  },
  {
   "cell_type": "code",
   "execution_count": 77,
   "metadata": {},
   "outputs": [
    {
     "data": {
      "text/plain": [
       "'First'"
      ]
     },
     "execution_count": 77,
     "metadata": {},
     "output_type": "execute_result"
    }
   ],
   "source": [
    "you.first_name"
   ]
  },
  {
   "cell_type": "code",
   "execution_count": 78,
   "metadata": {},
   "outputs": [
    {
     "data": {
      "text/plain": [
       "'Last'"
      ]
     },
     "execution_count": 78,
     "metadata": {},
     "output_type": "execute_result"
    }
   ],
   "source": [
    "you.last_name"
   ]
  },
  {
   "cell_type": "markdown",
   "metadata": {},
   "source": [
    "## Methods"
   ]
  },
  {
   "cell_type": "code",
   "execution_count": 80,
   "metadata": {
    "collapsed": true
   },
   "outputs": [],
   "source": [
    "class Person(object):\n",
    "    first_name = \"First\"\n",
    "    last_name = \"Last\"\n",
    "    def full_name(self):\n",
    "        return self.first_name + \" \" + self.last_name"
   ]
  },
  {
   "cell_type": "code",
   "execution_count": 88,
   "metadata": {
    "collapsed": true
   },
   "outputs": [],
   "source": [
    "def get_full_name(self):\n",
    "    return self.first_name + \" \" + self.last_name"
   ]
  },
  {
   "cell_type": "code",
   "execution_count": 81,
   "metadata": {
    "collapsed": true
   },
   "outputs": [],
   "source": [
    "me = Person()"
   ]
  },
  {
   "cell_type": "code",
   "execution_count": 82,
   "metadata": {},
   "outputs": [
    {
     "data": {
      "text/plain": [
       "'First Last'"
      ]
     },
     "execution_count": 82,
     "metadata": {},
     "output_type": "execute_result"
    }
   ],
   "source": [
    "me.full_name()"
   ]
  },
  {
   "cell_type": "code",
   "execution_count": 83,
   "metadata": {
    "collapsed": true
   },
   "outputs": [],
   "source": [
    "me.first_name = 'Dirk'"
   ]
  },
  {
   "cell_type": "code",
   "execution_count": 84,
   "metadata": {
    "collapsed": true
   },
   "outputs": [],
   "source": [
    "me.last_name = 'Hesse'"
   ]
  },
  {
   "cell_type": "code",
   "execution_count": 85,
   "metadata": {},
   "outputs": [
    {
     "data": {
      "text/plain": [
       "'Dirk Hesse'"
      ]
     },
     "execution_count": 85,
     "metadata": {},
     "output_type": "execute_result"
    }
   ],
   "source": [
    "me.full_name()"
   ]
  },
  {
   "cell_type": "code",
   "execution_count": 89,
   "metadata": {},
   "outputs": [
    {
     "data": {
      "text/plain": [
       "'Dirk Hesse'"
      ]
     },
     "execution_count": 89,
     "metadata": {},
     "output_type": "execute_result"
    }
   ],
   "source": [
    "get_full_name(me)"
   ]
  },
  {
   "cell_type": "code",
   "execution_count": 86,
   "metadata": {
    "collapsed": true
   },
   "outputs": [],
   "source": [
    "bowie = Person()\n",
    "bowie.first_name = 'David'\n",
    "bowie.last_name = 'Bowie'"
   ]
  },
  {
   "cell_type": "code",
   "execution_count": 87,
   "metadata": {},
   "outputs": [
    {
     "data": {
      "text/plain": [
       "'David Bowie'"
      ]
     },
     "execution_count": 87,
     "metadata": {},
     "output_type": "execute_result"
    }
   ],
   "source": [
    "bowie.full_name()"
   ]
  },
  {
   "cell_type": "code",
   "execution_count": 90,
   "metadata": {},
   "outputs": [
    {
     "data": {
      "text/plain": [
       "'David Bowie'"
      ]
     },
     "execution_count": 90,
     "metadata": {},
     "output_type": "execute_result"
    }
   ],
   "source": [
    "get_full_name(bowie)"
   ]
  },
  {
   "cell_type": "code",
   "execution_count": 97,
   "metadata": {
    "collapsed": true
   },
   "outputs": [],
   "source": [
    "class Person(object):\n",
    "    def __init__(self, first, last):\n",
    "        print('Hello from __init__')\n",
    "        self.first_name = first\n",
    "        self.last_name = last\n",
    "    def full_name(self):\n",
    "        return self.first_name + \" \" + self.last_name"
   ]
  },
  {
   "cell_type": "code",
   "execution_count": 99,
   "metadata": {},
   "outputs": [
    {
     "name": "stdout",
     "output_type": "stream",
     "text": [
      "Hello from __init__\n"
     ]
    },
    {
     "data": {
      "text/plain": [
       "'Michael Jackson'"
      ]
     },
     "execution_count": 99,
     "metadata": {},
     "output_type": "execute_result"
    }
   ],
   "source": [
    "jackson = Person('Michael', 'Jackson')\n",
    "jackson.full_name()"
   ]
  },
  {
   "cell_type": "markdown",
   "metadata": {},
   "source": [
    "# Why Classes?"
   ]
  },
  {
   "cell_type": "code",
   "execution_count": 103,
   "metadata": {
    "collapsed": true
   },
   "outputs": [],
   "source": [
    "class MyCounter(object):\n",
    "    def __init__(self, start, increment):\n",
    "        self.current = start\n",
    "        self.increment = increment\n",
    "    def count(self):\n",
    "        self.current += self.increment\n",
    "    def get(self):\n",
    "        return self.current"
   ]
  },
  {
   "cell_type": "code",
   "execution_count": 104,
   "metadata": {
    "collapsed": true
   },
   "outputs": [],
   "source": [
    "cnt = MyCounter(0, 2)"
   ]
  },
  {
   "cell_type": "code",
   "execution_count": 105,
   "metadata": {},
   "outputs": [
    {
     "data": {
      "text/plain": [
       "0"
      ]
     },
     "execution_count": 105,
     "metadata": {},
     "output_type": "execute_result"
    }
   ],
   "source": [
    "cnt.get()"
   ]
  },
  {
   "cell_type": "code",
   "execution_count": 106,
   "metadata": {
    "collapsed": true
   },
   "outputs": [],
   "source": [
    "cnt.count()\n",
    "cnt.count()"
   ]
  },
  {
   "cell_type": "code",
   "execution_count": 108,
   "metadata": {},
   "outputs": [
    {
     "data": {
      "text/plain": [
       "4"
      ]
     },
     "execution_count": 108,
     "metadata": {},
     "output_type": "execute_result"
    }
   ],
   "source": [
    "cnt.get()"
   ]
  },
  {
   "cell_type": "markdown",
   "metadata": {},
   "source": [
    "# Generators"
   ]
  },
  {
   "cell_type": "code",
   "execution_count": 109,
   "metadata": {},
   "outputs": [
    {
     "data": {
      "text/plain": [
       "[0, 1, 4, 9, 16, 25, 36, 49, 64, 81]"
      ]
     },
     "execution_count": 109,
     "metadata": {},
     "output_type": "execute_result"
    }
   ],
   "source": [
    "[i**2 for i in range(10)]"
   ]
  },
  {
   "cell_type": "code",
   "execution_count": 196,
   "metadata": {
    "collapsed": true
   },
   "outputs": [],
   "source": [
    "def get_two_numbers():\n",
    "    yield 12\n",
    "    yield 13"
   ]
  },
  {
   "cell_type": "code",
   "execution_count": 198,
   "metadata": {},
   "outputs": [
    {
     "name": "stdout",
     "output_type": "stream",
     "text": [
      "12\n",
      "13\n"
     ]
    }
   ],
   "source": [
    "for i in get_two_numbers():\n",
    "    print(i)"
   ]
  },
  {
   "cell_type": "code",
   "execution_count": 120,
   "metadata": {},
   "outputs": [],
   "source": [
    "def fibonacci(current, following, n):\n",
    "    for i in range(n):\n",
    "        yield current\n",
    "        current, following = following, current + following\n",
    "        #old = current\n",
    "        #current = following\n",
    "        #following = following + old"
   ]
  },
  {
   "cell_type": "code",
   "execution_count": 121,
   "metadata": {},
   "outputs": [
    {
     "data": {
      "text/plain": [
       "[1, 1, 4, 9, 25, 64, 169, 441, 1156, 3025]"
      ]
     },
     "execution_count": 121,
     "metadata": {},
     "output_type": "execute_result"
    }
   ],
   "source": [
    "[i**2 for i in fibonacci(1,1,10)]"
   ]
  },
  {
   "cell_type": "code",
   "execution_count": 122,
   "metadata": {},
   "outputs": [
    {
     "name": "stdout",
     "output_type": "stream",
     "text": [
      "1\n",
      "1\n",
      "2\n",
      "3\n",
      "5\n",
      "8\n",
      "13\n",
      "21\n",
      "34\n",
      "55\n"
     ]
    }
   ],
   "source": [
    "for i in fibonacci(1,1,10):\n",
    "    print(i)"
   ]
  },
  {
   "cell_type": "markdown",
   "metadata": {},
   "source": [
    "## Quiz: Fibonacci with (a) class..."
   ]
  },
  {
   "cell_type": "code",
   "execution_count": 123,
   "metadata": {
    "collapsed": true
   },
   "outputs": [],
   "source": [
    "class Fibonacci(object):\n",
    "    def __init__(self, current, following):\n",
    "        self.current = current\n",
    "        self.following = following\n",
    "    def next_number(self):\n",
    "        old = self.current\n",
    "        self.current = self.following\n",
    "        self.following = old + self.current\n",
    "        return old"
   ]
  },
  {
   "cell_type": "code",
   "execution_count": 124,
   "metadata": {
    "collapsed": true
   },
   "outputs": [],
   "source": [
    "fib = Fibonacci(1,1)"
   ]
  },
  {
   "cell_type": "code",
   "execution_count": 125,
   "metadata": {},
   "outputs": [
    {
     "name": "stdout",
     "output_type": "stream",
     "text": [
      "1\n",
      "1\n",
      "2\n",
      "3\n",
      "5\n",
      "8\n",
      "13\n",
      "21\n",
      "34\n",
      "55\n"
     ]
    }
   ],
   "source": [
    "for i in range(10):\n",
    "    print(fib.next_number())"
   ]
  },
  {
   "cell_type": "markdown",
   "metadata": {},
   "source": [
    "## Sequence hacks"
   ]
  },
  {
   "cell_type": "code",
   "execution_count": 126,
   "metadata": {
    "collapsed": true
   },
   "outputs": [],
   "source": [
    "import itertools"
   ]
  },
  {
   "cell_type": "code",
   "execution_count": 134,
   "metadata": {},
   "outputs": [
    {
     "data": {
      "text/plain": [
       "[1, 1, 2, 3, 5]"
      ]
     },
     "execution_count": 134,
     "metadata": {},
     "output_type": "execute_result"
    }
   ],
   "source": [
    "list(itertools.islice(fibonacci(1,1,10), 5))"
   ]
  },
  {
   "cell_type": "code",
   "execution_count": 129,
   "metadata": {},
   "outputs": [
    {
     "data": {
      "text/plain": [
       "[1, 1, 2, 3, 5]"
      ]
     },
     "execution_count": 129,
     "metadata": {},
     "output_type": "execute_result"
    }
   ],
   "source": [
    "list(fibonacci(1,1,10))[:5]"
   ]
  },
  {
   "cell_type": "code",
   "execution_count": 130,
   "metadata": {},
   "outputs": [
    {
     "data": {
      "text/plain": [
       "[2, 3, 5]"
      ]
     },
     "execution_count": 130,
     "metadata": {},
     "output_type": "execute_result"
    }
   ],
   "source": [
    "list(fibonacci(1,1,10))[2:5]"
   ]
  },
  {
   "cell_type": "code",
   "execution_count": 137,
   "metadata": {},
   "outputs": [
    {
     "data": {
      "text/plain": [
       "[2, 3, 5, 8, 13, 21, 34, 55]"
      ]
     },
     "execution_count": 137,
     "metadata": {},
     "output_type": "execute_result"
    }
   ],
   "source": [
    "list(itertools.islice(fibonacci(1,1,10), 2, None))"
   ]
  },
  {
   "cell_type": "code",
   "execution_count": 143,
   "metadata": {},
   "outputs": [
    {
     "data": {
      "text/plain": [
       "[(1, 1),\n",
       " (1, 2),\n",
       " (1, 3),\n",
       " (1, 4),\n",
       " (2, 2),\n",
       " (2, 3),\n",
       " (2, 4),\n",
       " (3, 3),\n",
       " (3, 4),\n",
       " (4, 4)]"
      ]
     },
     "execution_count": 143,
     "metadata": {},
     "output_type": "execute_result"
    }
   ],
   "source": [
    "list(itertools.combinations_with_replacement([1,2,3,4], 2))"
   ]
  },
  {
   "cell_type": "code",
   "execution_count": 144,
   "metadata": {
    "collapsed": true
   },
   "outputs": [],
   "source": [
    "from collections import Counter"
   ]
  },
  {
   "cell_type": "code",
   "execution_count": 146,
   "metadata": {},
   "outputs": [
    {
     "data": {
      "text/plain": [
       "['the', 'quick', 'brown', 'fox', 'jumps', 'over', 'the', 'lazy', 'dog']"
      ]
     },
     "execution_count": 146,
     "metadata": {},
     "output_type": "execute_result"
    }
   ],
   "source": [
    "'the quick brown fox jumps over the lazy dog'.split()"
   ]
  },
  {
   "cell_type": "code",
   "execution_count": 148,
   "metadata": {},
   "outputs": [],
   "source": [
    "cnt = {}\n",
    "for word in 'the quick brown fox jumps over the lazy dog'.split():\n",
    "    cnt[word] = cnt.get(word, 0) + 1"
   ]
  },
  {
   "cell_type": "code",
   "execution_count": 149,
   "metadata": {},
   "outputs": [
    {
     "data": {
      "text/plain": [
       "{'brown': 1,\n",
       " 'dog': 1,\n",
       " 'fox': 1,\n",
       " 'jumps': 1,\n",
       " 'lazy': 1,\n",
       " 'over': 1,\n",
       " 'quick': 1,\n",
       " 'the': 2}"
      ]
     },
     "execution_count": 149,
     "metadata": {},
     "output_type": "execute_result"
    }
   ],
   "source": [
    "cnt"
   ]
  },
  {
   "cell_type": "code",
   "execution_count": 150,
   "metadata": {
    "collapsed": true
   },
   "outputs": [],
   "source": [
    "better_cnt = Counter('the quick brown fox jumps over the lazy dog'.split())"
   ]
  },
  {
   "cell_type": "code",
   "execution_count": 152,
   "metadata": {},
   "outputs": [
    {
     "data": {
      "text/plain": [
       "2"
      ]
     },
     "execution_count": 152,
     "metadata": {},
     "output_type": "execute_result"
    }
   ],
   "source": [
    "better_cnt['the']"
   ]
  },
  {
   "cell_type": "code",
   "execution_count": 153,
   "metadata": {},
   "outputs": [
    {
     "data": {
      "text/plain": [
       "[('the', 2), ('quick', 1)]"
      ]
     },
     "execution_count": 153,
     "metadata": {},
     "output_type": "execute_result"
    }
   ],
   "source": [
    "better_cnt.most_common(2)"
   ]
  },
  {
   "cell_type": "code",
   "execution_count": 154,
   "metadata": {},
   "outputs": [
    {
     "data": {
      "text/plain": [
       "Counter({1: 1, 2: 3, 5: 1, 7: 2})"
      ]
     },
     "execution_count": 154,
     "metadata": {},
     "output_type": "execute_result"
    }
   ],
   "source": [
    "Counter([1,2,2,5,7,2,7])"
   ]
  },
  {
   "cell_type": "code",
   "execution_count": 155,
   "metadata": {},
   "outputs": [
    {
     "data": {
      "text/plain": [
       "Counter({'b': 1, 'f': 1, 'i': 1, 'u': 1, 'z': 4})"
      ]
     },
     "execution_count": 155,
     "metadata": {},
     "output_type": "execute_result"
    }
   ],
   "source": [
    "Counter('fizzbuzz')"
   ]
  },
  {
   "cell_type": "markdown",
   "metadata": {},
   "source": [
    "# Decorators"
   ]
  },
  {
   "cell_type": "code",
   "execution_count": 157,
   "metadata": {},
   "outputs": [
    {
     "data": {
      "text/plain": [
       "[<function __main__.fibonacci>, 1, 2]"
      ]
     },
     "execution_count": 157,
     "metadata": {},
     "output_type": "execute_result"
    }
   ],
   "source": [
    "[fibonacci, 1, 2]"
   ]
  },
  {
   "cell_type": "code",
   "execution_count": 158,
   "metadata": {},
   "outputs": [
    {
     "data": {
      "text/plain": [
       "{<function __main__.fibonacci>: 5}"
      ]
     },
     "execution_count": 158,
     "metadata": {},
     "output_type": "execute_result"
    }
   ],
   "source": [
    "{fibonacci: 5}"
   ]
  },
  {
   "cell_type": "code",
   "execution_count": 159,
   "metadata": {
    "collapsed": true
   },
   "outputs": [],
   "source": [
    "def get_first(f, n):\n",
    "    return list(f(1,1,n))"
   ]
  },
  {
   "cell_type": "code",
   "execution_count": 160,
   "metadata": {},
   "outputs": [
    {
     "data": {
      "text/plain": [
       "[1, 1, 2, 3, 5]"
      ]
     },
     "execution_count": 160,
     "metadata": {},
     "output_type": "execute_result"
    }
   ],
   "source": [
    "get_first(fibonacci, 5)"
   ]
  },
  {
   "cell_type": "code",
   "execution_count": 168,
   "metadata": {
    "collapsed": true
   },
   "outputs": [],
   "source": [
    "def process_trends_file(f, start, end):\n",
    "    with open('data/trends.csv') as trends_file:\n",
    "        for line in itertools.islice(trends_file, start, end):\n",
    "            yield f(line)"
   ]
  },
  {
   "cell_type": "code",
   "execution_count": 170,
   "metadata": {},
   "outputs": [
    {
     "name": "stdout",
     "output_type": "stream",
     "text": [
      "2011-12-04,18,14,9\n",
      "\n",
      "2011-12-11,17,13,9\n",
      "\n",
      "2011-12-18,15,13,6\n",
      "\n",
      "2011-12-25,12,11,5\n",
      "\n"
     ]
    },
    {
     "data": {
      "text/plain": [
       "[None, None, None, None]"
      ]
     },
     "execution_count": 170,
     "metadata": {},
     "output_type": "execute_result"
    }
   ],
   "source": [
    "list(process_trends_file(print, 1, 5))"
   ]
  },
  {
   "cell_type": "code",
   "execution_count": 171,
   "metadata": {
    "collapsed": true
   },
   "outputs": [],
   "source": [
    "def get_first_trend(line):\n",
    "    return int(line.split(',')[1])"
   ]
  },
  {
   "cell_type": "code",
   "execution_count": 172,
   "metadata": {},
   "outputs": [
    {
     "data": {
      "text/plain": [
       "[18, 17, 15, 12]"
      ]
     },
     "execution_count": 172,
     "metadata": {},
     "output_type": "execute_result"
    }
   ],
   "source": [
    "list(process_trends_file(get_first_trend, 1, 5))"
   ]
  },
  {
   "cell_type": "code",
   "execution_count": 173,
   "metadata": {
    "collapsed": true
   },
   "outputs": [],
   "source": [
    "def listify(line):\n",
    "    return line.split(',')"
   ]
  },
  {
   "cell_type": "code",
   "execution_count": 174,
   "metadata": {},
   "outputs": [
    {
     "data": {
      "text/plain": [
       "[['2011-12-04', '18', '14', '9\\n'],\n",
       " ['2011-12-11', '17', '13', '9\\n'],\n",
       " ['2011-12-18', '15', '13', '6\\n'],\n",
       " ['2011-12-25', '12', '11', '5\\n']]"
      ]
     },
     "execution_count": 174,
     "metadata": {},
     "output_type": "execute_result"
    }
   ],
   "source": [
    "list(process_trends_file(listify, 1, 5))"
   ]
  },
  {
   "cell_type": "code",
   "execution_count": 175,
   "metadata": {},
   "outputs": [
    {
     "data": {
      "text/plain": [
       "[1, 1, 2, 3, 5, 8, 13, 21, 34, 55]"
      ]
     },
     "execution_count": 175,
     "metadata": {},
     "output_type": "execute_result"
    }
   ],
   "source": [
    "list(fibonacci(1,1,10))"
   ]
  },
  {
   "cell_type": "code",
   "execution_count": 176,
   "metadata": {},
   "outputs": [
    {
     "data": {
      "text/plain": [
       "[1, 1, 2, 3, 5, 8, 13, 21, 34, 55]"
      ]
     },
     "execution_count": 176,
     "metadata": {},
     "output_type": "execute_result"
    }
   ],
   "source": [
    "list(fibonacci(1,1,10))"
   ]
  },
  {
   "cell_type": "code",
   "execution_count": 183,
   "metadata": {
    "collapsed": true
   },
   "outputs": [],
   "source": [
    "def cache(f):\n",
    "    known_results = {}\n",
    "    def new_f(x):\n",
    "        if x not in known_results:\n",
    "            print(\"thinking ...\")\n",
    "            known_results[x] = f(x)\n",
    "        else:\n",
    "            print(\"result known\")\n",
    "        return known_results[x]\n",
    "    return new_f"
   ]
  },
  {
   "cell_type": "code",
   "execution_count": 178,
   "metadata": {
    "collapsed": true
   },
   "outputs": [],
   "source": [
    "def fib_list(n):\n",
    "    return list(fibonacci(1,1,n))"
   ]
  },
  {
   "cell_type": "code",
   "execution_count": 179,
   "metadata": {},
   "outputs": [
    {
     "data": {
      "text/plain": [
       "[1, 1, 2, 3, 5]"
      ]
     },
     "execution_count": 179,
     "metadata": {},
     "output_type": "execute_result"
    }
   ],
   "source": [
    "fib_list(5)"
   ]
  },
  {
   "cell_type": "code",
   "execution_count": 184,
   "metadata": {
    "collapsed": true
   },
   "outputs": [],
   "source": [
    "cached_fib_list = cache(fib_list)"
   ]
  },
  {
   "cell_type": "code",
   "execution_count": 186,
   "metadata": {},
   "outputs": [
    {
     "name": "stdout",
     "output_type": "stream",
     "text": [
      "thinking ...\n"
     ]
    },
    {
     "data": {
      "text/plain": [
       "[1, 1, 2, 3, 5]"
      ]
     },
     "execution_count": 186,
     "metadata": {},
     "output_type": "execute_result"
    }
   ],
   "source": [
    "cached_fib_list(5)"
   ]
  },
  {
   "cell_type": "code",
   "execution_count": 187,
   "metadata": {},
   "outputs": [
    {
     "name": "stdout",
     "output_type": "stream",
     "text": [
      "result known\n"
     ]
    },
    {
     "data": {
      "text/plain": [
       "[1, 1, 2, 3, 5]"
      ]
     },
     "execution_count": 187,
     "metadata": {},
     "output_type": "execute_result"
    }
   ],
   "source": [
    "cached_fib_list(5)"
   ]
  },
  {
   "cell_type": "code",
   "execution_count": 189,
   "metadata": {},
   "outputs": [],
   "source": [
    "@cache\n",
    "def fl(n):\n",
    "    return list(fibonacci(1,1,n))"
   ]
  },
  {
   "cell_type": "code",
   "execution_count": 190,
   "metadata": {},
   "outputs": [
    {
     "name": "stdout",
     "output_type": "stream",
     "text": [
      "thinking ...\n"
     ]
    },
    {
     "data": {
      "text/plain": [
       "[1, 1, 2, 3, 5, 8, 13, 21, 34, 55]"
      ]
     },
     "execution_count": 190,
     "metadata": {},
     "output_type": "execute_result"
    }
   ],
   "source": [
    "fl(10)"
   ]
  },
  {
   "cell_type": "code",
   "execution_count": 191,
   "metadata": {},
   "outputs": [
    {
     "name": "stdout",
     "output_type": "stream",
     "text": [
      "result known\n"
     ]
    },
    {
     "data": {
      "text/plain": [
       "[1, 1, 2, 3, 5, 8, 13, 21, 34, 55]"
      ]
     },
     "execution_count": 191,
     "metadata": {},
     "output_type": "execute_result"
    }
   ],
   "source": [
    "fl(10)"
   ]
  },
  {
   "cell_type": "markdown",
   "metadata": {},
   "source": [
    "## Aside"
   ]
  },
  {
   "cell_type": "code",
   "execution_count": 193,
   "metadata": {
    "collapsed": true
   },
   "outputs": [],
   "source": [
    "my_list = [1,2,3]"
   ]
  },
  {
   "cell_type": "code",
   "execution_count": 194,
   "metadata": {},
   "outputs": [
    {
     "ename": "IndexError",
     "evalue": "list index out of range",
     "output_type": "error",
     "traceback": [
      "\u001b[0;31m---------------------------------------------------------------------------\u001b[0m",
      "\u001b[0;31mIndexError\u001b[0m                                Traceback (most recent call last)",
      "\u001b[0;32m<ipython-input-194-037d00de8360>\u001b[0m in \u001b[0;36m<module>\u001b[0;34m()\u001b[0m\n\u001b[0;32m----> 1\u001b[0;31m \u001b[0mmy_list\u001b[0m\u001b[0;34m[\u001b[0m\u001b[0;36m5\u001b[0m\u001b[0;34m]\u001b[0m\u001b[0;34m\u001b[0m\u001b[0m\n\u001b[0m",
      "\u001b[0;31mIndexError\u001b[0m: list index out of range"
     ]
    }
   ],
   "source": [
    "my_list[5]"
   ]
  }
 ],
 "metadata": {
  "kernelspec": {
   "display_name": "Python 3",
   "language": "python",
   "name": "python3"
  },
  "language_info": {
   "codemirror_mode": {
    "name": "ipython",
    "version": 3
   },
   "file_extension": ".py",
   "mimetype": "text/x-python",
   "name": "python",
   "nbconvert_exporter": "python",
   "pygments_lexer": "ipython3",
   "version": "3.6.1"
  }
 },
 "nbformat": 4,
 "nbformat_minor": 2
}
