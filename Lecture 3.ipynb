{
 "cells": [
  {
   "cell_type": "code",
   "execution_count": 1,
   "metadata": {
    "collapsed": true
   },
   "outputs": [],
   "source": [
    "import requests\n",
    "from requests_oauthlib import OAuth1"
   ]
  },
  {
   "cell_type": "code",
   "execution_count": 19,
   "metadata": {},
   "outputs": [],
   "source": [
    "vg = requests.get('https://vg.no')"
   ]
  },
  {
   "cell_type": "markdown",
   "metadata": {},
   "source": [
    "# Twitter"
   ]
  },
  {
   "cell_type": "markdown",
   "metadata": {},
   "source": [
    "## Authentication"
   ]
  },
  {
   "cell_type": "code",
   "execution_count": 5,
   "metadata": {
    "collapsed": true
   },
   "outputs": [],
   "source": [
    "url = 'https://api.twitter.com/1.1/account/verify_credentials.json'\n",
    "from donthackme import CONSUMER_KEY, CONSUMER_SECRET, TOKEN, TOKEN_SECRET\n",
    "auth = OAuth1(CONSUMER_KEY, CONSUMER_SECRET, TOKEN, TOKEN_SECRET)"
   ]
  },
  {
   "cell_type": "code",
   "execution_count": 6,
   "metadata": {
    "collapsed": true
   },
   "outputs": [],
   "source": [
    "verify_response = requests.get(url, auth=auth)"
   ]
  },
  {
   "cell_type": "code",
   "execution_count": 7,
   "metadata": {},
   "outputs": [
    {
     "data": {
      "text/plain": [
       "<Response [200]>"
      ]
     },
     "execution_count": 7,
     "metadata": {},
     "output_type": "execute_result"
    }
   ],
   "source": [
    "verify_response"
   ]
  },
  {
   "cell_type": "code",
   "execution_count": 9,
   "metadata": {
    "scrolled": true
   },
   "outputs": [],
   "source": [
    "response_json = verify_response.json()"
   ]
  },
  {
   "cell_type": "code",
   "execution_count": 11,
   "metadata": {},
   "outputs": [
    {
     "name": "stdout",
     "output_type": "stream",
     "text": [
      "id\n",
      "id_str\n",
      "name\n",
      "screen_name\n",
      "location\n",
      "description\n",
      "url\n",
      "entities\n",
      "protected\n",
      "followers_count\n",
      "friends_count\n",
      "listed_count\n",
      "created_at\n",
      "favourites_count\n",
      "utc_offset\n",
      "time_zone\n",
      "geo_enabled\n",
      "verified\n",
      "statuses_count\n",
      "lang\n",
      "status\n",
      "contributors_enabled\n",
      "is_translator\n",
      "is_translation_enabled\n",
      "profile_background_color\n",
      "profile_background_image_url\n",
      "profile_background_image_url_https\n",
      "profile_background_tile\n",
      "profile_image_url\n",
      "profile_image_url_https\n",
      "profile_banner_url\n",
      "profile_link_color\n",
      "profile_sidebar_border_color\n",
      "profile_sidebar_fill_color\n",
      "profile_text_color\n",
      "profile_use_background_image\n",
      "has_extended_profile\n",
      "default_profile\n",
      "default_profile_image\n",
      "following\n",
      "follow_request_sent\n",
      "notifications\n",
      "translator_type\n"
     ]
    }
   ],
   "source": [
    "for key in response_json.keys():\n",
    "    print(key)"
   ]
  },
  {
   "cell_type": "code",
   "execution_count": 12,
   "metadata": {},
   "outputs": [
    {
     "data": {
      "text/plain": [
       "'NotDirkHesse'"
      ]
     },
     "execution_count": 12,
     "metadata": {},
     "output_type": "execute_result"
    }
   ],
   "source": [
    "response_json['screen_name']"
   ]
  },
  {
   "cell_type": "code",
   "execution_count": 13,
   "metadata": {},
   "outputs": [
    {
     "data": {
      "text/plain": [
       "'en'"
      ]
     },
     "execution_count": 13,
     "metadata": {},
     "output_type": "execute_result"
    }
   ],
   "source": [
    "response_json['lang']"
   ]
  },
  {
   "cell_type": "code",
   "execution_count": 14,
   "metadata": {},
   "outputs": [
    {
     "data": {
      "text/plain": [
       "'Oslo'"
      ]
     },
     "execution_count": 14,
     "metadata": {},
     "output_type": "execute_result"
    }
   ],
   "source": [
    "response_json['location']"
   ]
  },
  {
   "cell_type": "code",
   "execution_count": 15,
   "metadata": {},
   "outputs": [
    {
     "data": {
      "text/plain": [
       "'https://pbs.twimg.com/profile_images/446533000629858305/vw7gIH3i_normal.jpeg'"
      ]
     },
     "execution_count": 15,
     "metadata": {},
     "output_type": "execute_result"
    }
   ],
   "source": [
    "response_json['profile_image_url_https']"
   ]
  },
  {
   "cell_type": "code",
   "execution_count": 17,
   "metadata": {},
   "outputs": [
    {
     "data": {
      "text/plain": [
       "'{\"id\":626122134,\"id_str\":\"626122134\",\"name\":\"Dirk Hesse\",\"screen_name\":\"NotDirkHesse\",\"location\":\"Oslo\",\"description\":\"Chief data scientist at AIA Science, cook, climber, part-time nerd, recovering software developer, ex berliner, excited about lots of stuff.\",\"url\":\"https:\\\\/\\\\/t.co\\\\/0vzGXnI35m\",\"entities\":{\"url\":{\"urls\":[{\"url\":\"https:\\\\/\\\\/t.co\\\\/0vzGXnI35m\",\"expanded_url\":\"http:\\\\/\\\\/data-adventures.com\",\"display_url\":\"data-adventures.com\",\"indices\":[0,23]}]},\"description\":{\"urls\":[]}},\"protected\":false,\"followers_count\":49,\"friends_count\":91,\"listed_count\":18,\"created_at\":\"Wed Jul 04 01:16:15 +0000 2012\",\"favourites_count\":13,\"utc_offset\":null,\"time_zone\":null,\"geo_enabled\":true,\"verified\":false,\"statuses_count\":113,\"lang\":\"en\",\"status\":{\"created_at\":\"Wed Jun 28 14:19:18 +0000 2017\",\"id\":880068091547406336,\"id_str\":\"880068091547406336\",\"text\":\"RT @sisomm: Enlightening #datascience  workshop @bouvet with @NotDirkHesse. My old brain might some Artificial Intelligence \\\\ud83d\\\\ude1cto keep up htt\\\\u2026\",\"truncated\":false,\"entities\":{\"hashtags\":[{\"text\":\"datascience\",\"indices\":[25,37]}],\"symbols\":[],\"user_mentions\":[{\"screen_name\":\"sisomm\",\"name\":\"Simen Sommerfeldt\",\"id\":22606723,\"id_str\":\"22606723\",\"indices\":[3,10]},{\"screen_name\":\"bouvet\",\"name\":\"Bouvet ASA\",\"id\":92365309,\"id_str\":\"92365309\",\"indices\":[48,55]},{\"screen_name\":\"NotDirkHesse\",\"name\":\"Dirk Hesse\",\"id\":626122134,\"id_str\":\"626122134\",\"indices\":[61,74]}],\"urls\":[]},\"source\":\"\\\\u003ca href=\\\\\"http:\\\\/\\\\/twitter.com\\\\/download\\\\/android\\\\\" rel=\\\\\"nofollow\\\\\"\\\\u003eTwitter for Android\\\\u003c\\\\/a\\\\u003e\",\"in_reply_to_status_id\":null,\"in_reply_to_status_id_str\":null,\"in_reply_to_user_id\":null,\"in_reply_to_user_id_str\":null,\"in_reply_to_screen_name\":null,\"geo\":null,\"coordinates\":null,\"place\":null,\"contributors\":null,\"retweeted_status\":{\"created_at\":\"Wed Jun 28 09:14:12 +0000 2017\",\"id\":879991309624389632,\"id_str\":\"879991309624389632\",\"text\":\"Enlightening #datascience  workshop @bouvet with @NotDirkHesse. My old brain might some Artificial Intelligence \\\\ud83d\\\\ude1cto\\\\u2026 https:\\\\/\\\\/t.co\\\\/EbkJujubkl\",\"truncated\":true,\"entities\":{\"hashtags\":[{\"text\":\"datascience\",\"indices\":[13,25]}],\"symbols\":[],\"user_mentions\":[{\"screen_name\":\"bouvet\",\"name\":\"Bouvet ASA\",\"id\":92365309,\"id_str\":\"92365309\",\"indices\":[36,43]},{\"screen_name\":\"NotDirkHesse\",\"name\":\"Dirk Hesse\",\"id\":626122134,\"id_str\":\"626122134\",\"indices\":[49,62]}],\"urls\":[{\"url\":\"https:\\\\/\\\\/t.co\\\\/EbkJujubkl\",\"expanded_url\":\"https:\\\\/\\\\/twitter.com\\\\/i\\\\/web\\\\/status\\\\/879991309624389632\",\"display_url\":\"twitter.com\\\\/i\\\\/web\\\\/status\\\\/8\\\\u2026\",\"indices\":[117,140]}]},\"source\":\"\\\\u003ca href=\\\\\"http:\\\\/\\\\/itunes.apple.com\\\\/us\\\\/app\\\\/twitter\\\\/id409789998?mt=12\\\\\" rel=\\\\\"nofollow\\\\\"\\\\u003eTwitter for Mac\\\\u003c\\\\/a\\\\u003e\",\"in_reply_to_status_id\":null,\"in_reply_to_status_id_str\":null,\"in_reply_to_user_id\":null,\"in_reply_to_user_id_str\":null,\"in_reply_to_screen_name\":null,\"geo\":null,\"coordinates\":null,\"place\":null,\"contributors\":null,\"is_quote_status\":false,\"retweet_count\":2,\"favorite_count\":5,\"favorited\":true,\"retweeted\":true,\"possibly_sensitive\":false,\"lang\":\"en\"},\"is_quote_status\":false,\"retweet_count\":2,\"favorite_count\":0,\"favorited\":true,\"retweeted\":true,\"lang\":\"en\"},\"contributors_enabled\":false,\"is_translator\":false,\"is_translation_enabled\":false,\"profile_background_color\":\"000000\",\"profile_background_image_url\":\"http:\\\\/\\\\/abs.twimg.com\\\\/images\\\\/themes\\\\/theme1\\\\/bg.png\",\"profile_background_image_url_https\":\"https:\\\\/\\\\/abs.twimg.com\\\\/images\\\\/themes\\\\/theme1\\\\/bg.png\",\"profile_background_tile\":false,\"profile_image_url\":\"http:\\\\/\\\\/pbs.twimg.com\\\\/profile_images\\\\/446533000629858305\\\\/vw7gIH3i_normal.jpeg\",\"profile_image_url_https\":\"https:\\\\/\\\\/pbs.twimg.com\\\\/profile_images\\\\/446533000629858305\\\\/vw7gIH3i_normal.jpeg\",\"profile_banner_url\":\"https:\\\\/\\\\/pbs.twimg.com\\\\/profile_banners\\\\/626122134\\\\/1395296691\",\"profile_link_color\":\"ABB8C2\",\"profile_sidebar_border_color\":\"000000\",\"profile_sidebar_fill_color\":\"000000\",\"profile_text_color\":\"000000\",\"profile_use_background_image\":false,\"has_extended_profile\":false,\"default_profile\":false,\"default_profile_image\":false,\"following\":false,\"follow_request_sent\":false,\"notifications\":false,\"translator_type\":\"none\"}'"
      ]
     },
     "execution_count": 17,
     "metadata": {},
     "output_type": "execute_result"
    }
   ],
   "source": [
    "verify_response.text"
   ]
  },
  {
   "cell_type": "markdown",
   "metadata": {},
   "source": [
    "# Search"
   ]
  },
  {
   "cell_type": "markdown",
   "metadata": {},
   "source": [
    "Documentation: [https://dev.twitter.com/rest/public/search](https://dev.twitter.com/rest/public/search)"
   ]
  },
  {
   "cell_type": "code",
   "execution_count": 24,
   "metadata": {
    "collapsed": true
   },
   "outputs": [],
   "source": [
    "search_url = 'https://api.twitter.com/1.1/search/tweets.json'\n",
    "params = {'q': 'data science',\n",
    "          'result_type': 'recent'}\n",
    "search_response = requests.get(search_url, params=params, auth=auth)"
   ]
  },
  {
   "cell_type": "code",
   "execution_count": 25,
   "metadata": {},
   "outputs": [
    {
     "data": {
      "text/plain": [
       "<Response [200]>"
      ]
     },
     "execution_count": 25,
     "metadata": {},
     "output_type": "execute_result"
    }
   ],
   "source": [
    "search_response"
   ]
  },
  {
   "cell_type": "code",
   "execution_count": 27,
   "metadata": {},
   "outputs": [],
   "source": [
    "search_json = search_response.json()"
   ]
  },
  {
   "cell_type": "code",
   "execution_count": 29,
   "metadata": {},
   "outputs": [
    {
     "data": {
      "text/plain": [
       "dict_keys(['statuses', 'search_metadata'])"
      ]
     },
     "execution_count": 29,
     "metadata": {},
     "output_type": "execute_result"
    }
   ],
   "source": [
    "search_json.keys()"
   ]
  },
  {
   "cell_type": "code",
   "execution_count": 30,
   "metadata": {
    "scrolled": true
   },
   "outputs": [
    {
     "data": {
      "text/plain": [
       "{'completed_in': 0.047,\n",
       " 'count': 15,\n",
       " 'max_id': 882142704842440705,\n",
       " 'max_id_str': '882142704842440705',\n",
       " 'next_results': '?max_id=882141502494978051&q=data%20science&include_entities=1&result_type=recent',\n",
       " 'query': 'data+science',\n",
       " 'refresh_url': '?since_id=882142704842440705&q=data%20science&result_type=recent&include_entities=1',\n",
       " 'since_id': 0,\n",
       " 'since_id_str': '0'}"
      ]
     },
     "execution_count": 30,
     "metadata": {},
     "output_type": "execute_result"
    }
   ],
   "source": [
    "search_json['search_metadata']"
   ]
  },
  {
   "cell_type": "code",
   "execution_count": 33,
   "metadata": {
    "collapsed": true
   },
   "outputs": [],
   "source": [
    "next_results = requests.get(search_url \n",
    "        + search_json['search_metadata']['next_results'],\n",
    "                           auth=auth)"
   ]
  },
  {
   "cell_type": "code",
   "execution_count": 34,
   "metadata": {},
   "outputs": [
    {
     "data": {
      "text/plain": [
       "<Response [200]>"
      ]
     },
     "execution_count": 34,
     "metadata": {},
     "output_type": "execute_result"
    }
   ],
   "source": [
    "next_results"
   ]
  },
  {
   "cell_type": "code",
   "execution_count": 36,
   "metadata": {},
   "outputs": [
    {
     "data": {
      "text/plain": [
       "15"
      ]
     },
     "execution_count": 36,
     "metadata": {},
     "output_type": "execute_result"
    }
   ],
   "source": [
    "len(search_json['statuses'])"
   ]
  },
  {
   "cell_type": "code",
   "execution_count": 37,
   "metadata": {
    "collapsed": true
   },
   "outputs": [],
   "source": [
    "status = search_json['statuses'][0]"
   ]
  },
  {
   "cell_type": "code",
   "execution_count": 40,
   "metadata": {},
   "outputs": [
    {
     "name": "stdout",
     "output_type": "stream",
     "text": [
      "created_at\n",
      "id\n",
      "id_str\n",
      "text\n",
      "truncated\n",
      "entities\n",
      "extended_entities\n",
      "metadata\n",
      "source\n",
      "in_reply_to_status_id\n",
      "in_reply_to_status_id_str\n",
      "in_reply_to_user_id\n",
      "in_reply_to_user_id_str\n",
      "in_reply_to_screen_name\n",
      "user\n",
      "geo\n",
      "coordinates\n",
      "place\n",
      "contributors\n",
      "retweeted_status\n",
      "is_quote_status\n",
      "retweet_count\n",
      "favorite_count\n",
      "favorited\n",
      "retweeted\n",
      "possibly_sensitive\n",
      "lang\n"
     ]
    }
   ],
   "source": [
    "for key in status.keys():\n",
    "    print(key)"
   ]
  },
  {
   "cell_type": "code",
   "execution_count": 41,
   "metadata": {},
   "outputs": [
    {
     "data": {
      "text/plain": [
       "'RT @MaarekClaire: #DATASCIENCE: Data Science Central #BIGDATA https://t.co/YukzXNhmR8 https://t.co/dU52LJji3p'"
      ]
     },
     "execution_count": 41,
     "metadata": {},
     "output_type": "execute_result"
    }
   ],
   "source": [
    "status['text']"
   ]
  },
  {
   "cell_type": "code",
   "execution_count": 42,
   "metadata": {
    "scrolled": true
   },
   "outputs": [
    {
     "data": {
      "text/plain": [
       "{'contributors_enabled': False,\n",
       " 'created_at': 'Tue Dec 20 13:58:45 +0000 2016',\n",
       " 'default_profile': False,\n",
       " 'default_profile_image': False,\n",
       " 'description': 'I love #music, #technology and #marketing.',\n",
       " 'entities': {'description': {'urls': []}},\n",
       " 'favourites_count': 32589,\n",
       " 'follow_request_sent': False,\n",
       " 'followers_count': 5191,\n",
       " 'following': False,\n",
       " 'friends_count': 5194,\n",
       " 'geo_enabled': False,\n",
       " 'has_extended_profile': False,\n",
       " 'id': 811209223715639296,\n",
       " 'id_str': '811209223715639296',\n",
       " 'is_translation_enabled': False,\n",
       " 'is_translator': False,\n",
       " 'lang': 'en-gb',\n",
       " 'listed_count': 1296,\n",
       " 'location': 'Italy',\n",
       " 'name': 'Lucky',\n",
       " 'notifications': False,\n",
       " 'profile_background_color': '000000',\n",
       " 'profile_background_image_url': 'http://abs.twimg.com/images/themes/theme1/bg.png',\n",
       " 'profile_background_image_url_https': 'https://abs.twimg.com/images/themes/theme1/bg.png',\n",
       " 'profile_background_tile': False,\n",
       " 'profile_banner_url': 'https://pbs.twimg.com/profile_banners/811209223715639296/1482316102',\n",
       " 'profile_image_url': 'http://pbs.twimg.com/profile_images/857139416271380480/z8jYpgI8_normal.jpg',\n",
       " 'profile_image_url_https': 'https://pbs.twimg.com/profile_images/857139416271380480/z8jYpgI8_normal.jpg',\n",
       " 'profile_link_color': '19CF86',\n",
       " 'profile_sidebar_border_color': '000000',\n",
       " 'profile_sidebar_fill_color': '000000',\n",
       " 'profile_text_color': '000000',\n",
       " 'profile_use_background_image': False,\n",
       " 'protected': False,\n",
       " 'screen_name': 'Lucky62058333',\n",
       " 'statuses_count': 32710,\n",
       " 'time_zone': 'Pacific Time (US & Canada)',\n",
       " 'translator_type': 'none',\n",
       " 'url': None,\n",
       " 'utc_offset': -25200,\n",
       " 'verified': False}"
      ]
     },
     "execution_count": 42,
     "metadata": {},
     "output_type": "execute_result"
    }
   ],
   "source": [
    "status['user']"
   ]
  },
  {
   "cell_type": "code",
   "execution_count": 45,
   "metadata": {},
   "outputs": [
    {
     "data": {
      "text/plain": [
       "dict_keys(['hashtags', 'symbols', 'user_mentions', 'urls', 'media'])"
      ]
     },
     "execution_count": 45,
     "metadata": {},
     "output_type": "execute_result"
    }
   ],
   "source": [
    "status['entities'].keys()"
   ]
  },
  {
   "cell_type": "code",
   "execution_count": 46,
   "metadata": {},
   "outputs": [
    {
     "data": {
      "text/plain": [
       "[{'indices': [18, 30], 'text': 'DATASCIENCE'},\n",
       " {'indices': [53, 61], 'text': 'BIGDATA'}]"
      ]
     },
     "execution_count": 46,
     "metadata": {},
     "output_type": "execute_result"
    }
   ],
   "source": [
    "status['entities']['hashtags']"
   ]
  },
  {
   "cell_type": "code",
   "execution_count": 47,
   "metadata": {},
   "outputs": [
    {
     "data": {
      "text/plain": [
       "[{'display_url': 'buff.ly/2tjXHvV',\n",
       "  'expanded_url': 'http://buff.ly/2tjXHvV',\n",
       "  'indices': [62, 85],\n",
       "  'url': 'https://t.co/YukzXNhmR8'}]"
      ]
     },
     "execution_count": 47,
     "metadata": {},
     "output_type": "execute_result"
    }
   ],
   "source": [
    "status['entities']['urls']"
   ]
  },
  {
   "cell_type": "code",
   "execution_count": 48,
   "metadata": {},
   "outputs": [
    {
     "data": {
      "text/plain": [
       "[{'id': 1860689822,\n",
       "  'id_str': '1860689822',\n",
       "  'indices': [3, 16],\n",
       "  'name': 'Claire Tembouret',\n",
       "  'screen_name': 'MaarekClaire'}]"
      ]
     },
     "execution_count": 48,
     "metadata": {},
     "output_type": "execute_result"
    }
   ],
   "source": [
    "status['entities']['user_mentions']"
   ]
  },
  {
   "cell_type": "code",
   "execution_count": 49,
   "metadata": {
    "collapsed": true
   },
   "outputs": [],
   "source": [
    "from collections import Counter"
   ]
  },
  {
   "cell_type": "code",
   "execution_count": 50,
   "metadata": {},
   "outputs": [
    {
     "data": {
      "text/plain": [
       "Counter({1: 2, 2: 2})"
      ]
     },
     "execution_count": 50,
     "metadata": {},
     "output_type": "execute_result"
    }
   ],
   "source": [
    "Counter([1,2,2,1])"
   ]
  },
  {
   "cell_type": "code",
   "execution_count": 51,
   "metadata": {},
   "outputs": [
    {
     "data": {
      "text/plain": [
       "Counter({'a': 4, 'd': 3, 'f': 4, 'j': 1, 'k': 1, 'l': 1, 's': 4})"
      ]
     },
     "execution_count": 51,
     "metadata": {},
     "output_type": "execute_result"
    }
   ],
   "source": [
    "Counter('sadflkasfasdfasjdf')"
   ]
  },
  {
   "cell_type": "code",
   "execution_count": 52,
   "metadata": {
    "collapsed": true
   },
   "outputs": [],
   "source": [
    "from urllib.parse import urlparse"
   ]
  },
  {
   "cell_type": "code",
   "execution_count": 53,
   "metadata": {
    "collapsed": true
   },
   "outputs": [],
   "source": [
    "parsed_url = urlparse('https://t.co/YukzXNhmR8')"
   ]
  },
  {
   "cell_type": "code",
   "execution_count": 54,
   "metadata": {},
   "outputs": [
    {
     "data": {
      "text/plain": [
       "ParseResult(scheme='https', netloc='t.co', path='/YukzXNhmR8', params='', query='', fragment='')"
      ]
     },
     "execution_count": 54,
     "metadata": {},
     "output_type": "execute_result"
    }
   ],
   "source": [
    "parsed_url"
   ]
  },
  {
   "cell_type": "code",
   "execution_count": 55,
   "metadata": {
    "collapsed": true
   },
   "outputs": [],
   "source": [
    "def get_urls(result_json):\n",
    "    for status in result_json['statuses']:\n",
    "        for url in status['entities']['urls']:\n",
    "            parsed_url = urlparse(url['expanded_url'])\n",
    "            yield parsed_url.netloc"
   ]
  },
  {
   "cell_type": "code",
   "execution_count": 56,
   "metadata": {},
   "outputs": [
    {
     "data": {
      "text/plain": [
       "['buff.ly',\n",
       " 'twitter.com',\n",
       " 'www.universitiesuk.ac.uk',\n",
       " 'www.werkenbij.leidenuniv.nl',\n",
       " 'buff.ly',\n",
       " 'buff.ly',\n",
       " 'buff.ly']"
      ]
     },
     "execution_count": 56,
     "metadata": {},
     "output_type": "execute_result"
    }
   ],
   "source": [
    "list(get_urls(search_json))"
   ]
  },
  {
   "cell_type": "code",
   "execution_count": 57,
   "metadata": {},
   "outputs": [
    {
     "data": {
      "text/plain": [
       "Counter({'buff.ly': 4,\n",
       "         'twitter.com': 1,\n",
       "         'www.universitiesuk.ac.uk': 1,\n",
       "         'www.werkenbij.leidenuniv.nl': 1})"
      ]
     },
     "execution_count": 57,
     "metadata": {},
     "output_type": "execute_result"
    }
   ],
   "source": [
    "Counter(get_urls(search_json))"
   ]
  },
  {
   "cell_type": "code",
   "execution_count": 60,
   "metadata": {
    "collapsed": true
   },
   "outputs": [],
   "source": [
    "def get_many_urls(result_json, pages):\n",
    "    for i in range(pages):\n",
    "        for status in result_json['statuses']:\n",
    "            for url in status['entities']['urls']:\n",
    "                parsed_url = urlparse(url['expanded_url'])\n",
    "                yield parsed_url.netloc\n",
    "        result_json = requests.get(search_url \n",
    "        + search_json['search_metadata']['next_results'],\n",
    "                           auth=auth).json()"
   ]
  },
  {
   "cell_type": "code",
   "execution_count": 61,
   "metadata": {},
   "outputs": [],
   "source": [
    "many_counts = Counter(get_many_urls(search_json, 4))"
   ]
  },
  {
   "cell_type": "code",
   "execution_count": 62,
   "metadata": {},
   "outputs": [
    {
     "data": {
      "text/plain": [
       "Counter({'ItsIN.ga': 3,\n",
       "         'bit.ly': 6,\n",
       "         'buff.ly': 7,\n",
       "         'ga.co': 3,\n",
       "         'msc-data-science.iit.demokritos.gr': 3,\n",
       "         'sciblogs.co.nz': 3,\n",
       "         'tinyurl.com': 3,\n",
       "         'twitter.com': 1,\n",
       "         'www.sciencedaily.com': 3,\n",
       "         'www.universitiesuk.ac.uk': 1,\n",
       "         'www.werkenbij.leidenuniv.nl': 1})"
      ]
     },
     "execution_count": 62,
     "metadata": {},
     "output_type": "execute_result"
    }
   ],
   "source": [
    "many_counts"
   ]
  },
  {
   "cell_type": "code",
   "execution_count": 63,
   "metadata": {},
   "outputs": [
    {
     "data": {
      "text/plain": [
       "[('buff.ly', 7), ('bit.ly', 6), ('tinyurl.com', 3)]"
      ]
     },
     "execution_count": 63,
     "metadata": {},
     "output_type": "execute_result"
    }
   ],
   "source": [
    "many_counts.most_common(3)"
   ]
  },
  {
   "cell_type": "markdown",
   "metadata": {},
   "source": [
    "# MongoDB"
   ]
  },
  {
   "cell_type": "code",
   "execution_count": 66,
   "metadata": {
    "collapsed": true
   },
   "outputs": [],
   "source": [
    "from pymongo import MongoClient"
   ]
  },
  {
   "cell_type": "code",
   "execution_count": 68,
   "metadata": {
    "collapsed": true
   },
   "outputs": [],
   "source": [
    "client = MongoClient()#'localhost', 21017"
   ]
  },
  {
   "cell_type": "code",
   "execution_count": 70,
   "metadata": {},
   "outputs": [
    {
     "data": {
      "text/plain": [
       "MongoClient(host=['localhost:27017'], document_class=dict, tz_aware=False, connect=True)"
      ]
     },
     "execution_count": 70,
     "metadata": {},
     "output_type": "execute_result"
    }
   ],
   "source": [
    "client"
   ]
  },
  {
   "cell_type": "code",
   "execution_count": 71,
   "metadata": {
    "collapsed": true
   },
   "outputs": [],
   "source": [
    "coll = client.musicians.info"
   ]
  },
  {
   "cell_type": "code",
   "execution_count": 73,
   "metadata": {
    "collapsed": true
   },
   "outputs": [],
   "source": [
    "from datetime import datetime"
   ]
  },
  {
   "cell_type": "code",
   "execution_count": 74,
   "metadata": {},
   "outputs": [],
   "source": [
    "jackson = {'name': {'first': 'Michael',\n",
    "                    'last': 'Jackson',\n",
    "                    'middle': 'Joseph'},\n",
    "           'born': datetime(1958, 8, 29),\n",
    "           'died': datetime(2009, 6, 25),\n",
    "           'albums': [{'name': 'Thriller',\n",
    "                       'relased': 1982},\n",
    "                      {'name': 'Bad',\n",
    "                       'released': 1987}]}"
   ]
  },
  {
   "cell_type": "code",
   "execution_count": 75,
   "metadata": {
    "collapsed": true
   },
   "outputs": [],
   "source": [
    "result = coll.insert_one(jackson)"
   ]
  },
  {
   "cell_type": "code",
   "execution_count": 76,
   "metadata": {},
   "outputs": [
    {
     "data": {
      "text/plain": [
       "<pymongo.results.InsertOneResult at 0x112a4cc18>"
      ]
     },
     "execution_count": 76,
     "metadata": {},
     "output_type": "execute_result"
    }
   ],
   "source": [
    "result"
   ]
  },
  {
   "cell_type": "code",
   "execution_count": 77,
   "metadata": {},
   "outputs": [
    {
     "data": {
      "text/plain": [
       "True"
      ]
     },
     "execution_count": 77,
     "metadata": {},
     "output_type": "execute_result"
    }
   ],
   "source": [
    "result.acknowledged"
   ]
  },
  {
   "cell_type": "code",
   "execution_count": 78,
   "metadata": {},
   "outputs": [
    {
     "data": {
      "text/plain": [
       "ObjectId('595b5f05a0cb4c2498118502')"
      ]
     },
     "execution_count": 78,
     "metadata": {},
     "output_type": "execute_result"
    }
   ],
   "source": [
    "result.inserted_id"
   ]
  },
  {
   "cell_type": "code",
   "execution_count": 79,
   "metadata": {},
   "outputs": [
    {
     "data": {
      "text/plain": [
       "{'_id': ObjectId('595b5f05a0cb4c2498118502'),\n",
       " 'albums': [{'name': 'Thriller', 'relased': 1982},\n",
       "  {'name': 'Bad', 'released': 1987}],\n",
       " 'born': datetime.datetime(1958, 8, 29, 0, 0),\n",
       " 'died': datetime.datetime(2009, 6, 25, 0, 0),\n",
       " 'name': {'first': 'Michael', 'last': 'Jackson', 'middle': 'Joseph'}}"
      ]
     },
     "execution_count": 79,
     "metadata": {},
     "output_type": "execute_result"
    }
   ],
   "source": [
    "coll.find_one(result.inserted_id)"
   ]
  },
  {
   "cell_type": "code",
   "execution_count": 80,
   "metadata": {},
   "outputs": [
    {
     "data": {
      "text/plain": [
       "{'_id': ObjectId('595b5f05a0cb4c2498118502'),\n",
       " 'albums': [{'name': 'Thriller', 'relased': 1982},\n",
       "  {'name': 'Bad', 'released': 1987}],\n",
       " 'born': datetime.datetime(1958, 8, 29, 0, 0),\n",
       " 'died': datetime.datetime(2009, 6, 25, 0, 0),\n",
       " 'name': {'first': 'Michael', 'last': 'Jackson', 'middle': 'Joseph'}}"
      ]
     },
     "execution_count": 80,
     "metadata": {},
     "output_type": "execute_result"
    }
   ],
   "source": [
    "coll.find_one()"
   ]
  },
  {
   "cell_type": "code",
   "execution_count": 82,
   "metadata": {},
   "outputs": [
    {
     "name": "stdout",
     "output_type": "stream",
     "text": [
      "{'_id': ObjectId('595b5f05a0cb4c2498118502'), 'name': {'first': 'Michael', 'last': 'Jackson', 'middle': 'Joseph'}, 'born': datetime.datetime(1958, 8, 29, 0, 0), 'died': datetime.datetime(2009, 6, 25, 0, 0), 'albums': [{'name': 'Thriller', 'relased': 1982}, {'name': 'Bad', 'released': 1987}]}\n"
     ]
    }
   ],
   "source": [
    "for i in coll.find():\n",
    "    print(i)"
   ]
  },
  {
   "cell_type": "code",
   "execution_count": 83,
   "metadata": {},
   "outputs": [
    {
     "name": "stdout",
     "output_type": "stream",
     "text": [
      "{'_id': ObjectId('595b5f05a0cb4c2498118502'), 'name': {'first': 'Michael', 'last': 'Jackson', 'middle': 'Joseph'}, 'born': datetime.datetime(1958, 8, 29, 0, 0), 'died': datetime.datetime(2009, 6, 25, 0, 0), 'albums': [{'name': 'Thriller', 'relased': 1982}, {'name': 'Bad', 'released': 1987}]}\n"
     ]
    }
   ],
   "source": [
    "for i in coll.find().limit(10):\n",
    "    print(i)"
   ]
  },
  {
   "cell_type": "code",
   "execution_count": 85,
   "metadata": {},
   "outputs": [
    {
     "data": {
      "text/plain": [
       "{'_id': ObjectId('595b5f05a0cb4c2498118502'),\n",
       " 'albums': [{'name': 'Thriller', 'relased': 1982},\n",
       "  {'name': 'Bad', 'released': 1987}],\n",
       " 'born': datetime.datetime(1958, 8, 29, 0, 0),\n",
       " 'died': datetime.datetime(2009, 6, 25, 0, 0),\n",
       " 'name': {'first': 'Michael', 'last': 'Jackson', 'middle': 'Joseph'}}"
      ]
     },
     "execution_count": 85,
     "metadata": {},
     "output_type": "execute_result"
    }
   ],
   "source": [
    "coll.find_one({'born': datetime(1958, 8, 29)})"
   ]
  },
  {
   "cell_type": "code",
   "execution_count": 86,
   "metadata": {},
   "outputs": [
    {
     "data": {
      "text/plain": [
       "{'_id': ObjectId('595b5f05a0cb4c2498118502'),\n",
       " 'albums': [{'name': 'Thriller', 'relased': 1982},\n",
       "  {'name': 'Bad', 'released': 1987}],\n",
       " 'born': datetime.datetime(1958, 8, 29, 0, 0),\n",
       " 'died': datetime.datetime(2009, 6, 25, 0, 0),\n",
       " 'name': {'first': 'Michael', 'last': 'Jackson', 'middle': 'Joseph'}}"
      ]
     },
     "execution_count": 86,
     "metadata": {},
     "output_type": "execute_result"
    }
   ],
   "source": [
    "coll.find_one({'name.last': 'Jackson'})"
   ]
  },
  {
   "cell_type": "code",
   "execution_count": 89,
   "metadata": {},
   "outputs": [
    {
     "data": {
      "text/plain": [
       "{'_id': ObjectId('595b5f05a0cb4c2498118502'),\n",
       " 'albums': [{'name': 'Thriller', 'relased': 1982},\n",
       "  {'name': 'Bad', 'released': 1987}],\n",
       " 'born': datetime.datetime(1958, 8, 29, 0, 0),\n",
       " 'died': datetime.datetime(2009, 6, 25, 0, 0),\n",
       " 'name': {'first': 'Michael', 'last': 'Jackson', 'middle': 'Joseph'}}"
      ]
     },
     "execution_count": 89,
     "metadata": {},
     "output_type": "execute_result"
    }
   ],
   "source": [
    "coll.find_one({'albums.relased': 1982})"
   ]
  },
  {
   "cell_type": "code",
   "execution_count": 91,
   "metadata": {},
   "outputs": [
    {
     "data": {
      "text/plain": [
       "{'_id': ObjectId('595b5f05a0cb4c2498118502'),\n",
       " 'albums': [{'name': 'Thriller', 'relased': 1982},\n",
       "  {'name': 'Bad', 'released': 1987}],\n",
       " 'born': datetime.datetime(1958, 8, 29, 0, 0),\n",
       " 'died': datetime.datetime(2009, 6, 25, 0, 0),\n",
       " 'name': {'first': 'Michael', 'last': 'Jackson', 'middle': 'Joseph'}}"
      ]
     },
     "execution_count": 91,
     "metadata": {},
     "output_type": "execute_result"
    }
   ],
   "source": [
    "coll.find_one({'albums.relased': {'$gt': 1980}})"
   ]
  },
  {
   "cell_type": "code",
   "execution_count": 92,
   "metadata": {},
   "outputs": [
    {
     "data": {
      "text/plain": [
       "{'_id': ObjectId('595b5f05a0cb4c2498118502'),\n",
       " 'albums': [{'name': 'Thriller', 'relased': 1982},\n",
       "  {'name': 'Bad', 'released': 1987}],\n",
       " 'born': datetime.datetime(1958, 8, 29, 0, 0),\n",
       " 'died': datetime.datetime(2009, 6, 25, 0, 0),\n",
       " 'name': {'first': 'Michael', 'last': 'Jackson', 'middle': 'Joseph'}}"
      ]
     },
     "execution_count": 92,
     "metadata": {},
     "output_type": "execute_result"
    }
   ],
   "source": [
    "coll.find_one({'born': {'$gt': datetime(1950, 1, 1)}})"
   ]
  },
  {
   "cell_type": "code",
   "execution_count": 93,
   "metadata": {},
   "outputs": [
    {
     "data": {
      "text/plain": [
       "{'_id': ObjectId('595b5f05a0cb4c2498118502'),\n",
       " 'albums': [{'name': 'Thriller', 'relased': 1982},\n",
       "  {'name': 'Bad', 'released': 1987}],\n",
       " 'born': datetime.datetime(1958, 8, 29, 0, 0),\n",
       " 'died': datetime.datetime(2009, 6, 25, 0, 0),\n",
       " 'name': {'first': 'Michael', 'last': 'Jackson', 'middle': 'Joseph'}}"
      ]
     },
     "execution_count": 93,
     "metadata": {},
     "output_type": "execute_result"
    }
   ],
   "source": [
    "coll.find_one({'born': {'$gt': datetime(1958, 1, 1), # AND\n",
    "                        '$lt': datetime(1958, 12, 31)}})"
   ]
  },
  {
   "cell_type": "code",
   "execution_count": 97,
   "metadata": {},
   "outputs": [
    {
     "data": {
      "text/plain": [
       "{'_id': ObjectId('595b5f05a0cb4c2498118502'),\n",
       " 'albums': [{'name': 'Thriller', 'relased': 1982},\n",
       "  {'name': 'Bad', 'released': 1987}],\n",
       " 'born': datetime.datetime(1958, 8, 29, 0, 0),\n",
       " 'died': datetime.datetime(2009, 6, 25, 0, 0),\n",
       " 'name': {'first': 'Michael', 'last': 'Jackson', 'middle': 'Joseph'}}"
      ]
     },
     "execution_count": 97,
     "metadata": {},
     "output_type": "execute_result"
    }
   ],
   "source": [
    "coll.find_one({'$or': [{'born': {'$gt': datetime(1958, 1, 1)}}, # OR\n",
    "                       {'born': {'$lt': datetime(1958, 12, 31)}}]})"
   ]
  },
  {
   "cell_type": "code",
   "execution_count": 100,
   "metadata": {},
   "outputs": [
    {
     "data": {
      "text/plain": [
       "{'name': {'first': 'Michael', 'last': 'Jackson', 'middle': 'Joseph'}}"
      ]
     },
     "execution_count": 100,
     "metadata": {},
     "output_type": "execute_result"
    }
   ],
   "source": [
    "coll.find_one({}, {'name': 1, '_id': 0})"
   ]
  },
  {
   "cell_type": "code",
   "execution_count": 101,
   "metadata": {},
   "outputs": [
    {
     "data": {
      "text/plain": [
       "{'name': {'first': 'Michael'}}"
      ]
     },
     "execution_count": 101,
     "metadata": {},
     "output_type": "execute_result"
    }
   ],
   "source": [
    "coll.find_one({}, {'name.first': 1, '_id': 0})"
   ]
  },
  {
   "cell_type": "code",
   "execution_count": 102,
   "metadata": {
    "collapsed": true
   },
   "outputs": [],
   "source": [
    "bowie = {'name': {'first': 'David',\n",
    "                  'last': 'Bowie',\n",
    "                  'middle': 'Robert'},\n",
    "         'born': datetime(1947,1,8)}"
   ]
  },
  {
   "cell_type": "code",
   "execution_count": 103,
   "metadata": {},
   "outputs": [
    {
     "data": {
      "text/plain": [
       "<pymongo.results.InsertOneResult at 0x112dfa3a8>"
      ]
     },
     "execution_count": 103,
     "metadata": {},
     "output_type": "execute_result"
    }
   ],
   "source": [
    "coll.insert_one(bowie)"
   ]
  },
  {
   "cell_type": "code",
   "execution_count": 105,
   "metadata": {},
   "outputs": [
    {
     "data": {
      "text/plain": [
       "[{'_id': ObjectId('595b5f05a0cb4c2498118502'),\n",
       "  'albums': [{'name': 'Thriller', 'relased': 1982},\n",
       "   {'name': 'Bad', 'released': 1987}],\n",
       "  'born': datetime.datetime(1958, 8, 29, 0, 0),\n",
       "  'died': datetime.datetime(2009, 6, 25, 0, 0),\n",
       "  'name': {'first': 'Michael', 'last': 'Jackson', 'middle': 'Joseph'}},\n",
       " {'_id': ObjectId('595b62aaa0cb4c2498118503'),\n",
       "  'born': datetime.datetime(1947, 1, 8, 0, 0),\n",
       "  'name': {'first': 'David', 'last': 'Bowie', 'middle': 'Robert'}}]"
      ]
     },
     "execution_count": 105,
     "metadata": {},
     "output_type": "execute_result"
    }
   ],
   "source": [
    "list(coll.find())"
   ]
  },
  {
   "cell_type": "code",
   "execution_count": 106,
   "metadata": {},
   "outputs": [
    {
     "data": {
      "text/plain": [
       "[{'_id': ObjectId('595b62aaa0cb4c2498118503'),\n",
       "  'born': datetime.datetime(1947, 1, 8, 0, 0),\n",
       "  'name': {'first': 'David', 'last': 'Bowie', 'middle': 'Robert'}},\n",
       " {'_id': ObjectId('595b5f05a0cb4c2498118502'),\n",
       "  'albums': [{'name': 'Thriller', 'relased': 1982},\n",
       "   {'name': 'Bad', 'released': 1987}],\n",
       "  'born': datetime.datetime(1958, 8, 29, 0, 0),\n",
       "  'died': datetime.datetime(2009, 6, 25, 0, 0),\n",
       "  'name': {'first': 'Michael', 'last': 'Jackson', 'middle': 'Joseph'}}]"
      ]
     },
     "execution_count": 106,
     "metadata": {},
     "output_type": "execute_result"
    }
   ],
   "source": [
    "list(coll.find().sort('born'))"
   ]
  },
  {
   "cell_type": "code",
   "execution_count": 107,
   "metadata": {
    "collapsed": true
   },
   "outputs": [],
   "source": [
    "from pymongo import DESCENDING"
   ]
  },
  {
   "cell_type": "code",
   "execution_count": 108,
   "metadata": {},
   "outputs": [
    {
     "data": {
      "text/plain": [
       "[{'_id': ObjectId('595b5f05a0cb4c2498118502'),\n",
       "  'albums': [{'name': 'Thriller', 'relased': 1982},\n",
       "   {'name': 'Bad', 'released': 1987}],\n",
       "  'born': datetime.datetime(1958, 8, 29, 0, 0),\n",
       "  'died': datetime.datetime(2009, 6, 25, 0, 0),\n",
       "  'name': {'first': 'Michael', 'last': 'Jackson', 'middle': 'Joseph'}},\n",
       " {'_id': ObjectId('595b62aaa0cb4c2498118503'),\n",
       "  'born': datetime.datetime(1947, 1, 8, 0, 0),\n",
       "  'name': {'first': 'David', 'last': 'Bowie', 'middle': 'Robert'}}]"
      ]
     },
     "execution_count": 108,
     "metadata": {},
     "output_type": "execute_result"
    }
   ],
   "source": [
    "list(coll.find().sort('born', DESCENDING))"
   ]
  },
  {
   "cell_type": "code",
   "execution_count": 109,
   "metadata": {
    "collapsed": true
   },
   "outputs": [],
   "source": [
    "result = coll.update_one({'name.last': 'Bowie'}, {'$set': {'albums': []}})"
   ]
  },
  {
   "cell_type": "code",
   "execution_count": 110,
   "metadata": {},
   "outputs": [
    {
     "data": {
      "text/plain": [
       "[{'_id': ObjectId('595b5f05a0cb4c2498118502'),\n",
       "  'albums': [{'name': 'Thriller', 'relased': 1982},\n",
       "   {'name': 'Bad', 'released': 1987}],\n",
       "  'born': datetime.datetime(1958, 8, 29, 0, 0),\n",
       "  'died': datetime.datetime(2009, 6, 25, 0, 0),\n",
       "  'name': {'first': 'Michael', 'last': 'Jackson', 'middle': 'Joseph'}},\n",
       " {'_id': ObjectId('595b62aaa0cb4c2498118503'),\n",
       "  'albums': [],\n",
       "  'born': datetime.datetime(1947, 1, 8, 0, 0),\n",
       "  'name': {'first': 'David', 'last': 'Bowie', 'middle': 'Robert'}}]"
      ]
     },
     "execution_count": 110,
     "metadata": {},
     "output_type": "execute_result"
    }
   ],
   "source": [
    "list(coll.find().sort('born', DESCENDING))"
   ]
  },
  {
   "cell_type": "code",
   "execution_count": 111,
   "metadata": {},
   "outputs": [
    {
     "data": {
      "text/plain": [
       "<pymongo.results.UpdateResult at 0x1130ada68>"
      ]
     },
     "execution_count": 111,
     "metadata": {},
     "output_type": "execute_result"
    }
   ],
   "source": [
    "coll.update_one({'name.last': 'Bowie'},\n",
    "                {'$push': {'albums': {'released': 1983,\n",
    "                                      'title':  \"Let's dance.\"}}})"
   ]
  },
  {
   "cell_type": "code",
   "execution_count": 112,
   "metadata": {},
   "outputs": [
    {
     "data": {
      "text/plain": [
       "{'_id': ObjectId('595b62aaa0cb4c2498118503'),\n",
       " 'albums': [{'released': 1983, 'title': \"Let's dance.\"}],\n",
       " 'born': datetime.datetime(1947, 1, 8, 0, 0),\n",
       " 'name': {'first': 'David', 'last': 'Bowie', 'middle': 'Robert'}}"
      ]
     },
     "execution_count": 112,
     "metadata": {},
     "output_type": "execute_result"
    }
   ],
   "source": [
    "coll.find_one({'name.last': 'Bowie'})"
   ]
  },
  {
   "cell_type": "markdown",
   "metadata": {},
   "source": [
    "More info: [https://docs.mongodb.com/manual/reference/operator/query/](https://docs.mongodb.com/manual/reference/operator/query/)"
   ]
  },
  {
   "cell_type": "code",
   "execution_count": null,
   "metadata": {
    "collapsed": true
   },
   "outputs": [],
   "source": []
  }
 ],
 "metadata": {
  "kernelspec": {
   "display_name": "Python 3",
   "language": "python",
   "name": "python3"
  },
  "language_info": {
   "codemirror_mode": {
    "name": "ipython",
    "version": 3
   },
   "file_extension": ".py",
   "mimetype": "text/x-python",
   "name": "python",
   "nbconvert_exporter": "python",
   "pygments_lexer": "ipython3",
   "version": "3.6.1"
  }
 },
 "nbformat": 4,
 "nbformat_minor": 2
}
