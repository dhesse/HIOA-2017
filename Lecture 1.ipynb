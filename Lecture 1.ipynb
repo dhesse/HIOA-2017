{
 "cells": [
  {
   "cell_type": "markdown",
   "metadata": {},
   "source": [
    "## Variables\n",
    "\n",
    "Variables let you store things. Here, we'll get to know strings, integers, floating point numbers, and booleans."
   ]
  },
  {
   "cell_type": "code",
   "execution_count": 1,
   "metadata": {
    "collapsed": true
   },
   "outputs": [],
   "source": [
    "# variable\n",
    "name = \"Dirk\""
   ]
  },
  {
   "cell_type": "code",
   "execution_count": 2,
   "metadata": {},
   "outputs": [
    {
     "data": {
      "text/plain": [
       "'Dirk'"
      ]
     },
     "execution_count": 2,
     "metadata": {},
     "output_type": "execute_result"
    }
   ],
   "source": [
    "name"
   ]
  },
  {
   "cell_type": "code",
   "execution_count": 3,
   "metadata": {
    "collapsed": true
   },
   "outputs": [],
   "source": [
    "foo = 12"
   ]
  },
  {
   "cell_type": "code",
   "execution_count": 4,
   "metadata": {},
   "outputs": [
    {
     "data": {
      "text/plain": [
       "12"
      ]
     },
     "execution_count": 4,
     "metadata": {},
     "output_type": "execute_result"
    }
   ],
   "source": [
    "foo"
   ]
  },
  {
   "cell_type": "code",
   "execution_count": 5,
   "metadata": {},
   "outputs": [
    {
     "data": {
      "text/plain": [
       "str"
      ]
     },
     "execution_count": 5,
     "metadata": {},
     "output_type": "execute_result"
    }
   ],
   "source": [
    "type(name)"
   ]
  },
  {
   "cell_type": "code",
   "execution_count": 6,
   "metadata": {},
   "outputs": [
    {
     "data": {
      "text/plain": [
       "int"
      ]
     },
     "execution_count": 6,
     "metadata": {},
     "output_type": "execute_result"
    }
   ],
   "source": [
    "type(foo)"
   ]
  },
  {
   "cell_type": "code",
   "execution_count": 7,
   "metadata": {
    "collapsed": true
   },
   "outputs": [],
   "source": [
    "bar = 42.1"
   ]
  },
  {
   "cell_type": "code",
   "execution_count": 8,
   "metadata": {},
   "outputs": [
    {
     "data": {
      "text/plain": [
       "42.1"
      ]
     },
     "execution_count": 8,
     "metadata": {},
     "output_type": "execute_result"
    }
   ],
   "source": [
    "bar"
   ]
  },
  {
   "cell_type": "markdown",
   "metadata": {},
   "source": [
    "## Getting Help\n",
    "\n",
    "Python lets you access help for almost eveything using the `help` function or in Jupyter Notebooks the question mark (`?`)."
   ]
  },
  {
   "cell_type": "code",
   "execution_count": 9,
   "metadata": {},
   "outputs": [
    {
     "data": {
      "text/plain": [
       "float"
      ]
     },
     "execution_count": 9,
     "metadata": {},
     "output_type": "execute_result"
    }
   ],
   "source": [
    "type(bar)"
   ]
  },
  {
   "cell_type": "code",
   "execution_count": 10,
   "metadata": {
    "collapsed": true
   },
   "outputs": [
    {
     "name": "stdout",
     "output_type": "stream",
     "text": [
      "Help on class type in module builtins:\n",
      "\n",
      "class type(object)\n",
      " |  type(object_or_name, bases, dict)\n",
      " |  type(object) -> the object's type\n",
      " |  type(name, bases, dict) -> a new type\n",
      " |  \n",
      " |  Methods defined here:\n",
      " |  \n",
      " |  __call__(self, /, *args, **kwargs)\n",
      " |      Call self as a function.\n",
      " |  \n",
      " |  __delattr__(self, name, /)\n",
      " |      Implement delattr(self, name).\n",
      " |  \n",
      " |  __dir__(...)\n",
      " |      __dir__() -> list\n",
      " |      specialized __dir__ implementation for types\n",
      " |  \n",
      " |  __getattribute__(self, name, /)\n",
      " |      Return getattr(self, name).\n",
      " |  \n",
      " |  __init__(self, /, *args, **kwargs)\n",
      " |      Initialize self.  See help(type(self)) for accurate signature.\n",
      " |  \n",
      " |  __instancecheck__(...)\n",
      " |      __instancecheck__() -> bool\n",
      " |      check if an object is an instance\n",
      " |  \n",
      " |  __new__(*args, **kwargs)\n",
      " |      Create and return a new object.  See help(type) for accurate signature.\n",
      " |  \n",
      " |  __prepare__(...)\n",
      " |      __prepare__() -> dict\n",
      " |      used to create the namespace for the class statement\n",
      " |  \n",
      " |  __repr__(self, /)\n",
      " |      Return repr(self).\n",
      " |  \n",
      " |  __setattr__(self, name, value, /)\n",
      " |      Implement setattr(self, name, value).\n",
      " |  \n",
      " |  __sizeof__(...)\n",
      " |      __sizeof__() -> int\n",
      " |      return memory consumption of the type object\n",
      " |  \n",
      " |  __subclasscheck__(...)\n",
      " |      __subclasscheck__() -> bool\n",
      " |      check if a class is a subclass\n",
      " |  \n",
      " |  __subclasses__(...)\n",
      " |      __subclasses__() -> list of immediate subclasses\n",
      " |  \n",
      " |  mro(...)\n",
      " |      mro() -> list\n",
      " |      return a type's method resolution order\n",
      " |  \n",
      " |  ----------------------------------------------------------------------\n",
      " |  Data descriptors defined here:\n",
      " |  \n",
      " |  __abstractmethods__\n",
      " |  \n",
      " |  __dict__\n",
      " |  \n",
      " |  __text_signature__\n",
      " |  \n",
      " |  ----------------------------------------------------------------------\n",
      " |  Data and other attributes defined here:\n",
      " |  \n",
      " |  __base__ = <class 'object'>\n",
      " |      The most base type\n",
      " |  \n",
      " |  __bases__ = (<class 'object'>,)\n",
      " |  \n",
      " |  __basicsize__ = 864\n",
      " |  \n",
      " |  __dictoffset__ = 264\n",
      " |  \n",
      " |  __flags__ = 2148291584\n",
      " |  \n",
      " |  __itemsize__ = 40\n",
      " |  \n",
      " |  __mro__ = (<class 'type'>, <class 'object'>)\n",
      " |  \n",
      " |  __weakrefoffset__ = 368\n",
      "\n"
     ]
    }
   ],
   "source": [
    "help(type)"
   ]
  },
  {
   "cell_type": "code",
   "execution_count": 11,
   "metadata": {
    "collapsed": true
   },
   "outputs": [],
   "source": [
    "?type"
   ]
  },
  {
   "cell_type": "code",
   "execution_count": 12,
   "metadata": {},
   "outputs": [
    {
     "data": {
      "text/plain": [
       "bool"
      ]
     },
     "execution_count": 12,
     "metadata": {},
     "output_type": "execute_result"
    }
   ],
   "source": [
    "type(True)"
   ]
  },
  {
   "cell_type": "code",
   "execution_count": 13,
   "metadata": {},
   "outputs": [
    {
     "data": {
      "text/plain": [
       "bool"
      ]
     },
     "execution_count": 13,
     "metadata": {},
     "output_type": "execute_result"
    }
   ],
   "source": [
    "type(False)"
   ]
  },
  {
   "cell_type": "code",
   "execution_count": 14,
   "metadata": {},
   "outputs": [
    {
     "data": {
      "text/plain": [
       "12"
      ]
     },
     "execution_count": 14,
     "metadata": {},
     "output_type": "execute_result"
    }
   ],
   "source": [
    "foo"
   ]
  },
  {
   "cell_type": "markdown",
   "metadata": {},
   "source": [
    "Booleans are the result of comparisons."
   ]
  },
  {
   "cell_type": "code",
   "execution_count": 15,
   "metadata": {},
   "outputs": [
    {
     "data": {
      "text/plain": [
       "False"
      ]
     },
     "execution_count": 15,
     "metadata": {},
     "output_type": "execute_result"
    }
   ],
   "source": [
    "foo < 10"
   ]
  },
  {
   "cell_type": "code",
   "execution_count": 16,
   "metadata": {},
   "outputs": [
    {
     "data": {
      "text/plain": [
       "True"
      ]
     },
     "execution_count": 16,
     "metadata": {},
     "output_type": "execute_result"
    }
   ],
   "source": [
    "foo > 10"
   ]
  },
  {
   "cell_type": "code",
   "execution_count": 164,
   "metadata": {},
   "outputs": [
    {
     "data": {
      "text/plain": [
       "False"
      ]
     },
     "execution_count": 164,
     "metadata": {},
     "output_type": "execute_result"
    }
   ],
   "source": [
    "foo == 13 # two equal signs: comparison, one: assigment"
   ]
  },
  {
   "cell_type": "markdown",
   "metadata": {},
   "source": [
    "# Lists\n",
    "\n",
    "Lists can store pretty much any python object, including another list. They are produced using square brackets."
   ]
  },
  {
   "cell_type": "code",
   "execution_count": 19,
   "metadata": {
    "collapsed": true
   },
   "outputs": [],
   "source": [
    "my_list = [1, 'String', 3.2, False, []]"
   ]
  },
  {
   "cell_type": "code",
   "execution_count": 165,
   "metadata": {},
   "outputs": [
    {
     "data": {
      "text/plain": [
       "'String'"
      ]
     },
     "execution_count": 165,
     "metadata": {},
     "output_type": "execute_result"
    }
   ],
   "source": [
    "my_list[1] # taking out an element"
   ]
  },
  {
   "cell_type": "code",
   "execution_count": 21,
   "metadata": {},
   "outputs": [
    {
     "data": {
      "text/plain": [
       "2"
      ]
     },
     "execution_count": 21,
     "metadata": {},
     "output_type": "execute_result"
    }
   ],
   "source": [
    "my_list.index(3.2) # the index of 3.2"
   ]
  },
  {
   "cell_type": "code",
   "execution_count": 22,
   "metadata": {
    "collapsed": true
   },
   "outputs": [],
   "source": [
    "name = 'Aiko' # overwriting the variable"
   ]
  },
  {
   "cell_type": "code",
   "execution_count": 23,
   "metadata": {},
   "outputs": [
    {
     "data": {
      "text/plain": [
       "'Aiko'"
      ]
     },
     "execution_count": 23,
     "metadata": {},
     "output_type": "execute_result"
    }
   ],
   "source": [
    "name"
   ]
  },
  {
   "cell_type": "code",
   "execution_count": 24,
   "metadata": {},
   "outputs": [
    {
     "data": {
      "text/plain": [
       "5"
      ]
     },
     "execution_count": 24,
     "metadata": {},
     "output_type": "execute_result"
    }
   ],
   "source": [
    "len(my_list) # how many elements?"
   ]
  },
  {
   "cell_type": "code",
   "execution_count": 26,
   "metadata": {},
   "outputs": [
    {
     "ename": "IndexError",
     "evalue": "list index out of range",
     "output_type": "error",
     "traceback": [
      "\u001b[0;31m---------------------------------------------------------------------------\u001b[0m",
      "\u001b[0;31mIndexError\u001b[0m                                Traceback (most recent call last)",
      "\u001b[0;32m<ipython-input-26-4db984051bbf>\u001b[0m in \u001b[0;36m<module>\u001b[0;34m()\u001b[0m\n\u001b[0;32m----> 1\u001b[0;31m \u001b[0mmy_list\u001b[0m\u001b[0;34m[\u001b[0m\u001b[0;36m10\u001b[0m\u001b[0;34m]\u001b[0m\u001b[0;34m\u001b[0m\u001b[0m\n\u001b[0m",
      "\u001b[0;31mIndexError\u001b[0m: list index out of range"
     ]
    }
   ],
   "source": [
    "my_list[10] # error: my_list too short"
   ]
  },
  {
   "cell_type": "code",
   "execution_count": 27,
   "metadata": {},
   "outputs": [
    {
     "data": {
      "text/plain": [
       "3.2"
      ]
     },
     "execution_count": 27,
     "metadata": {},
     "output_type": "execute_result"
    }
   ],
   "source": [
    "my_list[-3] # tird from the right"
   ]
  },
  {
   "cell_type": "code",
   "execution_count": 28,
   "metadata": {},
   "outputs": [
    {
     "data": {
      "text/plain": [
       "['String', 3.2, False]"
      ]
     },
     "execution_count": 28,
     "metadata": {},
     "output_type": "execute_result"
    }
   ],
   "source": [
    "my_list[1:4] # 1 inclusive, 4 exclusive"
   ]
  },
  {
   "cell_type": "code",
   "execution_count": 30,
   "metadata": {},
   "outputs": [
    {
     "data": {
      "text/plain": [
       "[[], False, 3.2]"
      ]
     },
     "execution_count": 30,
     "metadata": {},
     "output_type": "execute_result"
    }
   ],
   "source": [
    "my_list[4:1:-1] # reversed"
   ]
  },
  {
   "cell_type": "code",
   "execution_count": 31,
   "metadata": {},
   "outputs": [
    {
     "data": {
      "text/plain": [
       "[1, 3.2, []]"
      ]
     },
     "execution_count": 31,
     "metadata": {},
     "output_type": "execute_result"
    }
   ],
   "source": [
    "my_list[::2] # every second object."
   ]
  },
  {
   "cell_type": "markdown",
   "metadata": {},
   "source": [
    "# List comprehensions\n",
    "\n",
    "List comprehensions can create complex lists in one line of code. They can greatly increase readability, but also make code much harder to read. Use with care."
   ]
  },
  {
   "cell_type": "code",
   "execution_count": 32,
   "metadata": {},
   "outputs": [
    {
     "data": {
      "text/plain": [
       "[1, 4, 9]"
      ]
     },
     "execution_count": 32,
     "metadata": {},
     "output_type": "execute_result"
    }
   ],
   "source": [
    "# Do\n",
    "[x**2 for x in [1,2,3]]"
   ]
  },
  {
   "cell_type": "code",
   "execution_count": 34,
   "metadata": {},
   "outputs": [
    {
     "data": {
      "text/plain": [
       "[[4, 9, 16], [9, 16, 25], [16, 25, 36]]"
      ]
     },
     "execution_count": 34,
     "metadata": {},
     "output_type": "execute_result"
    }
   ],
   "source": [
    "# Don't!\n",
    "[[x**2 for x in [a+1, a+2, a+3]] for a in [1,2,3]]"
   ]
  },
  {
   "cell_type": "markdown",
   "metadata": {},
   "source": [
    "### Some more on lists."
   ]
  },
  {
   "cell_type": "code",
   "execution_count": 35,
   "metadata": {},
   "outputs": [
    {
     "data": {
      "text/plain": [
       "[1, 'String', 3.2, False, []]"
      ]
     },
     "execution_count": 35,
     "metadata": {},
     "output_type": "execute_result"
    }
   ],
   "source": [
    "my_list"
   ]
  },
  {
   "cell_type": "code",
   "execution_count": 36,
   "metadata": {},
   "outputs": [
    {
     "data": {
      "text/plain": [
       "[]"
      ]
     },
     "execution_count": 36,
     "metadata": {},
     "output_type": "execute_result"
    }
   ],
   "source": [
    "my_list[-1] # last element"
   ]
  },
  {
   "cell_type": "code",
   "execution_count": 37,
   "metadata": {},
   "outputs": [
    {
     "data": {
      "text/plain": [
       "[1, 'String', 3.2, False, []]"
      ]
     },
     "execution_count": 37,
     "metadata": {},
     "output_type": "execute_result"
    }
   ],
   "source": [
    "my_list # still the same"
   ]
  },
  {
   "cell_type": "code",
   "execution_count": 38,
   "metadata": {},
   "outputs": [
    {
     "data": {
      "text/plain": [
       "[]"
      ]
     },
     "execution_count": 38,
     "metadata": {},
     "output_type": "execute_result"
    }
   ],
   "source": [
    "my_list.pop() # return and remove"
   ]
  },
  {
   "cell_type": "code",
   "execution_count": 39,
   "metadata": {},
   "outputs": [
    {
     "data": {
      "text/plain": [
       "[1, 'String', 3.2, False]"
      ]
     },
     "execution_count": 39,
     "metadata": {},
     "output_type": "execute_result"
    }
   ],
   "source": [
    "my_list # modified"
   ]
  },
  {
   "cell_type": "code",
   "execution_count": 42,
   "metadata": {},
   "outputs": [],
   "source": [
    "my_list.remove(3.2) # remove without returning"
   ]
  },
  {
   "cell_type": "code",
   "execution_count": 43,
   "metadata": {},
   "outputs": [
    {
     "data": {
      "text/plain": [
       "[1, 'String', False]"
      ]
     },
     "execution_count": 43,
     "metadata": {},
     "output_type": "execute_result"
    }
   ],
   "source": [
    "my_list # no 3.2"
   ]
  },
  {
   "cell_type": "code",
   "execution_count": 44,
   "metadata": {
    "collapsed": true
   },
   "outputs": [],
   "source": [
    "?my_list.pop"
   ]
  },
  {
   "cell_type": "code",
   "execution_count": 45,
   "metadata": {
    "collapsed": true
   },
   "outputs": [],
   "source": [
    "my_list.extend([2,3]) # concatenate the two lists"
   ]
  },
  {
   "cell_type": "code",
   "execution_count": 46,
   "metadata": {},
   "outputs": [
    {
     "data": {
      "text/plain": [
       "[1, 'String', False, 2, 3]"
      ]
     },
     "execution_count": 46,
     "metadata": {},
     "output_type": "execute_result"
    }
   ],
   "source": [
    "my_list"
   ]
  },
  {
   "cell_type": "code",
   "execution_count": 47,
   "metadata": {
    "collapsed": true
   },
   "outputs": [],
   "source": [
    "my_list.append('me') # append one element"
   ]
  },
  {
   "cell_type": "code",
   "execution_count": 48,
   "metadata": {},
   "outputs": [
    {
     "data": {
      "text/plain": [
       "[1, 'String', False, 2, 3, 'me']"
      ]
     },
     "execution_count": 48,
     "metadata": {},
     "output_type": "execute_result"
    }
   ],
   "source": [
    "my_list"
   ]
  },
  {
   "cell_type": "code",
   "execution_count": 49,
   "metadata": {
    "collapsed": true
   },
   "outputs": [],
   "source": [
    "my_list.extend('me again') # gotcha, will interpret the string as a kind of list"
   ]
  },
  {
   "cell_type": "code",
   "execution_count": 50,
   "metadata": {},
   "outputs": [
    {
     "data": {
      "text/plain": [
       "[1, 'String', False, 2, 3, 'me', 'm', 'e', ' ', 'a', 'g', 'a', 'i', 'n']"
      ]
     },
     "execution_count": 50,
     "metadata": {},
     "output_type": "execute_result"
    }
   ],
   "source": [
    "my_list"
   ]
  },
  {
   "cell_type": "code",
   "execution_count": 51,
   "metadata": {},
   "outputs": [
    {
     "data": {
      "text/plain": [
       "[1, 'String', False, 2, 3, 'me', 'm', 'e', ' ', 'a', 'g', 'a', 'i', 'n', 1, 2]"
      ]
     },
     "execution_count": 51,
     "metadata": {},
     "output_type": "execute_result"
    }
   ],
   "source": [
    "my_list + [1, 2] # doesn't modify, will leave my_list alone"
   ]
  },
  {
   "cell_type": "code",
   "execution_count": 52,
   "metadata": {},
   "outputs": [
    {
     "data": {
      "text/plain": [
       "[1, 'String', False, 2, 3, 'me', 'm', 'e', ' ', 'a', 'g', 'a', 'i', 'n']"
      ]
     },
     "execution_count": 52,
     "metadata": {},
     "output_type": "execute_result"
    }
   ],
   "source": [
    "my_list"
   ]
  },
  {
   "cell_type": "markdown",
   "metadata": {},
   "source": [
    "## Strings\n",
    "\n",
    "Strings work a lot like lists and can be used in very similar ways."
   ]
  },
  {
   "cell_type": "code",
   "execution_count": 53,
   "metadata": {},
   "outputs": [
    {
     "data": {
      "text/plain": [
       "'t'"
      ]
     },
     "execution_count": 53,
     "metadata": {},
     "output_type": "execute_result"
    }
   ],
   "source": [
    "\"My String\"[4]"
   ]
  },
  {
   "cell_type": "code",
   "execution_count": 54,
   "metadata": {},
   "outputs": [
    {
     "data": {
      "text/plain": [
       "'trin'"
      ]
     },
     "execution_count": 54,
     "metadata": {},
     "output_type": "execute_result"
    }
   ],
   "source": [
    "\"My String\"[4:8]"
   ]
  },
  {
   "cell_type": "code",
   "execution_count": 55,
   "metadata": {},
   "outputs": [
    {
     "data": {
      "text/plain": [
       "'Hello, World'"
      ]
     },
     "execution_count": 55,
     "metadata": {},
     "output_type": "execute_result"
    }
   ],
   "source": [
    "\"Hello\" + \", World\""
   ]
  },
  {
   "cell_type": "markdown",
   "metadata": {},
   "source": [
    "# Some sorting examples"
   ]
  },
  {
   "cell_type": "code",
   "execution_count": 58,
   "metadata": {},
   "outputs": [],
   "source": [
    "a = [5, 9, 1, -150]"
   ]
  },
  {
   "cell_type": "code",
   "execution_count": 59,
   "metadata": {},
   "outputs": [
    {
     "data": {
      "text/plain": [
       "[5, 9, 1, -150]"
      ]
     },
     "execution_count": 59,
     "metadata": {},
     "output_type": "execute_result"
    }
   ],
   "source": [
    "a"
   ]
  },
  {
   "cell_type": "code",
   "execution_count": 60,
   "metadata": {
    "collapsed": true
   },
   "outputs": [],
   "source": [
    "a.sort()"
   ]
  },
  {
   "cell_type": "code",
   "execution_count": 61,
   "metadata": {},
   "outputs": [
    {
     "data": {
      "text/plain": [
       "[-150, 1, 5, 9]"
      ]
     },
     "execution_count": 61,
     "metadata": {},
     "output_type": "execute_result"
    }
   ],
   "source": [
    "a"
   ]
  },
  {
   "cell_type": "code",
   "execution_count": 62,
   "metadata": {},
   "outputs": [
    {
     "data": {
      "text/plain": [
       "[-20, 5, 9]"
      ]
     },
     "execution_count": 62,
     "metadata": {},
     "output_type": "execute_result"
    }
   ],
   "source": [
    "sorted([5,9,-20])"
   ]
  },
  {
   "cell_type": "code",
   "execution_count": 63,
   "metadata": {},
   "outputs": [
    {
     "data": {
      "text/plain": [
       "[' ', ',', 'd', 'e', 'H', 'l', 'l', 'l', 'o', 'o', 'r', 'W']"
      ]
     },
     "execution_count": 63,
     "metadata": {},
     "output_type": "execute_result"
    }
   ],
   "source": [
    "sorted(\"Hello, World\", key=str.lower) # for expers"
   ]
  },
  {
   "cell_type": "code",
   "execution_count": 64,
   "metadata": {},
   "outputs": [
    {
     "data": {
      "text/plain": [
       "[' ', ',', 'H', 'W', 'd', 'e', 'l', 'l', 'l', 'o', 'o', 'r']"
      ]
     },
     "execution_count": 64,
     "metadata": {},
     "output_type": "execute_result"
    }
   ],
   "source": [
    "sorted(\"Hello, World\")"
   ]
  },
  {
   "cell_type": "code",
   "execution_count": 65,
   "metadata": {},
   "outputs": [
    {
     "data": {
      "text/plain": [
       "'all caps sentence.'"
      ]
     },
     "execution_count": 65,
     "metadata": {},
     "output_type": "execute_result"
    }
   ],
   "source": [
    "str.lower(\"ALL CAPS SENTENCE.\")"
   ]
  },
  {
   "cell_type": "markdown",
   "metadata": {},
   "source": [
    "## Tuples\n",
    "\n",
    "Tuples are a lot like lists, but are immutable."
   ]
  },
  {
   "cell_type": "code",
   "execution_count": 66,
   "metadata": {
    "collapsed": true
   },
   "outputs": [],
   "source": [
    "my_tuple = (1, 'foo', [])"
   ]
  },
  {
   "cell_type": "code",
   "execution_count": 67,
   "metadata": {},
   "outputs": [
    {
     "data": {
      "text/plain": [
       "(1, 'foo', [])"
      ]
     },
     "execution_count": 67,
     "metadata": {},
     "output_type": "execute_result"
    }
   ],
   "source": [
    "my_tuple"
   ]
  },
  {
   "cell_type": "code",
   "execution_count": 68,
   "metadata": {},
   "outputs": [
    {
     "ename": "AttributeError",
     "evalue": "'tuple' object has no attribute 'append'",
     "output_type": "error",
     "traceback": [
      "\u001b[0;31m---------------------------------------------------------------------------\u001b[0m",
      "\u001b[0;31mAttributeError\u001b[0m                            Traceback (most recent call last)",
      "\u001b[0;32m<ipython-input-68-8c9ea30a2c93>\u001b[0m in \u001b[0;36m<module>\u001b[0;34m()\u001b[0m\n\u001b[0;32m----> 1\u001b[0;31m \u001b[0mmy_tuple\u001b[0m\u001b[0;34m.\u001b[0m\u001b[0mappend\u001b[0m\u001b[0;34m(\u001b[0m\u001b[0;36m4\u001b[0m\u001b[0;34m)\u001b[0m\u001b[0;34m\u001b[0m\u001b[0m\n\u001b[0m",
      "\u001b[0;31mAttributeError\u001b[0m: 'tuple' object has no attribute 'append'"
     ]
    }
   ],
   "source": [
    "my_tuple.append(4) # NOPE"
   ]
  },
  {
   "cell_type": "code",
   "execution_count": 69,
   "metadata": {
    "collapsed": true
   },
   "outputs": [],
   "source": [
    "my_list[2] = False # OK, list"
   ]
  },
  {
   "cell_type": "code",
   "execution_count": 70,
   "metadata": {},
   "outputs": [
    {
     "data": {
      "text/plain": [
       "False"
      ]
     },
     "execution_count": 70,
     "metadata": {},
     "output_type": "execute_result"
    }
   ],
   "source": [
    "my_list[2]"
   ]
  },
  {
   "cell_type": "code",
   "execution_count": 71,
   "metadata": {},
   "outputs": [
    {
     "ename": "TypeError",
     "evalue": "'tuple' object does not support item assignment",
     "output_type": "error",
     "traceback": [
      "\u001b[0;31m---------------------------------------------------------------------------\u001b[0m",
      "\u001b[0;31mTypeError\u001b[0m                                 Traceback (most recent call last)",
      "\u001b[0;32m<ipython-input-71-85c3a8805d4b>\u001b[0m in \u001b[0;36m<module>\u001b[0;34m()\u001b[0m\n\u001b[0;32m----> 1\u001b[0;31m \u001b[0mmy_tuple\u001b[0m\u001b[0;34m[\u001b[0m\u001b[0;36m0\u001b[0m\u001b[0;34m]\u001b[0m \u001b[0;34m=\u001b[0m \u001b[0;32mTrue\u001b[0m\u001b[0;34m\u001b[0m\u001b[0m\n\u001b[0m",
      "\u001b[0;31mTypeError\u001b[0m: 'tuple' object does not support item assignment"
     ]
    }
   ],
   "source": [
    "my_tuple[0] = True # NOPE"
   ]
  },
  {
   "cell_type": "code",
   "execution_count": 72,
   "metadata": {},
   "outputs": [
    {
     "data": {
      "text/plain": [
       "[1, 'String', False, 2, 3, 'me', 'm', 'e', ' ', 'a', 'g', 'a', 'i', 'n']"
      ]
     },
     "execution_count": 72,
     "metadata": {},
     "output_type": "execute_result"
    }
   ],
   "source": [
    "my_list"
   ]
  },
  {
   "cell_type": "markdown",
   "metadata": {},
   "source": [
    "## The `in` keyword\n"
   ]
  },
  {
   "cell_type": "code",
   "execution_count": 73,
   "metadata": {},
   "outputs": [
    {
     "data": {
      "text/plain": [
       "True"
      ]
     },
     "execution_count": 73,
     "metadata": {},
     "output_type": "execute_result"
    }
   ],
   "source": [
    "'me' in my_list # checks membership"
   ]
  },
  {
   "cell_type": "code",
   "execution_count": 75,
   "metadata": {},
   "outputs": [
    {
     "data": {
      "text/plain": [
       "True"
      ]
     },
     "execution_count": 75,
     "metadata": {},
     "output_type": "execute_result"
    }
   ],
   "source": [
    "'I' not in 'team' # checks non-membership"
   ]
  },
  {
   "cell_type": "code",
   "execution_count": 76,
   "metadata": {},
   "outputs": [
    {
     "data": {
      "text/plain": [
       "True"
      ]
     },
     "execution_count": 76,
     "metadata": {},
     "output_type": "execute_result"
    }
   ],
   "source": [
    "'E' not in 'team'"
   ]
  },
  {
   "cell_type": "code",
   "execution_count": 77,
   "metadata": {},
   "outputs": [
    {
     "data": {
      "text/plain": [
       "14"
      ]
     },
     "execution_count": 77,
     "metadata": {},
     "output_type": "execute_result"
    }
   ],
   "source": [
    "len(my_list)"
   ]
  },
  {
   "cell_type": "markdown",
   "metadata": {},
   "source": [
    "## The for loop"
   ]
  },
  {
   "cell_type": "code",
   "execution_count": 78,
   "metadata": {},
   "outputs": [
    {
     "name": "stdout",
     "output_type": "stream",
     "text": [
      "1\n",
      "String\n",
      "False\n",
      "2\n",
      "3\n",
      "me\n",
      "m\n",
      "e\n",
      " \n",
      "a\n",
      "g\n",
      "a\n",
      "i\n",
      "n\n"
     ]
    }
   ],
   "source": [
    "for element in my_list:\n",
    "    print(element) # anything indented (spaces in front) is in the loop"
   ]
  },
  {
   "cell_type": "code",
   "execution_count": 81,
   "metadata": {},
   "outputs": [
    {
     "name": "stdout",
     "output_type": "stream",
     "text": [
      "False\n",
      "1\n",
      "\n",
      "False\n",
      "String\n",
      "\n",
      "False\n",
      "False\n",
      "\n",
      "False\n",
      "2\n",
      "\n",
      "False\n",
      "3\n",
      "\n",
      "True\n",
      "me\n",
      "\n",
      "False\n",
      "m\n",
      "\n",
      "False\n",
      "e\n",
      "\n",
      "False\n",
      " \n",
      "\n",
      "False\n",
      "a\n",
      "\n",
      "False\n",
      "g\n",
      "\n",
      "False\n",
      "a\n",
      "\n",
      "False\n",
      "i\n",
      "\n",
      "False\n",
      "n\n",
      "\n"
     ]
    }
   ],
   "source": [
    "for element in my_list:\n",
    "    print(element == 'me')\n",
    "    print(element)\n",
    "    print()"
   ]
  },
  {
   "cell_type": "code",
   "execution_count": 82,
   "metadata": {},
   "outputs": [
    {
     "data": {
      "text/plain": [
       "5"
      ]
     },
     "execution_count": 82,
     "metadata": {},
     "output_type": "execute_result"
    }
   ],
   "source": [
    "my_list.index('me')"
   ]
  },
  {
   "cell_type": "markdown",
   "metadata": {},
   "source": [
    "# The `if` statement"
   ]
  },
  {
   "cell_type": "code",
   "execution_count": 166,
   "metadata": {},
   "outputs": [
    {
     "name": "stdout",
     "output_type": "stream",
     "text": [
      "5\n"
     ]
    }
   ],
   "source": [
    "index = 0\n",
    "for x in my_list:\n",
    "    if x == 'me':\n",
    "        print(index) # only executed if x is 'me'\n",
    "    else:\n",
    "        index = index + 1"
   ]
  },
  {
   "cell_type": "code",
   "execution_count": 86,
   "metadata": {},
   "outputs": [
    {
     "data": {
      "text/plain": [
       "13"
      ]
     },
     "execution_count": 86,
     "metadata": {},
     "output_type": "execute_result"
    }
   ],
   "source": [
    "index"
   ]
  },
  {
   "cell_type": "code",
   "execution_count": 87,
   "metadata": {},
   "outputs": [
    {
     "name": "stdout",
     "output_type": "stream",
     "text": [
      "5\n"
     ]
    }
   ],
   "source": [
    "index = 0\n",
    "for x in my_list:\n",
    "    if x == 'me':\n",
    "        print(index)\n",
    "        break # terminates the loop\n",
    "    else:\n",
    "        index = index + 1"
   ]
  },
  {
   "cell_type": "code",
   "execution_count": 88,
   "metadata": {},
   "outputs": [
    {
     "data": {
      "text/plain": [
       "5"
      ]
     },
     "execution_count": 88,
     "metadata": {},
     "output_type": "execute_result"
    }
   ],
   "source": [
    "index"
   ]
  },
  {
   "cell_type": "code",
   "execution_count": 90,
   "metadata": {},
   "outputs": [
    {
     "name": "stdout",
     "output_type": "stream",
     "text": [
      "Not found\n"
     ]
    }
   ],
   "source": [
    "index = 0\n",
    "for x in my_list:\n",
    "    if x == 'foo':\n",
    "        print(index)\n",
    "        break\n",
    "    else:\n",
    "        index = index + 1\n",
    "else: # for experts\n",
    "    print(\"Not found\")"
   ]
  },
  {
   "cell_type": "code",
   "execution_count": 91,
   "metadata": {},
   "outputs": [
    {
     "name": "stdout",
     "output_type": "stream",
     "text": [
      "5\n"
     ]
    }
   ],
   "source": [
    "index = 0\n",
    "for x in my_list:\n",
    "    if x == 'me':\n",
    "        print(index)\n",
    "        break\n",
    "    else:\n",
    "        index = index + 1\n",
    "else: # for experts\n",
    "    print(\"Not found\")"
   ]
  },
  {
   "cell_type": "markdown",
   "metadata": {},
   "source": [
    "### Enumerate\n",
    "\n",
    "Python has many helpful built-in functions. Make sure you also check `zip`."
   ]
  },
  {
   "cell_type": "code",
   "execution_count": 92,
   "metadata": {},
   "outputs": [
    {
     "name": "stdout",
     "output_type": "stream",
     "text": [
      "(0, 1)\n",
      "(1, 'String')\n",
      "(2, False)\n",
      "(3, 2)\n",
      "(4, 3)\n",
      "(5, 'me')\n",
      "(6, 'm')\n",
      "(7, 'e')\n",
      "(8, ' ')\n",
      "(9, 'a')\n",
      "(10, 'g')\n",
      "(11, 'a')\n",
      "(12, 'i')\n",
      "(13, 'n')\n"
     ]
    }
   ],
   "source": [
    "for x in enumerate(my_list):\n",
    "    print(x)"
   ]
  },
  {
   "cell_type": "code",
   "execution_count": 93,
   "metadata": {},
   "outputs": [
    {
     "name": "stdout",
     "output_type": "stream",
     "text": [
      "5\n"
     ]
    }
   ],
   "source": [
    "for x in enumerate(my_list):\n",
    "    if x[1] == 'me':\n",
    "        print(x[0])"
   ]
  },
  {
   "cell_type": "code",
   "execution_count": 94,
   "metadata": {
    "collapsed": true
   },
   "outputs": [],
   "source": [
    "foo, bar = 1, 2"
   ]
  },
  {
   "cell_type": "code",
   "execution_count": 95,
   "metadata": {},
   "outputs": [
    {
     "data": {
      "text/plain": [
       "1"
      ]
     },
     "execution_count": 95,
     "metadata": {},
     "output_type": "execute_result"
    }
   ],
   "source": [
    "foo"
   ]
  },
  {
   "cell_type": "code",
   "execution_count": 96,
   "metadata": {},
   "outputs": [
    {
     "data": {
      "text/plain": [
       "2"
      ]
     },
     "execution_count": 96,
     "metadata": {},
     "output_type": "execute_result"
    }
   ],
   "source": [
    "bar"
   ]
  },
  {
   "cell_type": "code",
   "execution_count": 97,
   "metadata": {},
   "outputs": [
    {
     "name": "stdout",
     "output_type": "stream",
     "text": [
      "5\n"
     ]
    }
   ],
   "source": [
    "for i, x in enumerate(my_list):\n",
    "    if x == 'me':\n",
    "        print(i)"
   ]
  },
  {
   "cell_type": "markdown",
   "metadata": {},
   "source": [
    "# While"
   ]
  },
  {
   "cell_type": "code",
   "execution_count": 99,
   "metadata": {},
   "outputs": [
    {
     "name": "stdout",
     "output_type": "stream",
     "text": [
      "True\n",
      "True\n",
      "True\n",
      "True\n",
      "True\n",
      "True\n",
      "True\n",
      "True\n",
      "True\n",
      "True\n"
     ]
    }
   ],
   "source": [
    "counter = 10\n",
    "while counter > 0:\n",
    "    print(counter > 0)\n",
    "    counter = counter - 1"
   ]
  },
  {
   "cell_type": "code",
   "execution_count": 102,
   "metadata": {},
   "outputs": [
    {
     "name": "stdout",
     "output_type": "stream",
     "text": [
      "10\n",
      "9\n",
      "8\n",
      "7\n",
      "6\n",
      "5\n",
      "4\n",
      "3\n",
      "2\n",
      "1\n",
      "no break\n"
     ]
    }
   ],
   "source": [
    "counter = 10\n",
    "while counter > 0:\n",
    "    print(counter)\n",
    "    if counter % 12 == 0:\n",
    "        break\n",
    "    counter -= 1\n",
    "else:\n",
    "    print (\"no break\")"
   ]
  },
  {
   "cell_type": "markdown",
   "metadata": {},
   "source": [
    "# Strings"
   ]
  },
  {
   "cell_type": "code",
   "execution_count": 147,
   "metadata": {
    "collapsed": true
   },
   "outputs": [],
   "source": [
    "vals = \"1$,Jack,1992-01-01\""
   ]
  },
  {
   "cell_type": "code",
   "execution_count": 148,
   "metadata": {},
   "outputs": [
    {
     "data": {
      "text/plain": [
       "'1$,Jack,1992-01-01'"
      ]
     },
     "execution_count": 148,
     "metadata": {},
     "output_type": "execute_result"
    }
   ],
   "source": [
    "vals"
   ]
  },
  {
   "cell_type": "code",
   "execution_count": 149,
   "metadata": {},
   "outputs": [
    {
     "data": {
      "text/plain": [
       "['1$', 'Jack', '1992-01-01']"
      ]
     },
     "execution_count": 149,
     "metadata": {},
     "output_type": "execute_result"
    }
   ],
   "source": [
    "vals.split(',') # take it apart"
   ]
  },
  {
   "cell_type": "code",
   "execution_count": 106,
   "metadata": {
    "collapsed": true
   },
   "outputs": [],
   "source": [
    "words = ['Have', 'a', 'nice', 'day!']"
   ]
  },
  {
   "cell_type": "code",
   "execution_count": 108,
   "metadata": {},
   "outputs": [
    {
     "data": {
      "text/plain": [
       "'Have -- a -- nice -- day!'"
      ]
     },
     "execution_count": 108,
     "metadata": {},
     "output_type": "execute_result"
    }
   ],
   "source": [
    "\" -- \".join(words) # put it back together"
   ]
  },
  {
   "cell_type": "code",
   "execution_count": 109,
   "metadata": {
    "collapsed": true
   },
   "outputs": [],
   "source": [
    "name = \"Jack\""
   ]
  },
  {
   "cell_type": "code",
   "execution_count": 111,
   "metadata": {},
   "outputs": [
    {
     "data": {
      "text/plain": [
       "'Have a nice day Jack!'"
      ]
     },
     "execution_count": 111,
     "metadata": {},
     "output_type": "execute_result"
    }
   ],
   "source": [
    "\"Have a nice day \" + name + \"!\" # ok"
   ]
  },
  {
   "cell_type": "markdown",
   "metadata": {},
   "source": [
    "## String formating\n",
    "\n",
    "Strings have the format function. It's very useful but supports many, many things. Best read the [documentation](https://docs.python.org/3.1/library/string.html#formatspec)."
   ]
  },
  {
   "cell_type": "code",
   "execution_count": 114,
   "metadata": {},
   "outputs": [
    {
     "data": {
      "text/plain": [
       "'Have a nice day, Jack!'"
      ]
     },
     "execution_count": 114,
     "metadata": {},
     "output_type": "execute_result"
    }
   ],
   "source": [
    "\"Have a nice day, {0}!\".format(name)"
   ]
  },
  {
   "cell_type": "code",
   "execution_count": 116,
   "metadata": {},
   "outputs": [
    {
     "data": {
      "text/plain": [
       "'Have a nice day, Jack!'"
      ]
     },
     "execution_count": 116,
     "metadata": {},
     "output_type": "execute_result"
    }
   ],
   "source": [
    "greeting = \"day\"\n",
    "\"Have a nice {1}, {0}!\".format(name, greeting)"
   ]
  },
  {
   "cell_type": "code",
   "execution_count": 117,
   "metadata": {},
   "outputs": [
    {
     "data": {
      "text/plain": [
       "'Have a nice evning, Jack!'"
      ]
     },
     "execution_count": 117,
     "metadata": {},
     "output_type": "execute_result"
    }
   ],
   "source": [
    "greeting = \"evning\"\n",
    "\"Have a nice {1}, {0}!\".format(name, greeting)"
   ]
  },
  {
   "cell_type": "code",
   "execution_count": 119,
   "metadata": {},
   "outputs": [
    {
     "data": {
      "text/plain": [
       "'You owe me lots'"
      ]
     },
     "execution_count": 119,
     "metadata": {},
     "output_type": "execute_result"
    }
   ],
   "source": [
    "\"You owe me {0}\".format('lots')"
   ]
  },
  {
   "cell_type": "code",
   "execution_count": 120,
   "metadata": {},
   "outputs": [
    {
     "data": {
      "text/plain": [
       "'You owe me 100$'"
      ]
     },
     "execution_count": 120,
     "metadata": {},
     "output_type": "execute_result"
    }
   ],
   "source": [
    "\"You owe me {0}$\".format(100)"
   ]
  },
  {
   "cell_type": "code",
   "execution_count": 121,
   "metadata": {},
   "outputs": [
    {
     "data": {
      "text/plain": [
       "'You owe me [100]$'"
      ]
     },
     "execution_count": 121,
     "metadata": {},
     "output_type": "execute_result"
    }
   ],
   "source": [
    "\"You owe me {0}$\".format([100])"
   ]
  },
  {
   "cell_type": "markdown",
   "metadata": {},
   "source": [
    "# Reading data"
   ]
  },
  {
   "cell_type": "code",
   "execution_count": 124,
   "metadata": {
    "collapsed": true
   },
   "outputs": [],
   "source": [
    "trends_file = open('data/trends.csv') # open a file"
   ]
  },
  {
   "cell_type": "code",
   "execution_count": 125,
   "metadata": {},
   "outputs": [
    {
     "data": {
      "text/plain": [
       "'Week,machine learning,big data,data science\\n'"
      ]
     },
     "execution_count": 125,
     "metadata": {},
     "output_type": "execute_result"
    }
   ],
   "source": [
    "trends_file.readline() # read one line"
   ]
  },
  {
   "cell_type": "code",
   "execution_count": 126,
   "metadata": {},
   "outputs": [
    {
     "data": {
      "text/plain": [
       "'2011-12-04,18,14,9\\n'"
      ]
     },
     "execution_count": 126,
     "metadata": {},
     "output_type": "execute_result"
    }
   ],
   "source": [
    "trends_file.readline() # and another one"
   ]
  },
  {
   "cell_type": "code",
   "execution_count": 127,
   "metadata": {
    "collapsed": true
   },
   "outputs": [],
   "source": [
    "trends_file.close() # close the file"
   ]
  },
  {
   "cell_type": "code",
   "execution_count": 128,
   "metadata": {
    "collapsed": true
   },
   "outputs": [
    {
     "name": "stdout",
     "output_type": "stream",
     "text": [
      "Week,machine learning,big data,data science\n",
      "\n",
      "2011-12-04,18,14,9\n",
      "\n",
      "2011-12-11,17,13,9\n",
      "\n",
      "2011-12-18,15,13,6\n",
      "\n",
      "2011-12-25,12,11,5\n",
      "\n",
      "2012-01-01,13,15,8\n",
      "\n",
      "2012-01-08,16,17,10\n",
      "\n",
      "2012-01-15,14,17,8\n",
      "\n",
      "2012-01-22,14,17,10\n",
      "\n",
      "2012-01-29,16,18,9\n",
      "\n",
      "2012-02-05,16,19,9\n",
      "\n",
      "2012-02-12,17,22,9\n",
      "\n",
      "2012-02-19,17,21,8\n",
      "\n",
      "2012-02-26,17,21,9\n",
      "\n",
      "2012-03-04,16,22,9\n",
      "\n",
      "2012-03-11,17,22,7\n",
      "\n",
      "2012-03-18,16,22,8\n",
      "\n",
      "2012-03-25,16,24,8\n",
      "\n",
      "2012-04-01,16,23,8\n",
      "\n",
      "2012-04-08,15,24,7\n",
      "\n",
      "2012-04-15,17,25,9\n",
      "\n",
      "2012-04-22,18,27,8\n",
      "\n",
      "2012-04-29,18,27,7\n",
      "\n",
      "2012-05-06,17,26,8\n",
      "\n",
      "2012-05-13,16,25,8\n",
      "\n",
      "2012-05-20,16,26,7\n",
      "\n",
      "2012-05-27,15,26,7\n",
      "\n",
      "2012-06-03,14,27,6\n",
      "\n",
      "2012-06-10,15,28,8\n",
      "\n",
      "2012-06-17,14,27,7\n",
      "\n",
      "2012-06-24,16,26,7\n",
      "\n",
      "2012-07-01,14,23,7\n",
      "\n",
      "2012-07-08,15,27,6\n",
      "\n",
      "2012-07-15,13,26,7\n",
      "\n",
      "2012-07-22,14,28,6\n",
      "\n",
      "2012-07-29,15,24,6\n",
      "\n",
      "2012-08-05,15,28,7\n",
      "\n",
      "2012-08-12,15,27,8\n",
      "\n",
      "2012-08-19,16,30,9\n",
      "\n",
      "2012-08-26,16,30,12\n",
      "\n",
      "2012-09-02,18,29,12\n",
      "\n",
      "2012-09-09,18,34,13\n",
      "\n",
      "2012-09-16,18,35,13\n",
      "\n",
      "2012-09-23,19,38,11\n",
      "\n",
      "2012-09-30,17,36,10\n",
      "\n",
      "2012-10-07,18,37,10\n",
      "\n",
      "2012-10-14,20,38,10\n",
      "\n",
      "2012-10-21,19,41,9\n",
      "\n",
      "2012-10-28,18,41,8\n",
      "\n",
      "2012-11-04,18,40,10\n",
      "\n",
      "2012-11-11,17,41,10\n",
      "\n",
      "2012-11-18,16,37,9\n",
      "\n",
      "2012-11-25,17,41,10\n",
      "\n",
      "2012-12-02,17,43,10\n",
      "\n",
      "2012-12-09,18,42,11\n",
      "\n",
      "2012-12-16,16,36,8\n",
      "\n",
      "2012-12-23,13,24,5\n",
      "\n",
      "2012-12-30,14,31,8\n",
      "\n",
      "2013-01-06,17,42,10\n",
      "\n",
      "2013-01-13,17,42,11\n",
      "\n",
      "2013-01-20,17,42,10\n",
      "\n",
      "2013-01-27,19,44,12\n",
      "\n",
      "2013-02-03,17,45,11\n",
      "\n",
      "2013-02-10,17,45,11\n",
      "\n",
      "2013-02-17,17,47,9\n",
      "\n",
      "2013-02-24,19,50,11\n",
      "\n",
      "2013-03-03,19,51,10\n",
      "\n",
      "2013-03-10,18,54,10\n",
      "\n",
      "2013-03-17,17,54,9\n",
      "\n",
      "2013-03-24,18,54,10\n",
      "\n",
      "2013-03-31,17,56,10\n",
      "\n",
      "2013-04-07,19,53,12\n",
      "\n",
      "2013-04-14,17,53,12\n",
      "\n",
      "2013-04-21,21,58,11\n",
      "\n",
      "2013-04-28,19,54,12\n",
      "\n",
      "2013-05-05,19,53,12\n",
      "\n",
      "2013-05-12,19,61,11\n",
      "\n",
      "2013-05-19,19,53,11\n",
      "\n",
      "2013-05-26,17,55,10\n",
      "\n",
      "2013-06-02,17,59,11\n",
      "\n",
      "2013-06-09,17,58,10\n",
      "\n",
      "2013-06-16,17,56,11\n",
      "\n",
      "2013-06-23,17,57,10\n",
      "\n",
      "2013-06-30,17,51,9\n",
      "\n",
      "2013-07-07,17,55,10\n",
      "\n",
      "2013-07-14,17,55,10\n",
      "\n",
      "2013-07-21,17,54,9\n",
      "\n",
      "2013-07-28,17,54,10\n",
      "\n",
      "2013-08-04,16,55,10\n",
      "\n",
      "2013-08-11,16,51,10\n",
      "\n",
      "2013-08-18,17,59,12\n",
      "\n",
      "2013-08-25,18,57,16\n",
      "\n",
      "2013-09-01,18,59,16\n",
      "\n",
      "2013-09-08,19,61,16\n",
      "\n",
      "2013-09-15,19,61,15\n",
      "\n",
      "2013-09-22,20,65,15\n",
      "\n",
      "2013-09-29,21,64,13\n",
      "\n",
      "2013-10-06,22,65,13\n",
      "\n",
      "2013-10-13,23,65,13\n",
      "\n",
      "2013-10-20,22,67,14\n",
      "\n",
      "2013-10-27,23,65,14\n",
      "\n",
      "2013-11-03,22,65,14\n",
      "\n",
      "2013-11-10,22,68,14\n",
      "\n",
      "2013-11-17,23,66,15\n",
      "\n",
      "2013-11-24,22,62,12\n",
      "\n",
      "2013-12-01,23,65,15\n",
      "\n",
      "2013-12-08,21,62,14\n",
      "\n",
      "2013-12-15,20,58,13\n",
      "\n",
      "2013-12-22,17,44,9\n",
      "\n",
      "2013-12-29,17,48,10\n",
      "\n",
      "2014-01-05,22,65,14\n",
      "\n",
      "2014-01-12,23,67,16\n",
      "\n",
      "2014-01-19,22,70,16\n",
      "\n",
      "2014-01-26,23,73,17\n",
      "\n",
      "2014-02-02,22,70,15\n",
      "\n",
      "2014-02-09,25,71,16\n",
      "\n",
      "2014-02-16,24,74,16\n",
      "\n",
      "2014-02-23,23,76,16\n",
      "\n",
      "2014-03-02,25,73,17\n",
      "\n",
      "2014-03-09,24,77,15\n",
      "\n",
      "2014-03-16,24,77,16\n",
      "\n",
      "2014-03-23,23,80,15\n",
      "\n",
      "2014-03-30,26,77,16\n",
      "\n",
      "2014-04-06,26,76,18\n",
      "\n",
      "2014-04-13,25,72,15\n",
      "\n",
      "2014-04-20,24,73,16\n",
      "\n",
      "2014-04-27,24,71,17\n",
      "\n",
      "2014-05-04,24,79,18\n",
      "\n",
      "2014-05-11,24,72,16\n",
      "\n",
      "2014-05-18,23,78,15\n",
      "\n",
      "2014-05-25,22,70,15\n",
      "\n",
      "2014-06-01,23,77,16\n",
      "\n",
      "2014-06-08,23,75,16\n",
      "\n",
      "2014-06-15,23,76,15\n",
      "\n",
      "2014-06-22,23,74,16\n",
      "\n",
      "2014-06-29,22,73,15\n",
      "\n",
      "2014-07-06,24,75,15\n",
      "\n",
      "2014-07-13,25,80,16\n",
      "\n",
      "2014-07-20,25,79,16\n",
      "\n",
      "2014-07-27,23,77,14\n",
      "\n",
      "2014-08-03,24,78,16\n",
      "\n",
      "2014-08-10,24,74,21\n",
      "\n",
      "2014-08-17,25,80,21\n",
      "\n",
      "2014-08-24,25,75,23\n",
      "\n",
      "2014-08-31,25,77,23\n",
      "\n",
      "2014-09-07,25,81,24\n",
      "\n",
      "2014-09-14,28,92,23\n",
      "\n",
      "2014-09-21,28,89,21\n",
      "\n",
      "2014-09-28,27,87,21\n",
      "\n",
      "2014-10-05,29,89,21\n",
      "\n",
      "2014-10-12,28,86,20\n",
      "\n",
      "2014-10-19,28,83,21\n",
      "\n",
      "2014-10-26,29,89,22\n",
      "\n",
      "2014-11-02,29,88,21\n",
      "\n",
      "2014-11-09,29,89,22\n",
      "\n",
      "2014-11-16,31,89,22\n",
      "\n",
      "2014-11-23,26,81,18\n",
      "\n",
      "2014-11-30,29,86,22\n",
      "\n",
      "2014-12-07,31,82,21\n",
      "\n",
      "2014-12-14,29,81,19\n",
      "\n",
      "2014-12-21,22,58,14\n",
      "\n",
      "2014-12-28,21,56,15\n",
      "\n",
      "2015-01-04,29,78,23\n",
      "\n",
      "2015-01-11,31,82,24\n",
      "\n",
      "2015-01-18,30,86,23\n",
      "\n",
      "2015-01-25,29,87,25\n",
      "\n",
      "2015-02-01,32,87,25\n",
      "\n",
      "2015-02-08,31,86,23\n",
      "\n",
      "2015-02-15,30,87,23\n",
      "\n",
      "2015-02-22,32,91,23\n",
      "\n",
      "2015-03-01,33,90,22\n",
      "\n",
      "2015-03-08,32,96,24\n",
      "\n",
      "2015-03-15,31,91,24\n",
      "\n",
      "2015-03-22,32,99,23\n",
      "\n",
      "2015-03-29,32,87,23\n",
      "\n",
      "2015-04-05,36,87,24\n",
      "\n",
      "2015-04-12,35,93,24\n",
      "\n",
      "2015-04-19,33,91,23\n",
      "\n",
      "2015-04-26,35,88,25\n",
      "\n",
      "2015-05-03,33,87,24\n",
      "\n",
      "2015-05-10,33,86,25\n",
      "\n",
      "2015-05-17,33,88,23\n",
      "\n",
      "2015-05-24,32,84,23\n",
      "\n",
      "2015-05-31,33,85,25\n",
      "\n",
      "2015-06-07,34,87,24\n",
      "\n",
      "2015-06-14,33,85,24\n",
      "\n",
      "2015-06-21,33,85,24\n",
      "\n",
      "2015-06-28,32,80,24\n",
      "\n",
      "2015-07-05,34,80,24\n",
      "\n",
      "2015-07-12,34,77,25\n",
      "\n",
      "2015-07-19,33,80,23\n",
      "\n",
      "2015-07-26,34,76,26\n",
      "\n",
      "2015-08-02,33,76,26\n",
      "\n",
      "2015-08-09,32,79,27\n",
      "\n",
      "2015-08-16,34,81,28\n",
      "\n",
      "2015-08-23,35,83,31\n",
      "\n",
      "2015-08-30,35,82,34\n",
      "\n",
      "2015-09-06,37,90,33\n",
      "\n",
      "2015-09-13,40,91,35\n",
      "\n",
      "2015-09-20,40,90,33\n",
      "\n",
      "2015-09-27,39,93,32\n",
      "\n",
      "2015-10-04,41,94,31\n",
      "\n",
      "2015-10-11,41,94,31\n",
      "\n",
      "2015-10-18,39,87,32\n",
      "\n",
      "2015-10-25,41,91,31\n",
      "\n",
      "2015-11-01,42,90,33\n",
      "\n",
      "2015-11-08,49,84,32\n",
      "\n",
      "2015-11-15,45,91,30\n",
      "\n",
      "2015-11-22,41,88,26\n",
      "\n",
      "2015-11-29,43,86,31\n",
      "\n",
      "2015-12-06,43,88,31\n",
      "\n",
      "2015-12-13,45,85,29\n",
      "\n",
      "2015-12-20,36,62,24\n",
      "\n",
      "2015-12-27,32,59,24\n",
      "\n",
      "2016-01-03,42,83,33\n",
      "\n",
      "2016-01-10,44,87,35\n",
      "\n",
      "2016-01-17,47,93,37\n",
      "\n",
      "2016-01-24,49,92,37\n",
      "\n",
      "2016-01-31,46,94,35\n",
      "\n",
      "2016-02-07,45,95,33\n",
      "\n",
      "2016-02-14,44,96,34\n",
      "\n",
      "2016-02-21,48,100,34\n",
      "\n",
      "2016-02-28,49,94,34\n",
      "\n",
      "2016-03-06,52,97,35\n",
      "\n",
      "2016-03-13,51,94,34\n",
      "\n",
      "2016-03-20,51,84,32\n",
      "\n",
      "2016-03-27,52,89,34\n",
      "\n",
      "2016-04-03,53,92,35\n",
      "\n",
      "2016-04-10,54,94,35\n",
      "\n",
      "2016-04-17,54,92,35\n",
      "\n",
      "2016-04-24,52,93,34\n",
      "\n",
      "2016-05-01,52,87,35\n",
      "\n",
      "2016-05-08,52,95,40\n",
      "\n",
      "2016-05-15,55,87,36\n",
      "\n",
      "2016-05-22,54,89,36\n",
      "\n",
      "2016-05-29,52,90,36\n",
      "\n",
      "2016-06-05,55,87,36\n",
      "\n",
      "2016-06-12,54,87,36\n",
      "\n",
      "2016-06-19,55,86,36\n",
      "\n",
      "2016-06-26,53,88,34\n",
      "\n",
      "2016-07-03,51,79,33\n",
      "\n",
      "2016-07-10,51,85,35\n",
      "\n",
      "2016-07-17,53,85,36\n",
      "\n",
      "2016-07-24,55,88,37\n",
      "\n",
      "2016-07-31,54,80,35\n",
      "\n",
      "2016-08-07,54,78,36\n",
      "\n",
      "2016-08-14,53,79,39\n",
      "\n",
      "2016-08-21,58,86,46\n",
      "\n",
      "2016-08-28,60,90,47\n",
      "\n",
      "2016-09-04,57,88,45\n",
      "\n",
      "2016-09-11,63,94,47\n",
      "\n",
      "2016-09-18,67,96,49\n",
      "\n",
      "2016-09-25,68,99,49\n",
      "\n",
      "2016-10-02,67,93,46\n",
      "\n",
      "2016-10-09,64,89,45\n",
      "\n",
      "2016-10-16,68,95,45\n",
      "\n",
      "2016-10-23,69,92,43\n",
      "\n",
      "2016-10-30,66,91,46\n",
      "\n",
      "2016-11-06,64,90,40\n",
      "\n",
      "2016-11-13,71,97,46\n",
      "\n",
      "2016-11-20,68,90,40\n",
      "\n",
      "2016-11-27,71,93,46\n",
      "\n"
     ]
    }
   ],
   "source": [
    "# using with not to forget closing ...\n",
    "with open('data/trends.csv') as trends_file:\n",
    "    for line in trends_file:\n",
    "        print(line)"
   ]
  },
  {
   "cell_type": "markdown",
   "metadata": {},
   "source": [
    "## Date/time types\n",
    "\n",
    "For dealing with dates and times, we need to `import` a special module. Think of modules as an extension to core Python."
   ]
  },
  {
   "cell_type": "code",
   "execution_count": 130,
   "metadata": {
    "collapsed": true
   },
   "outputs": [],
   "source": [
    "date_example = '2011-12-04'"
   ]
  },
  {
   "cell_type": "code",
   "execution_count": 132,
   "metadata": {
    "collapsed": true
   },
   "outputs": [],
   "source": [
    "import datetime"
   ]
  },
  {
   "cell_type": "code",
   "execution_count": 133,
   "metadata": {},
   "outputs": [
    {
     "data": {
      "text/plain": [
       "datetime.date(2017, 6, 28)"
      ]
     },
     "execution_count": 133,
     "metadata": {},
     "output_type": "execute_result"
    }
   ],
   "source": [
    "datetime.date(2017, 6, 28)"
   ]
  },
  {
   "cell_type": "code",
   "execution_count": 134,
   "metadata": {},
   "outputs": [
    {
     "data": {
      "text/plain": [
       "datetime.datetime(2011, 12, 4, 0, 0)"
      ]
     },
     "execution_count": 134,
     "metadata": {},
     "output_type": "execute_result"
    }
   ],
   "source": [
    "datetime.datetime.strptime(date_example,\n",
    "                           '%Y-%m-%d')"
   ]
  },
  {
   "cell_type": "code",
   "execution_count": 167,
   "metadata": {
    "collapsed": true
   },
   "outputs": [],
   "source": [
    "# making our own function with documentation\n",
    "\n",
    "def ymd_date(date_string):\n",
    "    \"\"\"Takes a date string, formated YYYY-MM-DD\n",
    "    and returns a python datetime.\"\"\"\n",
    "    format_string = '%Y-%m-%d'\n",
    "    return datetime.datetime.strptime(date_string,\n",
    "                                      format_string)"
   ]
  },
  {
   "cell_type": "code",
   "execution_count": 138,
   "metadata": {},
   "outputs": [
    {
     "data": {
      "text/plain": [
       "datetime.datetime(2011, 12, 4, 0, 0)"
      ]
     },
     "execution_count": 138,
     "metadata": {},
     "output_type": "execute_result"
    }
   ],
   "source": [
    "ymd_date(date_example) # apply the function"
   ]
  },
  {
   "cell_type": "code",
   "execution_count": 139,
   "metadata": {},
   "outputs": [
    {
     "name": "stdout",
     "output_type": "stream",
     "text": [
      "Help on function ymd_date in module __main__:\n",
      "\n",
      "ymd_date(date_string)\n",
      "    Takes a date string, formated YYYY-MM-DD\n",
      "    and returns a python datetime.\n",
      "\n"
     ]
    }
   ],
   "source": [
    "help(ymd_date) # show the documentation"
   ]
  },
  {
   "cell_type": "code",
   "execution_count": 140,
   "metadata": {},
   "outputs": [
    {
     "data": {
      "text/plain": [
       "42"
      ]
     },
     "execution_count": 140,
     "metadata": {},
     "output_type": "execute_result"
    }
   ],
   "source": [
    "int('42') # converting a string to an integer"
   ]
  },
  {
   "cell_type": "code",
   "execution_count": 142,
   "metadata": {
    "collapsed": true
   },
   "outputs": [
    {
     "ename": "ValueError",
     "evalue": "time data 'you fool!' does not match format '%Y-%m-%d'",
     "output_type": "error",
     "traceback": [
      "\u001b[0;31m---------------------------------------------------------------------------\u001b[0m",
      "\u001b[0;31mValueError\u001b[0m                                Traceback (most recent call last)",
      "\u001b[0;32m<ipython-input-142-e41bcf7dd054>\u001b[0m in \u001b[0;36m<module>\u001b[0;34m()\u001b[0m\n\u001b[0;32m----> 1\u001b[0;31m \u001b[0mymd_date\u001b[0m\u001b[0;34m(\u001b[0m\u001b[0;34m'you fool!'\u001b[0m\u001b[0;34m)\u001b[0m\u001b[0;34m\u001b[0m\u001b[0m\n\u001b[0m",
      "\u001b[0;32m<ipython-input-137-4f27334b943b>\u001b[0m in \u001b[0;36mymd_date\u001b[0;34m(date_string)\u001b[0m\n\u001b[1;32m      4\u001b[0m     \u001b[0mformat_string\u001b[0m \u001b[0;34m=\u001b[0m \u001b[0;34m'%Y-%m-%d'\u001b[0m\u001b[0;34m\u001b[0m\u001b[0m\n\u001b[1;32m      5\u001b[0m     return datetime.datetime.strptime(date_string,\n\u001b[0;32m----> 6\u001b[0;31m                                       format_string)\n\u001b[0m",
      "\u001b[0;32m/usr/local/Cellar/python3/3.6.1/Frameworks/Python.framework/Versions/3.6/lib/python3.6/_strptime.py\u001b[0m in \u001b[0;36m_strptime_datetime\u001b[0;34m(cls, data_string, format)\u001b[0m\n\u001b[1;32m    563\u001b[0m     \"\"\"Return a class cls instance based on the input string and the\n\u001b[1;32m    564\u001b[0m     format string.\"\"\"\n\u001b[0;32m--> 565\u001b[0;31m     \u001b[0mtt\u001b[0m\u001b[0;34m,\u001b[0m \u001b[0mfraction\u001b[0m \u001b[0;34m=\u001b[0m \u001b[0m_strptime\u001b[0m\u001b[0;34m(\u001b[0m\u001b[0mdata_string\u001b[0m\u001b[0;34m,\u001b[0m \u001b[0mformat\u001b[0m\u001b[0;34m)\u001b[0m\u001b[0;34m\u001b[0m\u001b[0m\n\u001b[0m\u001b[1;32m    566\u001b[0m     \u001b[0mtzname\u001b[0m\u001b[0;34m,\u001b[0m \u001b[0mgmtoff\u001b[0m \u001b[0;34m=\u001b[0m \u001b[0mtt\u001b[0m\u001b[0;34m[\u001b[0m\u001b[0;34m-\u001b[0m\u001b[0;36m2\u001b[0m\u001b[0;34m:\u001b[0m\u001b[0;34m]\u001b[0m\u001b[0;34m\u001b[0m\u001b[0m\n\u001b[1;32m    567\u001b[0m     \u001b[0margs\u001b[0m \u001b[0;34m=\u001b[0m \u001b[0mtt\u001b[0m\u001b[0;34m[\u001b[0m\u001b[0;34m:\u001b[0m\u001b[0;36m6\u001b[0m\u001b[0;34m]\u001b[0m \u001b[0;34m+\u001b[0m \u001b[0;34m(\u001b[0m\u001b[0mfraction\u001b[0m\u001b[0;34m,\u001b[0m\u001b[0;34m)\u001b[0m\u001b[0;34m\u001b[0m\u001b[0m\n",
      "\u001b[0;32m/usr/local/Cellar/python3/3.6.1/Frameworks/Python.framework/Versions/3.6/lib/python3.6/_strptime.py\u001b[0m in \u001b[0;36m_strptime\u001b[0;34m(data_string, format)\u001b[0m\n\u001b[1;32m    360\u001b[0m     \u001b[0;32mif\u001b[0m \u001b[0;32mnot\u001b[0m \u001b[0mfound\u001b[0m\u001b[0;34m:\u001b[0m\u001b[0;34m\u001b[0m\u001b[0m\n\u001b[1;32m    361\u001b[0m         raise ValueError(\"time data %r does not match format %r\" %\n\u001b[0;32m--> 362\u001b[0;31m                          (data_string, format))\n\u001b[0m\u001b[1;32m    363\u001b[0m     \u001b[0;32mif\u001b[0m \u001b[0mlen\u001b[0m\u001b[0;34m(\u001b[0m\u001b[0mdata_string\u001b[0m\u001b[0;34m)\u001b[0m \u001b[0;34m!=\u001b[0m \u001b[0mfound\u001b[0m\u001b[0;34m.\u001b[0m\u001b[0mend\u001b[0m\u001b[0;34m(\u001b[0m\u001b[0;34m)\u001b[0m\u001b[0;34m:\u001b[0m\u001b[0;34m\u001b[0m\u001b[0m\n\u001b[1;32m    364\u001b[0m         raise ValueError(\"unconverted data remains: %s\" %\n",
      "\u001b[0;31mValueError\u001b[0m: time data 'you fool!' does not match format '%Y-%m-%d'"
     ]
    }
   ],
   "source": [
    "ymd_date('you fool!') # DOH!"
   ]
  },
  {
   "cell_type": "code",
   "execution_count": 152,
   "metadata": {},
   "outputs": [],
   "source": [
    "# read the whole file into lists\n",
    "dates = []\n",
    "interests = []\n",
    "with open('data/trends.csv') as trends_file:\n",
    "    for index, line in enumerate(trends_file):\n",
    "        if index > 0:\n",
    "            parts = line.split(',')\n",
    "            date = ymd_date(parts[0])\n",
    "            interest = int(parts[1])\n",
    "            dates.append(date)\n",
    "            interests.append(interest)"
   ]
  },
  {
   "cell_type": "code",
   "execution_count": 153,
   "metadata": {
    "collapsed": true
   },
   "outputs": [
    {
     "data": {
      "text/plain": [
       "[datetime.datetime(2011, 12, 4, 0, 0),\n",
       " datetime.datetime(2011, 12, 11, 0, 0),\n",
       " datetime.datetime(2011, 12, 18, 0, 0),\n",
       " datetime.datetime(2011, 12, 25, 0, 0),\n",
       " datetime.datetime(2012, 1, 1, 0, 0),\n",
       " datetime.datetime(2012, 1, 8, 0, 0),\n",
       " datetime.datetime(2012, 1, 15, 0, 0),\n",
       " datetime.datetime(2012, 1, 22, 0, 0),\n",
       " datetime.datetime(2012, 1, 29, 0, 0),\n",
       " datetime.datetime(2012, 2, 5, 0, 0),\n",
       " datetime.datetime(2012, 2, 12, 0, 0),\n",
       " datetime.datetime(2012, 2, 19, 0, 0),\n",
       " datetime.datetime(2012, 2, 26, 0, 0),\n",
       " datetime.datetime(2012, 3, 4, 0, 0),\n",
       " datetime.datetime(2012, 3, 11, 0, 0),\n",
       " datetime.datetime(2012, 3, 18, 0, 0),\n",
       " datetime.datetime(2012, 3, 25, 0, 0),\n",
       " datetime.datetime(2012, 4, 1, 0, 0),\n",
       " datetime.datetime(2012, 4, 8, 0, 0),\n",
       " datetime.datetime(2012, 4, 15, 0, 0),\n",
       " datetime.datetime(2012, 4, 22, 0, 0),\n",
       " datetime.datetime(2012, 4, 29, 0, 0),\n",
       " datetime.datetime(2012, 5, 6, 0, 0),\n",
       " datetime.datetime(2012, 5, 13, 0, 0),\n",
       " datetime.datetime(2012, 5, 20, 0, 0),\n",
       " datetime.datetime(2012, 5, 27, 0, 0),\n",
       " datetime.datetime(2012, 6, 3, 0, 0),\n",
       " datetime.datetime(2012, 6, 10, 0, 0),\n",
       " datetime.datetime(2012, 6, 17, 0, 0),\n",
       " datetime.datetime(2012, 6, 24, 0, 0),\n",
       " datetime.datetime(2012, 7, 1, 0, 0),\n",
       " datetime.datetime(2012, 7, 8, 0, 0),\n",
       " datetime.datetime(2012, 7, 15, 0, 0),\n",
       " datetime.datetime(2012, 7, 22, 0, 0),\n",
       " datetime.datetime(2012, 7, 29, 0, 0),\n",
       " datetime.datetime(2012, 8, 5, 0, 0),\n",
       " datetime.datetime(2012, 8, 12, 0, 0),\n",
       " datetime.datetime(2012, 8, 19, 0, 0),\n",
       " datetime.datetime(2012, 8, 26, 0, 0),\n",
       " datetime.datetime(2012, 9, 2, 0, 0),\n",
       " datetime.datetime(2012, 9, 9, 0, 0),\n",
       " datetime.datetime(2012, 9, 16, 0, 0),\n",
       " datetime.datetime(2012, 9, 23, 0, 0),\n",
       " datetime.datetime(2012, 9, 30, 0, 0),\n",
       " datetime.datetime(2012, 10, 7, 0, 0),\n",
       " datetime.datetime(2012, 10, 14, 0, 0),\n",
       " datetime.datetime(2012, 10, 21, 0, 0),\n",
       " datetime.datetime(2012, 10, 28, 0, 0),\n",
       " datetime.datetime(2012, 11, 4, 0, 0),\n",
       " datetime.datetime(2012, 11, 11, 0, 0),\n",
       " datetime.datetime(2012, 11, 18, 0, 0),\n",
       " datetime.datetime(2012, 11, 25, 0, 0),\n",
       " datetime.datetime(2012, 12, 2, 0, 0),\n",
       " datetime.datetime(2012, 12, 9, 0, 0),\n",
       " datetime.datetime(2012, 12, 16, 0, 0),\n",
       " datetime.datetime(2012, 12, 23, 0, 0),\n",
       " datetime.datetime(2012, 12, 30, 0, 0),\n",
       " datetime.datetime(2013, 1, 6, 0, 0),\n",
       " datetime.datetime(2013, 1, 13, 0, 0),\n",
       " datetime.datetime(2013, 1, 20, 0, 0),\n",
       " datetime.datetime(2013, 1, 27, 0, 0),\n",
       " datetime.datetime(2013, 2, 3, 0, 0),\n",
       " datetime.datetime(2013, 2, 10, 0, 0),\n",
       " datetime.datetime(2013, 2, 17, 0, 0),\n",
       " datetime.datetime(2013, 2, 24, 0, 0),\n",
       " datetime.datetime(2013, 3, 3, 0, 0),\n",
       " datetime.datetime(2013, 3, 10, 0, 0),\n",
       " datetime.datetime(2013, 3, 17, 0, 0),\n",
       " datetime.datetime(2013, 3, 24, 0, 0),\n",
       " datetime.datetime(2013, 3, 31, 0, 0),\n",
       " datetime.datetime(2013, 4, 7, 0, 0),\n",
       " datetime.datetime(2013, 4, 14, 0, 0),\n",
       " datetime.datetime(2013, 4, 21, 0, 0),\n",
       " datetime.datetime(2013, 4, 28, 0, 0),\n",
       " datetime.datetime(2013, 5, 5, 0, 0),\n",
       " datetime.datetime(2013, 5, 12, 0, 0),\n",
       " datetime.datetime(2013, 5, 19, 0, 0),\n",
       " datetime.datetime(2013, 5, 26, 0, 0),\n",
       " datetime.datetime(2013, 6, 2, 0, 0),\n",
       " datetime.datetime(2013, 6, 9, 0, 0),\n",
       " datetime.datetime(2013, 6, 16, 0, 0),\n",
       " datetime.datetime(2013, 6, 23, 0, 0),\n",
       " datetime.datetime(2013, 6, 30, 0, 0),\n",
       " datetime.datetime(2013, 7, 7, 0, 0),\n",
       " datetime.datetime(2013, 7, 14, 0, 0),\n",
       " datetime.datetime(2013, 7, 21, 0, 0),\n",
       " datetime.datetime(2013, 7, 28, 0, 0),\n",
       " datetime.datetime(2013, 8, 4, 0, 0),\n",
       " datetime.datetime(2013, 8, 11, 0, 0),\n",
       " datetime.datetime(2013, 8, 18, 0, 0),\n",
       " datetime.datetime(2013, 8, 25, 0, 0),\n",
       " datetime.datetime(2013, 9, 1, 0, 0),\n",
       " datetime.datetime(2013, 9, 8, 0, 0),\n",
       " datetime.datetime(2013, 9, 15, 0, 0),\n",
       " datetime.datetime(2013, 9, 22, 0, 0),\n",
       " datetime.datetime(2013, 9, 29, 0, 0),\n",
       " datetime.datetime(2013, 10, 6, 0, 0),\n",
       " datetime.datetime(2013, 10, 13, 0, 0),\n",
       " datetime.datetime(2013, 10, 20, 0, 0),\n",
       " datetime.datetime(2013, 10, 27, 0, 0),\n",
       " datetime.datetime(2013, 11, 3, 0, 0),\n",
       " datetime.datetime(2013, 11, 10, 0, 0),\n",
       " datetime.datetime(2013, 11, 17, 0, 0),\n",
       " datetime.datetime(2013, 11, 24, 0, 0),\n",
       " datetime.datetime(2013, 12, 1, 0, 0),\n",
       " datetime.datetime(2013, 12, 8, 0, 0),\n",
       " datetime.datetime(2013, 12, 15, 0, 0),\n",
       " datetime.datetime(2013, 12, 22, 0, 0),\n",
       " datetime.datetime(2013, 12, 29, 0, 0),\n",
       " datetime.datetime(2014, 1, 5, 0, 0),\n",
       " datetime.datetime(2014, 1, 12, 0, 0),\n",
       " datetime.datetime(2014, 1, 19, 0, 0),\n",
       " datetime.datetime(2014, 1, 26, 0, 0),\n",
       " datetime.datetime(2014, 2, 2, 0, 0),\n",
       " datetime.datetime(2014, 2, 9, 0, 0),\n",
       " datetime.datetime(2014, 2, 16, 0, 0),\n",
       " datetime.datetime(2014, 2, 23, 0, 0),\n",
       " datetime.datetime(2014, 3, 2, 0, 0),\n",
       " datetime.datetime(2014, 3, 9, 0, 0),\n",
       " datetime.datetime(2014, 3, 16, 0, 0),\n",
       " datetime.datetime(2014, 3, 23, 0, 0),\n",
       " datetime.datetime(2014, 3, 30, 0, 0),\n",
       " datetime.datetime(2014, 4, 6, 0, 0),\n",
       " datetime.datetime(2014, 4, 13, 0, 0),\n",
       " datetime.datetime(2014, 4, 20, 0, 0),\n",
       " datetime.datetime(2014, 4, 27, 0, 0),\n",
       " datetime.datetime(2014, 5, 4, 0, 0),\n",
       " datetime.datetime(2014, 5, 11, 0, 0),\n",
       " datetime.datetime(2014, 5, 18, 0, 0),\n",
       " datetime.datetime(2014, 5, 25, 0, 0),\n",
       " datetime.datetime(2014, 6, 1, 0, 0),\n",
       " datetime.datetime(2014, 6, 8, 0, 0),\n",
       " datetime.datetime(2014, 6, 15, 0, 0),\n",
       " datetime.datetime(2014, 6, 22, 0, 0),\n",
       " datetime.datetime(2014, 6, 29, 0, 0),\n",
       " datetime.datetime(2014, 7, 6, 0, 0),\n",
       " datetime.datetime(2014, 7, 13, 0, 0),\n",
       " datetime.datetime(2014, 7, 20, 0, 0),\n",
       " datetime.datetime(2014, 7, 27, 0, 0),\n",
       " datetime.datetime(2014, 8, 3, 0, 0),\n",
       " datetime.datetime(2014, 8, 10, 0, 0),\n",
       " datetime.datetime(2014, 8, 17, 0, 0),\n",
       " datetime.datetime(2014, 8, 24, 0, 0),\n",
       " datetime.datetime(2014, 8, 31, 0, 0),\n",
       " datetime.datetime(2014, 9, 7, 0, 0),\n",
       " datetime.datetime(2014, 9, 14, 0, 0),\n",
       " datetime.datetime(2014, 9, 21, 0, 0),\n",
       " datetime.datetime(2014, 9, 28, 0, 0),\n",
       " datetime.datetime(2014, 10, 5, 0, 0),\n",
       " datetime.datetime(2014, 10, 12, 0, 0),\n",
       " datetime.datetime(2014, 10, 19, 0, 0),\n",
       " datetime.datetime(2014, 10, 26, 0, 0),\n",
       " datetime.datetime(2014, 11, 2, 0, 0),\n",
       " datetime.datetime(2014, 11, 9, 0, 0),\n",
       " datetime.datetime(2014, 11, 16, 0, 0),\n",
       " datetime.datetime(2014, 11, 23, 0, 0),\n",
       " datetime.datetime(2014, 11, 30, 0, 0),\n",
       " datetime.datetime(2014, 12, 7, 0, 0),\n",
       " datetime.datetime(2014, 12, 14, 0, 0),\n",
       " datetime.datetime(2014, 12, 21, 0, 0),\n",
       " datetime.datetime(2014, 12, 28, 0, 0),\n",
       " datetime.datetime(2015, 1, 4, 0, 0),\n",
       " datetime.datetime(2015, 1, 11, 0, 0),\n",
       " datetime.datetime(2015, 1, 18, 0, 0),\n",
       " datetime.datetime(2015, 1, 25, 0, 0),\n",
       " datetime.datetime(2015, 2, 1, 0, 0),\n",
       " datetime.datetime(2015, 2, 8, 0, 0),\n",
       " datetime.datetime(2015, 2, 15, 0, 0),\n",
       " datetime.datetime(2015, 2, 22, 0, 0),\n",
       " datetime.datetime(2015, 3, 1, 0, 0),\n",
       " datetime.datetime(2015, 3, 8, 0, 0),\n",
       " datetime.datetime(2015, 3, 15, 0, 0),\n",
       " datetime.datetime(2015, 3, 22, 0, 0),\n",
       " datetime.datetime(2015, 3, 29, 0, 0),\n",
       " datetime.datetime(2015, 4, 5, 0, 0),\n",
       " datetime.datetime(2015, 4, 12, 0, 0),\n",
       " datetime.datetime(2015, 4, 19, 0, 0),\n",
       " datetime.datetime(2015, 4, 26, 0, 0),\n",
       " datetime.datetime(2015, 5, 3, 0, 0),\n",
       " datetime.datetime(2015, 5, 10, 0, 0),\n",
       " datetime.datetime(2015, 5, 17, 0, 0),\n",
       " datetime.datetime(2015, 5, 24, 0, 0),\n",
       " datetime.datetime(2015, 5, 31, 0, 0),\n",
       " datetime.datetime(2015, 6, 7, 0, 0),\n",
       " datetime.datetime(2015, 6, 14, 0, 0),\n",
       " datetime.datetime(2015, 6, 21, 0, 0),\n",
       " datetime.datetime(2015, 6, 28, 0, 0),\n",
       " datetime.datetime(2015, 7, 5, 0, 0),\n",
       " datetime.datetime(2015, 7, 12, 0, 0),\n",
       " datetime.datetime(2015, 7, 19, 0, 0),\n",
       " datetime.datetime(2015, 7, 26, 0, 0),\n",
       " datetime.datetime(2015, 8, 2, 0, 0),\n",
       " datetime.datetime(2015, 8, 9, 0, 0),\n",
       " datetime.datetime(2015, 8, 16, 0, 0),\n",
       " datetime.datetime(2015, 8, 23, 0, 0),\n",
       " datetime.datetime(2015, 8, 30, 0, 0),\n",
       " datetime.datetime(2015, 9, 6, 0, 0),\n",
       " datetime.datetime(2015, 9, 13, 0, 0),\n",
       " datetime.datetime(2015, 9, 20, 0, 0),\n",
       " datetime.datetime(2015, 9, 27, 0, 0),\n",
       " datetime.datetime(2015, 10, 4, 0, 0),\n",
       " datetime.datetime(2015, 10, 11, 0, 0),\n",
       " datetime.datetime(2015, 10, 18, 0, 0),\n",
       " datetime.datetime(2015, 10, 25, 0, 0),\n",
       " datetime.datetime(2015, 11, 1, 0, 0),\n",
       " datetime.datetime(2015, 11, 8, 0, 0),\n",
       " datetime.datetime(2015, 11, 15, 0, 0),\n",
       " datetime.datetime(2015, 11, 22, 0, 0),\n",
       " datetime.datetime(2015, 11, 29, 0, 0),\n",
       " datetime.datetime(2015, 12, 6, 0, 0),\n",
       " datetime.datetime(2015, 12, 13, 0, 0),\n",
       " datetime.datetime(2015, 12, 20, 0, 0),\n",
       " datetime.datetime(2015, 12, 27, 0, 0),\n",
       " datetime.datetime(2016, 1, 3, 0, 0),\n",
       " datetime.datetime(2016, 1, 10, 0, 0),\n",
       " datetime.datetime(2016, 1, 17, 0, 0),\n",
       " datetime.datetime(2016, 1, 24, 0, 0),\n",
       " datetime.datetime(2016, 1, 31, 0, 0),\n",
       " datetime.datetime(2016, 2, 7, 0, 0),\n",
       " datetime.datetime(2016, 2, 14, 0, 0),\n",
       " datetime.datetime(2016, 2, 21, 0, 0),\n",
       " datetime.datetime(2016, 2, 28, 0, 0),\n",
       " datetime.datetime(2016, 3, 6, 0, 0),\n",
       " datetime.datetime(2016, 3, 13, 0, 0),\n",
       " datetime.datetime(2016, 3, 20, 0, 0),\n",
       " datetime.datetime(2016, 3, 27, 0, 0),\n",
       " datetime.datetime(2016, 4, 3, 0, 0),\n",
       " datetime.datetime(2016, 4, 10, 0, 0),\n",
       " datetime.datetime(2016, 4, 17, 0, 0),\n",
       " datetime.datetime(2016, 4, 24, 0, 0),\n",
       " datetime.datetime(2016, 5, 1, 0, 0),\n",
       " datetime.datetime(2016, 5, 8, 0, 0),\n",
       " datetime.datetime(2016, 5, 15, 0, 0),\n",
       " datetime.datetime(2016, 5, 22, 0, 0),\n",
       " datetime.datetime(2016, 5, 29, 0, 0),\n",
       " datetime.datetime(2016, 6, 5, 0, 0),\n",
       " datetime.datetime(2016, 6, 12, 0, 0),\n",
       " datetime.datetime(2016, 6, 19, 0, 0),\n",
       " datetime.datetime(2016, 6, 26, 0, 0),\n",
       " datetime.datetime(2016, 7, 3, 0, 0),\n",
       " datetime.datetime(2016, 7, 10, 0, 0),\n",
       " datetime.datetime(2016, 7, 17, 0, 0),\n",
       " datetime.datetime(2016, 7, 24, 0, 0),\n",
       " datetime.datetime(2016, 7, 31, 0, 0),\n",
       " datetime.datetime(2016, 8, 7, 0, 0),\n",
       " datetime.datetime(2016, 8, 14, 0, 0),\n",
       " datetime.datetime(2016, 8, 21, 0, 0),\n",
       " datetime.datetime(2016, 8, 28, 0, 0),\n",
       " datetime.datetime(2016, 9, 4, 0, 0),\n",
       " datetime.datetime(2016, 9, 11, 0, 0),\n",
       " datetime.datetime(2016, 9, 18, 0, 0),\n",
       " datetime.datetime(2016, 9, 25, 0, 0),\n",
       " datetime.datetime(2016, 10, 2, 0, 0),\n",
       " datetime.datetime(2016, 10, 9, 0, 0),\n",
       " datetime.datetime(2016, 10, 16, 0, 0),\n",
       " datetime.datetime(2016, 10, 23, 0, 0),\n",
       " datetime.datetime(2016, 10, 30, 0, 0),\n",
       " datetime.datetime(2016, 11, 6, 0, 0),\n",
       " datetime.datetime(2016, 11, 13, 0, 0),\n",
       " datetime.datetime(2016, 11, 20, 0, 0),\n",
       " datetime.datetime(2016, 11, 27, 0, 0)]"
      ]
     },
     "execution_count": 153,
     "metadata": {},
     "output_type": "execute_result"
    }
   ],
   "source": [
    "dates"
   ]
  },
  {
   "cell_type": "code",
   "execution_count": 154,
   "metadata": {
    "collapsed": true
   },
   "outputs": [
    {
     "data": {
      "text/plain": [
       "[18,\n",
       " 17,\n",
       " 15,\n",
       " 12,\n",
       " 13,\n",
       " 16,\n",
       " 14,\n",
       " 14,\n",
       " 16,\n",
       " 16,\n",
       " 17,\n",
       " 17,\n",
       " 17,\n",
       " 16,\n",
       " 17,\n",
       " 16,\n",
       " 16,\n",
       " 16,\n",
       " 15,\n",
       " 17,\n",
       " 18,\n",
       " 18,\n",
       " 17,\n",
       " 16,\n",
       " 16,\n",
       " 15,\n",
       " 14,\n",
       " 15,\n",
       " 14,\n",
       " 16,\n",
       " 14,\n",
       " 15,\n",
       " 13,\n",
       " 14,\n",
       " 15,\n",
       " 15,\n",
       " 15,\n",
       " 16,\n",
       " 16,\n",
       " 18,\n",
       " 18,\n",
       " 18,\n",
       " 19,\n",
       " 17,\n",
       " 18,\n",
       " 20,\n",
       " 19,\n",
       " 18,\n",
       " 18,\n",
       " 17,\n",
       " 16,\n",
       " 17,\n",
       " 17,\n",
       " 18,\n",
       " 16,\n",
       " 13,\n",
       " 14,\n",
       " 17,\n",
       " 17,\n",
       " 17,\n",
       " 19,\n",
       " 17,\n",
       " 17,\n",
       " 17,\n",
       " 19,\n",
       " 19,\n",
       " 18,\n",
       " 17,\n",
       " 18,\n",
       " 17,\n",
       " 19,\n",
       " 17,\n",
       " 21,\n",
       " 19,\n",
       " 19,\n",
       " 19,\n",
       " 19,\n",
       " 17,\n",
       " 17,\n",
       " 17,\n",
       " 17,\n",
       " 17,\n",
       " 17,\n",
       " 17,\n",
       " 17,\n",
       " 17,\n",
       " 17,\n",
       " 16,\n",
       " 16,\n",
       " 17,\n",
       " 18,\n",
       " 18,\n",
       " 19,\n",
       " 19,\n",
       " 20,\n",
       " 21,\n",
       " 22,\n",
       " 23,\n",
       " 22,\n",
       " 23,\n",
       " 22,\n",
       " 22,\n",
       " 23,\n",
       " 22,\n",
       " 23,\n",
       " 21,\n",
       " 20,\n",
       " 17,\n",
       " 17,\n",
       " 22,\n",
       " 23,\n",
       " 22,\n",
       " 23,\n",
       " 22,\n",
       " 25,\n",
       " 24,\n",
       " 23,\n",
       " 25,\n",
       " 24,\n",
       " 24,\n",
       " 23,\n",
       " 26,\n",
       " 26,\n",
       " 25,\n",
       " 24,\n",
       " 24,\n",
       " 24,\n",
       " 24,\n",
       " 23,\n",
       " 22,\n",
       " 23,\n",
       " 23,\n",
       " 23,\n",
       " 23,\n",
       " 22,\n",
       " 24,\n",
       " 25,\n",
       " 25,\n",
       " 23,\n",
       " 24,\n",
       " 24,\n",
       " 25,\n",
       " 25,\n",
       " 25,\n",
       " 25,\n",
       " 28,\n",
       " 28,\n",
       " 27,\n",
       " 29,\n",
       " 28,\n",
       " 28,\n",
       " 29,\n",
       " 29,\n",
       " 29,\n",
       " 31,\n",
       " 26,\n",
       " 29,\n",
       " 31,\n",
       " 29,\n",
       " 22,\n",
       " 21,\n",
       " 29,\n",
       " 31,\n",
       " 30,\n",
       " 29,\n",
       " 32,\n",
       " 31,\n",
       " 30,\n",
       " 32,\n",
       " 33,\n",
       " 32,\n",
       " 31,\n",
       " 32,\n",
       " 32,\n",
       " 36,\n",
       " 35,\n",
       " 33,\n",
       " 35,\n",
       " 33,\n",
       " 33,\n",
       " 33,\n",
       " 32,\n",
       " 33,\n",
       " 34,\n",
       " 33,\n",
       " 33,\n",
       " 32,\n",
       " 34,\n",
       " 34,\n",
       " 33,\n",
       " 34,\n",
       " 33,\n",
       " 32,\n",
       " 34,\n",
       " 35,\n",
       " 35,\n",
       " 37,\n",
       " 40,\n",
       " 40,\n",
       " 39,\n",
       " 41,\n",
       " 41,\n",
       " 39,\n",
       " 41,\n",
       " 42,\n",
       " 49,\n",
       " 45,\n",
       " 41,\n",
       " 43,\n",
       " 43,\n",
       " 45,\n",
       " 36,\n",
       " 32,\n",
       " 42,\n",
       " 44,\n",
       " 47,\n",
       " 49,\n",
       " 46,\n",
       " 45,\n",
       " 44,\n",
       " 48,\n",
       " 49,\n",
       " 52,\n",
       " 51,\n",
       " 51,\n",
       " 52,\n",
       " 53,\n",
       " 54,\n",
       " 54,\n",
       " 52,\n",
       " 52,\n",
       " 52,\n",
       " 55,\n",
       " 54,\n",
       " 52,\n",
       " 55,\n",
       " 54,\n",
       " 55,\n",
       " 53,\n",
       " 51,\n",
       " 51,\n",
       " 53,\n",
       " 55,\n",
       " 54,\n",
       " 54,\n",
       " 53,\n",
       " 58,\n",
       " 60,\n",
       " 57,\n",
       " 63,\n",
       " 67,\n",
       " 68,\n",
       " 67,\n",
       " 64,\n",
       " 68,\n",
       " 69,\n",
       " 66,\n",
       " 64,\n",
       " 71,\n",
       " 68,\n",
       " 71]"
      ]
     },
     "execution_count": 154,
     "metadata": {},
     "output_type": "execute_result"
    }
   ],
   "source": [
    "interests"
   ]
  },
  {
   "cell_type": "markdown",
   "metadata": {},
   "source": [
    "## Plotting\n",
    "\n",
    "For plotting, we need to import a module again. We'll give it a more catchy name (`plt`) to save some typing."
   ]
  },
  {
   "cell_type": "code",
   "execution_count": 155,
   "metadata": {
    "collapsed": true
   },
   "outputs": [],
   "source": [
    "import matplotlib.pyplot as plt"
   ]
  },
  {
   "cell_type": "code",
   "execution_count": 156,
   "metadata": {},
   "outputs": [
    {
     "data": {
      "text/plain": [
       "[<matplotlib.lines.Line2D at 0x109c39eb8>]"
      ]
     },
     "execution_count": 156,
     "metadata": {},
     "output_type": "execute_result"
    }
   ],
   "source": [
    "plt.plot(dates, interests) # nothing happens"
   ]
  },
  {
   "cell_type": "code",
   "execution_count": 157,
   "metadata": {
    "collapsed": true
   },
   "outputs": [],
   "source": [
    "%matplotlib inline # some magic"
   ]
  },
  {
   "cell_type": "code",
   "execution_count": 158,
   "metadata": {},
   "outputs": [
    {
     "data": {
      "text/plain": [
       "[<matplotlib.lines.Line2D at 0x1096c6fd0>]"
      ]
     },
     "execution_count": 158,
     "metadata": {},
     "output_type": "execute_result"
    },
    {
     "data": {
      "image/png": "[encoded data removed]",
      "text/plain": [
       "<matplotlib.figure.Figure at 0x109097550>"
      ]
     },
     "metadata": {},
     "output_type": "display_data"
    }
   ],
   "source": [
    "plt.plot(dates, interests) # now we'll see the plot"
   ]
  },
  {
   "cell_type": "code",
   "execution_count": 163,
   "metadata": {},
   "outputs": [
    {
     "data": {
      "text/plain": [
       "<matplotlib.axes._subplots.AxesSubplot at 0x10b2b2f60>"
      ]
     },
     "execution_count": 163,
     "metadata": {},
     "output_type": "execute_result"
    },
    {
     "data": {
      "image/png": "[encoded data removed]",
      "text/plain": [
       "<matplotlib.figure.Figure at 0x10b2efb70>"
      ]
     },
     "metadata": {},
     "output_type": "display_data"
    }
   ],
   "source": [
    "# the same in one line :)\n",
    "import pandas\n",
    "pandas.read_csv('data/trends.csv',\n",
    "                parse_dates=[0])['machine learning'].plot.line()"
   ]
  },
  {
   "cell_type": "code",
   "execution_count": null,
   "metadata": {
    "collapsed": true
   },
   "outputs": [],
   "source": []
  }
 ],
 "metadata": {
  "kernelspec": {
   "display_name": "Python 3",
   "language": "python",
   "name": "python3"
  },
  "language_info": {
   "codemirror_mode": {
    "name": "ipython",
    "version": 3
   },
   "file_extension": ".py",
   "mimetype": "text/x-python",
   "name": "python",
   "nbconvert_exporter": "python",
   "pygments_lexer": "ipython3",
   "version": "3.6.1"
  }
 },
 "nbformat": 4,
 "nbformat_minor": 2
}
