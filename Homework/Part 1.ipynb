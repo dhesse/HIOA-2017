{
 "cells": [
  {
   "cell_type": "markdown",
   "metadata": {},
   "source": [
    "# Python - Guided Exercises\n",
    "\n",
    "These guided exercses help you getting started with Python. Each notebook cell is one task and has a function that you need to fill in (remove the `pass`) and the last line starting with `assert`. The `assert` will cause an error if your function doesn't work correctly."
   ]
  },
  {
   "cell_type": "markdown",
   "metadata": {},
   "source": [
    "## Indexing"
   ]
  },
  {
   "cell_type": "code",
   "execution_count": null,
   "metadata": {
    "collapsed": true
   },
   "outputs": [],
   "source": [
    "# Write a function to reverse an array.\n",
    "def reverse_it(a):\n",
    "    pass\n",
    "assert reverse_it([1,2,3]) == [3,2,1]"
   ]
  },
  {
   "cell_type": "code",
   "execution_count": null,
   "metadata": {
    "collapsed": true
   },
   "outputs": [],
   "source": [
    "# Write a function to remove a three-letter extension (such as .doc) from a file name.\n",
    "def remove_ending(fn):\n",
    "    pass\n",
    "assert remove_ending('file.doc') == 'file'"
   ]
  },
  {
   "cell_type": "code",
   "execution_count": null,
   "metadata": {},
   "outputs": [],
   "source": [
    "# Write a function to remove an arbitrary ending, including the dot, from a file name.\n",
    "def remove_any_ending(fn):\n",
    "    pass\n",
    "assert remove_any_ending('file.markdown') == \"file\""
   ]
  },
  {
   "cell_type": "markdown",
   "metadata": {},
   "source": [
    "## Lists and List comprehensions"
   ]
  },
  {
   "cell_type": "code",
   "execution_count": null,
   "metadata": {},
   "outputs": [],
   "source": [
    "# Write a function that removes the last element from a list and returns its square.\n",
    "def popsq(l):\n",
    "    pass\n",
    "l = [0,1,2,3]\n",
    "assert popsq(l) == 9\n",
    "assert l == [0,1,2]"
   ]
  },
  {
   "cell_type": "code",
   "execution_count": null,
   "metadata": {
    "collapsed": true
   },
   "outputs": [],
   "source": [
    "# Write a function that returns the squares from 1 to (and including) a given number n.\n",
    "def squares(n):\n",
    "    pass\n",
    "assert squares(3) == [1, 4, 9]"
   ]
  },
  {
   "cell_type": "markdown",
   "metadata": {},
   "source": [
    "## Loops and Control Flow"
   ]
  },
  {
   "cell_type": "code",
   "execution_count": null,
   "metadata": {},
   "outputs": [],
   "source": [
    "# Write a function, that returns the product of all the numbers in a list (using a for loop).\n",
    "def prod(seq):\n",
    "    pass\n",
    "assert prod([1,2,3]) == 6"
   ]
  },
  {
   "cell_type": "code",
   "execution_count": null,
   "metadata": {
    "collapsed": true
   },
   "outputs": [],
   "source": [
    "# Write a function that, given a list, adds the numbers in order, up to a maximum value.\n",
    "# If this maximum value is reached, the smallest sum before reaching the limit is returned.\n",
    "def summax(seq, maximum):\n",
    "    pass\n",
    "assert summax([1,2,3], 10) == 6\n",
    "assert summax([1,2,3], 5) == 3"
   ]
  }
 ],
 "metadata": {
  "kernelspec": {
   "display_name": "Python 3",
   "language": "python",
   "name": "python3"
  },
  "language_info": {
   "codemirror_mode": {
    "name": "ipython",
    "version": 3
   },
   "file_extension": ".py",
   "mimetype": "text/x-python",
   "name": "python",
   "nbconvert_exporter": "python",
   "pygments_lexer": "ipython3",
   "version": "3.6.1"
  }
 },
 "nbformat": 4,
 "nbformat_minor": 2
}
