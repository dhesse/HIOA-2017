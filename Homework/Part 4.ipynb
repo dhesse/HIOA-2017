{
 "cells": [
  {
   "cell_type": "code",
   "execution_count": null,
   "metadata": {
    "collapsed": true
   },
   "outputs": [],
   "source": [
    "import unittest\n",
    "import pandas as pd\n",
    "import numpy as np\n",
    "from io import StringIO\n"
   ]
  },
  {
   "cell_type": "code",
   "execution_count": null,
   "metadata": {
    "collapsed": true
   },
   "outputs": [],
   "source": [
    "def read_file_or_buffer(file_or_buffer, delim=','):\n",
    "    \"\"\"Reads a .csv file or buffer with a custom delimiter into a\n",
    "    pandas dataframe.\"\"\"\n",
    "    pass"
   ]
  },
  {
   "cell_type": "code",
   "execution_count": null,
   "metadata": {
    "collapsed": true
   },
   "outputs": [],
   "source": [
    "class TestReadFileOrBuffer(unittest.TestCase):\n",
    "    def test_known_values(self):\n",
    "        \"\"\"Test with a simple example.\"\"\"\n",
    "        file_contents = u\"A,B\\n1,2\\n3,4\\n\"\n",
    "        string_io = StringIO(file_contents)\n",
    "        known = pd.DataFrame({'A': [1,3], 'B': [2,4]})\n",
    "        result = read_file_or_buffer(string_io)\n",
    "        pd.util.testing.assert_frame_equal(known, result)\n",
    "        self.assertIsInstance(result, pd.DataFrame,\n",
    "                              \"Should return DataFrame\")\n",
    "    def test_alternative_delimiter(self):\n",
    "        \"\"\"Test with '|' as delimiter.\"\"\"\n",
    "        file_contents = u\"A|B\\n1|2\\n3|4\\n\"\n",
    "        string_io = StringIO(file_contents)\n",
    "        known = pd.DataFrame({'A': [1,3], 'B': [2,4]})\n",
    "        result = read_file_or_buffer(string_io, '|')\n",
    "        self.assertTrue(all(result == known))\n",
    "        self.assertIsInstance(result, pd.DataFrame)"
   ]
  },
  {
   "cell_type": "code",
   "execution_count": null,
   "metadata": {
    "collapsed": true
   },
   "outputs": [],
   "source": [
    "def add_squared_column(data_frame, column_name):\n",
    "    \"\"\"Adding the square of a row to the data frame. The new column will\n",
    "    be called <old_name>_sq. Will modify the original data frame.\n",
    "\n",
    "    Example:\n",
    "\n",
    "    >>> a = pd.DataFrame({'A': [1,2,3]})\n",
    "    >>> add_squared_column(a, 'A')\n",
    "    >>> a\n",
    "       A  A_sq\n",
    "    0  1     1\n",
    "    1  2     4\n",
    "    2  3     9\n",
    "    \"\"\"\n",
    "    pass"
   ]
  },
  {
   "cell_type": "code",
   "execution_count": null,
   "metadata": {
    "collapsed": true
   },
   "outputs": [],
   "source": [
    "class TestAddSquaredRow(unittest.TestCase):\n",
    "    def test_known_values(self):\n",
    "        \"\"\"Simple known values test.\"\"\"\n",
    "        a = pd.DataFrame({'A': [1,2,3]})\n",
    "        add_squared_column(a, 'A')\n",
    "        known = pd.DataFrame({'A': [1,2,3],\n",
    "                              'A_sq': [1,4,9]})\n",
    "        pd.util.testing.assert_frame_equal(a, known)"
   ]
  },
  {
   "cell_type": "code",
   "execution_count": null,
   "metadata": {
    "collapsed": true
   },
   "outputs": [],
   "source": [
    "def transform(data_frame, new_column_name, f, *fn_args):\n",
    "    \"\"\"Transfom columns of a data frame to make a new column, given a\n",
    "    function. Will modify the original data frame.\n",
    "\n",
    "    Example:\n",
    "    >>> a = pd.DataFrame({'A': [1b\n",
    "    ,2,3],\n",
    "                          'B': [0.1, 0.2, 0.3]})\n",
    "    >>> f = lambda x, y: x + y\n",
    "    >>> transform(a, 'C', f, 'A', 'B')\n",
    "       A    B    C\n",
    "    0  1  0.1  1.1\n",
    "    1  2  0.2  2.2\n",
    "    2  3  0.3  3.3\n",
    "    \"\"\"\n",
    "    pass"
   ]
  },
  {
   "cell_type": "code",
   "execution_count": null,
   "metadata": {
    "collapsed": true
   },
   "outputs": [],
   "source": [
    "class TestTransform(unittest.TestCase):\n",
    "    def test_known_values(self):\n",
    "        a = pd.DataFrame({'A': [1,2,3],\n",
    "                          'B': [0.1, 0.2, 0.3]})\n",
    "        f = lambda x, y: x + y\n",
    "        transform(a, 'C', f, 'A', 'B')\n",
    "        known = pd.DataFrame({'A': [1,2,3],\n",
    "                              'B': [0.1, 0.2, 0.3],\n",
    "                              'C': [1.1, 2.2, 3.3]})\n",
    "        pd.util.testing.assert_frame_equal(a, known)"
   ]
  },
  {
   "cell_type": "code",
   "execution_count": null,
   "metadata": {
    "collapsed": true
   },
   "outputs": [],
   "source": [
    "def MSE(y_pred, y_known):\n",
    "    \"\"\"Calculates a approximation fo the mean squared error, given the\n",
    "    true values of y and predictions (as vectors), i.e. calculates\n",
    "\n",
    "    $$\\sum_{i=1}^n (y_{pred,i} - y_{known, i})^2 / n$$\n",
    "\n",
    "    \"\"\"\n",
    "    pass"
   ]
  },
  {
   "cell_type": "code",
   "execution_count": null,
   "metadata": {
    "collapsed": true
   },
   "outputs": [],
   "source": [
    "class TestMSE(unittest.TestCase):\n",
    "    def test_known_values(self):\n",
    "        y = np.random.standard_normal(20)\n",
    "        yp = np.random.standard_normal(20)\n",
    "        np.testing.assert_almost_equal(\n",
    "            MSE(y, yp), np.mean((y-yp)**2))"
   ]
  },
  {
   "cell_type": "code",
   "execution_count": null,
   "metadata": {
    "collapsed": true
   },
   "outputs": [],
   "source": [
    "def MSE_KNN(X_train, y_train, X_test, y_test, k):\n",
    "    \"\"\"Fits a k-Nearest neighbor regrssion model, using training data\n",
    "    and calculates the mean squared error on a testing data set.\"\"\"\n",
    "    pass"
   ]
  },
  {
   "cell_type": "code",
   "execution_count": null,
   "metadata": {
    "collapsed": true
   },
   "outputs": [],
   "source": [
    "class TestMSE_KNN(unittest.TestCase):\n",
    "    def test_with_training(self):\n",
    "        x = [[i] for i in np.random.standard_normal(20)]\n",
    "        y = np.random.standard_normal(20)\n",
    "        self.assertAlmostEqual(0, MSE_KNN(x,y,x,y,1))"
   ]
  },
  {
   "cell_type": "code",
   "execution_count": null,
   "metadata": {
    "collapsed": true
   },
   "outputs": [],
   "source": [
    "unittest.main(argv=[\"\"], verbosity=2, exit=False)"
   ]
  }
 ],
 "metadata": {
  "kernelspec": {
   "display_name": "Python 3",
   "language": "python",
   "name": "python3"
  },
  "language_info": {
   "codemirror_mode": {
    "name": "ipython",
    "version": 3
   },
   "file_extension": ".py",
   "mimetype": "text/x-python",
   "name": "python",
   "nbconvert_exporter": "python",
   "pygments_lexer": "ipython3",
   "version": "3.6.1"
  }
 },
 "nbformat": 4,
 "nbformat_minor": 2
}
