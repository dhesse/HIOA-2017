{
 "cells": [
  {
   "cell_type": "markdown",
   "metadata": {},
   "source": [
    "# Python - Guided Exercises\n",
    "\n",
    "These guided exercses help you getting started with Python. Each notebook cell is one task and has a function that you need to fill in (remove the `pass`) and the last line starting with `assert`. The `assert` will cause an error if your function doesn't work correctly."
   ]
  },
  {
   "cell_type": "code",
   "execution_count": 31,
   "metadata": {
    "collapsed": true
   },
   "outputs": [],
   "source": [
    "# Write a function that takes a dictionary, a key, and a default\n",
    "# value. If the key is in the dictionary, the stored value should be\n",
    "# returned, else the default one.\n",
    "def get(dictionary, key, default):\n",
    "    return dictionary.get(key, default)\n",
    "assert get({'foo': 'bar'}, 'foo', 42) == 'bar'\n",
    "assert get({'foo': 'bar'}, 'baz', 42) == 42"
   ]
  },
  {
   "cell_type": "code",
   "execution_count": 33,
   "metadata": {},
   "outputs": [],
   "source": [
    "# Write a function that takes a dictionary, a key and a default\n",
    "# value. If the key is in the dictionary, the stored value should be\n",
    "# returned. Else the default value should be returned and stored in\n",
    "# the dictionary under the given key.\n",
    "def get_update(dictionary, key, default):\n",
    "    # the idea is to have a if here. for experts:\n",
    "    return dictionary.setdefault(key, default)\n",
    "d = {'foo': 'bar'}\n",
    "assert get_update(d, 'foo', 42) == 'bar'\n",
    "assert d == {'foo': 'bar'}\n",
    "assert get_update(d, 'baz', 42) == 42\n",
    "assert d == {'foo': 'bar', 'baz': 42}"
   ]
  },
  {
   "cell_type": "code",
   "execution_count": 36,
   "metadata": {},
   "outputs": [],
   "source": [
    "# Write a function that given a maximum number `n` returns a\n",
    "# dictionary containing the keys from 0 to `n`, with the values\n",
    "# corresponding to the sums of the numbers from 0 to the key, i.e.\n",
    "# the value corresponding to 5 should be 1+2+3+4+5 = 15.\n",
    "def get_sums(n):\n",
    "    return {i: sum(range(i)) for i in range(n)} # not optimal...\n",
    "assert get_sums(4) == {0: 0, 1: 0, 2: 1, 3: 3}"
   ]
  },
  {
   "cell_type": "code",
   "execution_count": 8,
   "metadata": {},
   "outputs": [],
   "source": [
    "# Write a Python class calculating the mean value of numbers being\n",
    "# passed one by one to the class. It should have a `put(x)` method\n",
    "# that feeds it a number and a `get()` method returning the mean\n",
    "# value of the numbers passed so far.\n",
    "\n",
    "class MyMean(object):\n",
    "    def __init__(self):\n",
    "        self.n = 0\n",
    "        self.sum = 0\n",
    "    def put(self, x):\n",
    "        self.n += 1\n",
    "        self.sum += x\n",
    "    def get(self):\n",
    "        return self.sum / self.n\n",
    "m = MyMean()\n",
    "for x in range(9):\n",
    "    m.put(x)\n",
    "assert m.get() == 4.0"
   ]
  },
  {
   "cell_type": "code",
   "execution_count": 27,
   "metadata": {
    "collapsed": true
   },
   "outputs": [],
   "source": [
    "# Write another class that calculates in the same way an estimate of\n",
    "# the population variance.\n",
    "\n",
    "class MyVar(object):\n",
    "    def __init__(self):\n",
    "        self.n = 0\n",
    "        self.mean, self.m2 = 0, 0\n",
    "    def put(self, x):\n",
    "        self.n += 1\n",
    "        delta = x - self.mean\n",
    "        self.mean += delta / self.n\n",
    "        delta2 = x - self.mean\n",
    "        self.m2 += delta * delta2\n",
    "    def get(self):\n",
    "        if self.n < 2:\n",
    "            return float('NaN')\n",
    "        return self.m2 / (self.n - 1)\n",
    "m = MyVar()\n",
    "for x in range(11):\n",
    "    m.put(x)\n",
    "assert m.get() == 11.0"
   ]
  },
  {
   "cell_type": "code",
   "execution_count": 30,
   "metadata": {},
   "outputs": [],
   "source": [
    "# *Advanced:* Write a framework class that has an `append(o)` method\n",
    "#   that takes an object like the ones above (i.e. ones that have a\n",
    "#   `put` method to process data and a `get` method to retrieve a\n",
    "#   result). It should itself have a `put(x)` method, which will pass\n",
    "#   the `x` on to all the objects `o` passed to it via `append` and a\n",
    "#   `get` method which will return a list containing the results of the\n",
    "#   `get` calls of all the contained objects.\n",
    "\n",
    "class MyAgg(object):\n",
    "    def __init__(self):\n",
    "        self.aggs = []\n",
    "    def append(self, agg):\n",
    "        self.aggs.append(agg)\n",
    "    def put(self, x):\n",
    "        for agg in self.aggs:\n",
    "            agg.put(x)\n",
    "    def get(self):\n",
    "        return [agg.get() for agg in self.aggs]\n",
    "agg = MyAgg()\n",
    "agg.append(MyMean())\n",
    "agg.append(MyVar())\n",
    "for x in range(11):\n",
    "    agg.put(x)\n",
    "assert agg.get() == [5.0, 11.0]"
   ]
  }
 ],
 "metadata": {
  "kernelspec": {
   "display_name": "Python 3",
   "language": "python",
   "name": "python3"
  },
  "language_info": {
   "codemirror_mode": {
    "name": "ipython",
    "version": 3
   },
   "file_extension": ".py",
   "mimetype": "text/x-python",
   "name": "python",
   "nbconvert_exporter": "python",
   "pygments_lexer": "ipython3",
   "version": "3.6.1"
  }
 },
 "nbformat": 4,
 "nbformat_minor": 2
}
