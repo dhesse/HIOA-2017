{
 "cells": [
  {
   "cell_type": "code",
   "execution_count": null,
   "metadata": {
    "collapsed": true
   },
   "outputs": [],
   "source": [
    "import unittest"
   ]
  },
  {
   "cell_type": "code",
   "execution_count": null,
   "metadata": {
    "collapsed": true
   },
   "outputs": [],
   "source": [
    "def domain_name(url):\n",
    "    \"\"\"Return the domain name of a URL.\n",
    "\n",
    "    Example:\n",
    "    \n",
    "    >>> domain_name('https://www.example.com/news/index.html')\n",
    "    'www.example.com'\n",
    "    \"\"\"\n",
    "    pass"
   ]
  },
  {
   "cell_type": "code",
   "execution_count": null,
   "metadata": {},
   "outputs": [],
   "source": [
    "class TestDomainName(unittest.TestCase):\n",
    "    def test_no_pathl_http(self):\n",
    "        \"\"\"Basic example with HTTP protocol.\"\"\"\n",
    "        self.assertEqual(domain_name('http://subdomain.example.com'),\n",
    "                         'subdomain.example.com')\n",
    "    def test_no_path_https(self):\n",
    "        \"\"\"Basic example with HTTPS protocol.\"\"\"\n",
    "        self.assertEqual(domain_name('https://subdomain.example.com'),\n",
    "                         'subdomain.example.com')\n",
    "    def test_url_with_path(self):\n",
    "        \"\"\"Example with a path.\"\"\"\n",
    "        self.assertEqual(domain_name('http://subdomain.example.com/path/to/page'),\n",
    "                         'subdomain.example.com')"
   ]
  },
  {
   "cell_type": "code",
   "execution_count": null,
   "metadata": {
    "collapsed": true
   },
   "outputs": [],
   "source": [
    "def process_tweet(status):\n",
    "    \"\"\"Return the domain names of all URLS contained in a tweet.\n",
    "\n",
    "    Example:\n",
    "    >>> tweet = {'entities':\n",
    "                   {'urls': [{'expanded_url': \n",
    "                                'http://www.example1.com/path/1'},\n",
    "                             {'expanded_url':\n",
    "                                'http://www.example2.com/path/2'}]}}\n",
    "    >>> process_tweet(tweet)\n",
    "    ['www.example1.com', 'www.example2.com']\n",
    "    \"\"\"  \n",
    "    pass"
   ]
  },
  {
   "cell_type": "code",
   "execution_count": null,
   "metadata": {
    "collapsed": true
   },
   "outputs": [],
   "source": [
    "class TestProcessTweet(unittest.TestCase):\n",
    "    \"\"\"Tests for the process_tweet function.\"\"\"\n",
    "    def setUp(self):\n",
    "        \"\"\"This will be called before every test run.\n",
    "        \n",
    "        After the call, the basic_tweet field will contain an entities\n",
    "        key with some basic required structures.\n",
    "        \"\"\"\n",
    "        self.basic_tweet = {'entities' : {'urls': []}}\n",
    "        \n",
    "    def test_should_return_iterable(self):\n",
    "        \"\"\"Result of process_tweet should be iterable, i.e. a list,\n",
    "        tuple, generator, or similar.\"\"\"\n",
    "        self.assertIsInstance(process_tweet(self.basic_tweet),\n",
    "                              Iterable)\n",
    "    def test_should_return_empty_iter_with_empty_arg(self):\n",
    "        \"\"\"Called with no URLS, the result should be empty.\"\"\"\n",
    "        self.assertEqual(len(process_tweet(self.basic_tweet)), 0)\n",
    "    def test_should_return_passed_urls(self):\n",
    "        \"\"\"Adding some URLS, whose domain names should be returned.\"\"\"\n",
    "        urls = self.basic_tweet['entities']['urls']\n",
    "        urls.append({'expanded_url':\n",
    "                     'http://www.example1.com/path/1'})\n",
    "        urls.append({'expanded_url':\n",
    "                     'http://www.example2.com/path/2'})\n",
    "        self.assertItemsEqual(['www.example1.com',\n",
    "                               'www.example2.com'],\n",
    "                              process_tweet(self.basic_tweet))"
   ]
  },
  {
   "cell_type": "code",
   "execution_count": null,
   "metadata": {
    "collapsed": true
   },
   "outputs": [],
   "source": [
    "def get_most_common_domains(statuses, n = 5):\n",
    "    \"\"\"Given a number of statuses, retrieve the n most commonly linked\n",
    "    URLs.\n",
    "\n",
    "    Example:\n",
    "    >>> tweet = {'entities':\n",
    "                   {'urls': [{'expanded_url': \n",
    "                                'http://www.example1.com/path/1'}]}}\n",
    "    >>> get_most_common_domains([tweet])\n",
    "    >>> [('www.example1.com', 1)]\n",
    "    \"\"\"\n",
    "    pass"
   ]
  },
  {
   "cell_type": "code",
   "execution_count": null,
   "metadata": {
    "collapsed": true
   },
   "outputs": [],
   "source": [
    "class TestGetMostComonDomains(unittest.TestCase):\n",
    "    \"\"\"Tests for the get_most_common_domains function.\"\"\"\n",
    "    def setUp(self):\n",
    "        \"\"\"This will be called before every test run.\n",
    "        \n",
    "        After the call, the basic_tweet field will contain an entities\n",
    "        key with some basic required structures.\n",
    "        \"\"\"\n",
    "        self.basic_tweet = {'entities' : {'urls': []}}\n",
    "    def test_should_return_iterable(self):\n",
    "        \"\"\"Result should be iterable, i.e. a list, tuple, generator,\n",
    "        or similar.\"\"\"\n",
    "        self.assertIsInstance(get_most_common_domains([self.basic_tweet]),\n",
    "                              Iterable)\n",
    "    def test_empty_returns_empty_iterator(self):\n",
    "        \"\"\"Called with no tweets, should return empty iterator.\"\"\"\n",
    "        self.assertEqual(len(get_most_common_domains([])), 0)\n",
    "    def test_one_tweet_one_domain(self):\n",
    "        \"\"\"Test with one tweet and one domain.\"\"\"\n",
    "        urls = self.basic_tweet['entities']['urls']\n",
    "        urls.append({'expanded_url': \n",
    "                     'http://www.example1.com/path/1'})\n",
    "        self.assertEqual(get_most_common_domains([self.basic_tweet]),\n",
    "                         [('www.example1.com', 1)])\n",
    "    def test_with_known_values(self):\n",
    "        \"\"\"Simple test with know values.\"\"\"\n",
    "        urls = ['http://www.example1.com/path/1',\n",
    "                'http://www.example2.com/path/2',\n",
    "                'http://www.example3.com/path/3',\n",
    "                'http://www.example4.com/path/4']\n",
    "        tweets = [copy.deepcopy(self.basic_tweet) for _ in range(len(urls))]\n",
    "        for n, url, tweet in zip(range(len(urls)), urls, tweets):\n",
    "            for i in range(n + 1):\n",
    "                tweet['entities']['urls'].append({'expanded_url': url})\n",
    "        result = get_most_common_domains(tweets)\n",
    "        known = [('www.example{}.com'.format(i), i) for i in\n",
    "                 (1,2,3,4)]\n",
    "        self.assertItemsEqual(result, known)\n",
    "    def test_should_not_return_more_than_n(self):\n",
    "        \"\"\"Make sure the n argument is obeyed.\"\"\"\n",
    "        urls = ['http://www.example1.com/path/1',\n",
    "                'http://www.example2.com/path/2',\n",
    "                'http://www.example3.com/path/3',\n",
    "                'http://www.example4.com/path/4']\n",
    "        tweets = [copy.deepcopy(self.basic_tweet) for _ in range(len(urls))]\n",
    "        for n, url, tweet in zip(range(len(urls)), urls, tweets):\n",
    "            for i in range(n + 1):\n",
    "                tweet['entities']['urls'].append({'expanded_url': url})\n",
    "        result = get_most_common_domains(tweets, 2)\n",
    "        known = [('www.example{}.com'.format(i), i) for i in\n",
    "                 (3,4)]\n",
    "        self.assertItemsEqual(result, known)"
   ]
  },
  {
   "cell_type": "code",
   "execution_count": null,
   "metadata": {
    "collapsed": true
   },
   "outputs": [],
   "source": [
    "unittest.main(argv=[''], exit=False)"
   ]
  }
 ],
 "metadata": {
  "kernelspec": {
   "display_name": "Python 3",
   "language": "python",
   "name": "python3"
  },
  "language_info": {
   "codemirror_mode": {
    "name": "ipython",
    "version": 3
   },
   "file_extension": ".py",
   "mimetype": "text/x-python",
   "name": "python",
   "nbconvert_exporter": "python",
   "pygments_lexer": "ipython3",
   "version": "3.6.1"
  }
 },
 "nbformat": 4,
 "nbformat_minor": 2
}
